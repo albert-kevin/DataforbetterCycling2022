{
 "cells": [
  {
   "cell_type": "code",
   "execution_count": 56,
   "id": "9d0ec86c",
   "metadata": {},
   "outputs": [],
   "source": [
    "import numpy as np\n",
    "import pandas as pd\n",
    "import dtale\n",
    "import pandas_profiling as pp\n",
    "from IPython.display import Javascript\n",
    "from plotly.offline import iplot, init_notebook_mode"
   ]
  },
  {
   "cell_type": "code",
   "execution_count": 2,
   "id": "1f33177f",
   "metadata": {},
   "outputs": [],
   "source": [
    "# load the dataset\n",
    "accident_victims_2019_df = pd.read_parquet(\"../../data/silver/accident_victims_2019_df.parquet\")"
   ]
  },
  {
   "cell_type": "code",
   "execution_count": 3,
   "id": "bb554b94",
   "metadata": {},
   "outputs": [
    {
     "name": "stdout",
     "output_type": "stream",
     "text": [
      "<class 'pandas.core.frame.DataFrame'>\n",
      "RangeIndex: 85607 entries, 0 to 85606\n",
      "Data columns (total 43 columns):\n",
      " #   Column                     Non-Null Count  Dtype         \n",
      "---  ------                     --------------  -----         \n",
      " 0   DT_DAY                     85607 non-null  datetime64[ns]\n",
      " 1   DT_HOUR                    85607 non-null  Int64         \n",
      " 2   CD_DAY_OF_WEEK             85607 non-null  Int64         \n",
      " 3   TX_DAY_OF_WEEK_DESCR_FR    85607 non-null  string        \n",
      " 4   TX_DAY_OF_WEEK_DESCR_NL    85607 non-null  string        \n",
      " 5   MS_VICT                    85607 non-null  Int64         \n",
      " 6   MS_VIC_OK                  85607 non-null  Int64         \n",
      " 7   MS_SLY_INJ                 85607 non-null  Int64         \n",
      " 8   MS_SERLY_INJ               85607 non-null  Int64         \n",
      " 9   MS_DEAD_30_DAYS            85607 non-null  Int64         \n",
      " 10  CD_BUILD_UP_AREA           85607 non-null  Int64         \n",
      " 11  TX_BUILD_UP_AREA_DESCR_NL  85607 non-null  string        \n",
      " 12  TX_BUILD_UP_AREA_DESCR_FR  85607 non-null  string        \n",
      " 13  CD_VICT_TYPE               85607 non-null  Int64         \n",
      " 14  TX_VICT_TYPE_DESCR_FR      85607 non-null  string        \n",
      " 15  TX_VICT_TYPE_DESCR_NL      85607 non-null  string        \n",
      " 16  CD_ROAD_USER_TYPE          85607 non-null  Int64         \n",
      " 17  TX_ROAD_USR_TYPE_DESCR_FR  85607 non-null  string        \n",
      " 18  TX_ROAD_USR_TYPE_DESCR_NL  85607 non-null  string        \n",
      " 19  CD_ROAD_TYPE               85607 non-null  Int64         \n",
      " 20  TX_ROAD_TYPE_DESCR_FR      85607 non-null  string        \n",
      " 21  TX_ROAD_TYPE_DESCR_NL      85607 non-null  string        \n",
      " 22  CD_LIGHT_COND              85607 non-null  Int64         \n",
      " 23  TX_LIGHT_COND_DESCR_FR     85607 non-null  string        \n",
      " 24  TX_LIGHT_COND_DESCR_NL     85607 non-null  string        \n",
      " 25  CD_AGE_CLS                 85607 non-null  Int64         \n",
      " 26  TX_AGE_CLS_DESCR_FR        85607 non-null  string        \n",
      " 27  TX_AGE_CLS_DESCR_NL        85607 non-null  string        \n",
      " 28  CD_MUNTY_REFNIS            85607 non-null  Int64         \n",
      " 29  TX_MUNTY_DESCR_FR          85607 non-null  string        \n",
      " 30  TX_MUNTY_DESCR_NL          85607 non-null  string        \n",
      " 31  CD_DSTR_REFNIS             85607 non-null  Int64         \n",
      " 32  TX_ADM_DSTR_DESCR_FR       85607 non-null  string        \n",
      " 33  TX_ADM_DSTR_DESCR_NL       85607 non-null  string        \n",
      " 34  CD_PROV_REFNIS             76907 non-null  Int64         \n",
      " 35  TX_PROV_DESCR_FR           76907 non-null  string        \n",
      " 36  TX_PROV_DESCR_NL           76907 non-null  string        \n",
      " 37  CD_RGN_REFNIS              85607 non-null  Int64         \n",
      " 38  TX_RGN_DESCR_FR            85607 non-null  string        \n",
      " 39  TX_RGN_DESCR_NL            85607 non-null  string        \n",
      " 40  CD_SEX                     85605 non-null  Int64         \n",
      " 41  TX_SEX_DESCR_FR            85605 non-null  string        \n",
      " 42  TX_SEX_DESCR_NL            85605 non-null  string        \n",
      "dtypes: Int64(18), datetime64[ns](1), string(24)\n",
      "memory usage: 29.6 MB\n"
     ]
    }
   ],
   "source": [
    "accident_victims_2019_df.info()"
   ]
  },
  {
   "cell_type": "code",
   "execution_count": 4,
   "id": "aaa69ed2",
   "metadata": {},
   "outputs": [],
   "source": [
    "# remove any duplicate values\n",
    "accident_victims_2019_df = accident_victims_2019_df.drop_duplicates().reset_index(drop=True)"
   ]
  },
  {
   "cell_type": "markdown",
   "id": "2e5e3225",
   "metadata": {},
   "source": [
    "# keep only the victim type 'bicycle' users"
   ]
  },
  {
   "cell_type": "code",
   "execution_count": 5,
   "id": "fc20f55f",
   "metadata": {},
   "outputs": [],
   "source": [
    "# remove all other records, keep only the victim type 'bicycle' type \n",
    "accident_victims_2019_df = accident_victims_2019_df[(accident_victims_2019_df['TX_VICT_TYPE_DESCR_NL'] == 'Fietser')]"
   ]
  },
  {
   "cell_type": "code",
   "execution_count": 6,
   "id": "bc9cb9ae",
   "metadata": {},
   "outputs": [],
   "source": [
    "# select only a few important columns (date, vilage, ...)\n",
    "accident_per_day_2019_df = accident_victims_2019_df[[\"DT_DAY\", \"TX_BUILD_UP_AREA_DESCR_NL\", \"CD_ROAD_USER_TYPE\", \"TX_ROAD_TYPE_DESCR_NL\", \"TX_LIGHT_COND_DESCR_NL\", \"TX_AGE_CLS_DESCR_NL\", \"TX_MUNTY_DESCR_NL\"]]"
   ]
  },
  {
   "cell_type": "code",
   "execution_count": 7,
   "id": "c9684485",
   "metadata": {},
   "outputs": [
    {
     "name": "stdout",
     "output_type": "stream",
     "text": [
      "<class 'pandas.core.frame.DataFrame'>\n",
      "Int64Index: 11368 entries, 6 to 85501\n",
      "Data columns (total 7 columns):\n",
      " #   Column                     Non-Null Count  Dtype         \n",
      "---  ------                     --------------  -----         \n",
      " 0   DT_DAY                     11368 non-null  datetime64[ns]\n",
      " 1   TX_BUILD_UP_AREA_DESCR_NL  11368 non-null  string        \n",
      " 2   CD_ROAD_USER_TYPE          11368 non-null  Int64         \n",
      " 3   TX_ROAD_TYPE_DESCR_NL      11368 non-null  string        \n",
      " 4   TX_LIGHT_COND_DESCR_NL     11368 non-null  string        \n",
      " 5   TX_AGE_CLS_DESCR_NL        11368 non-null  string        \n",
      " 6   TX_MUNTY_DESCR_NL          11368 non-null  string        \n",
      "dtypes: Int64(1), datetime64[ns](1), string(5)\n",
      "memory usage: 721.6 KB\n"
     ]
    }
   ],
   "source": [
    "accident_per_day_2019_df.info()"
   ]
  },
  {
   "cell_type": "code",
   "execution_count": 8,
   "id": "b50d0e70",
   "metadata": {},
   "outputs": [
    {
     "data": {
      "text/html": [
       "<div>\n",
       "<style scoped>\n",
       "    .dataframe tbody tr th:only-of-type {\n",
       "        vertical-align: middle;\n",
       "    }\n",
       "\n",
       "    .dataframe tbody tr th {\n",
       "        vertical-align: top;\n",
       "    }\n",
       "\n",
       "    .dataframe thead th {\n",
       "        text-align: right;\n",
       "    }\n",
       "</style>\n",
       "<table border=\"1\" class=\"dataframe\">\n",
       "  <thead>\n",
       "    <tr style=\"text-align: right;\">\n",
       "      <th></th>\n",
       "      <th>DT_DAY</th>\n",
       "      <th>TX_BUILD_UP_AREA_DESCR_NL</th>\n",
       "      <th>CD_ROAD_USER_TYPE</th>\n",
       "      <th>TX_ROAD_TYPE_DESCR_NL</th>\n",
       "      <th>TX_LIGHT_COND_DESCR_NL</th>\n",
       "      <th>TX_AGE_CLS_DESCR_NL</th>\n",
       "      <th>TX_MUNTY_DESCR_NL</th>\n",
       "    </tr>\n",
       "  </thead>\n",
       "  <tbody>\n",
       "    <tr>\n",
       "      <th>6</th>\n",
       "      <td>2019-12-11</td>\n",
       "      <td>Buiten bebouwde kom</td>\n",
       "      <td>25</td>\n",
       "      <td>Gemeenteweg</td>\n",
       "      <td>Nacht, ontstoken openbare verlichting</td>\n",
       "      <td>35 tot 39 jaar</td>\n",
       "      <td>Aartselaar</td>\n",
       "    </tr>\n",
       "    <tr>\n",
       "      <th>7</th>\n",
       "      <td>2019-11-26</td>\n",
       "      <td>Buiten bebouwde kom</td>\n",
       "      <td>18</td>\n",
       "      <td>Gewestweg</td>\n",
       "      <td>Bij klaarlichte dag</td>\n",
       "      <td>55 tot 59 jaar</td>\n",
       "      <td>Aartselaar</td>\n",
       "    </tr>\n",
       "    <tr>\n",
       "      <th>13</th>\n",
       "      <td>2019-11-14</td>\n",
       "      <td>Binnen bebouwde kom</td>\n",
       "      <td>18</td>\n",
       "      <td>Gemeenteweg</td>\n",
       "      <td>Nacht, ontstoken openbare verlichting</td>\n",
       "      <td>35 tot 39 jaar</td>\n",
       "      <td>Aartselaar</td>\n",
       "    </tr>\n",
       "    <tr>\n",
       "      <th>16</th>\n",
       "      <td>2019-11-07</td>\n",
       "      <td>Binnen bebouwde kom</td>\n",
       "      <td>18</td>\n",
       "      <td>Gemeenteweg</td>\n",
       "      <td>Dageraad - schemering</td>\n",
       "      <td>55 tot 59 jaar</td>\n",
       "      <td>Aartselaar</td>\n",
       "    </tr>\n",
       "    <tr>\n",
       "      <th>17</th>\n",
       "      <td>2019-10-18</td>\n",
       "      <td>Buiten bebouwde kom</td>\n",
       "      <td>25</td>\n",
       "      <td>Gemeenteweg</td>\n",
       "      <td>Bij klaarlichte dag</td>\n",
       "      <td>45 tot 49 jaar</td>\n",
       "      <td>Aartselaar</td>\n",
       "    </tr>\n",
       "    <tr>\n",
       "      <th>...</th>\n",
       "      <td>...</td>\n",
       "      <td>...</td>\n",
       "      <td>...</td>\n",
       "      <td>...</td>\n",
       "      <td>...</td>\n",
       "      <td>...</td>\n",
       "      <td>...</td>\n",
       "    </tr>\n",
       "    <tr>\n",
       "      <th>85329</th>\n",
       "      <td>2019-07-03</td>\n",
       "      <td>Binnen bebouwde kom</td>\n",
       "      <td>18</td>\n",
       "      <td>Gewestweg</td>\n",
       "      <td>Bij klaarlichte dag</td>\n",
       "      <td>25 tot 29 jaar</td>\n",
       "      <td>Florennes</td>\n",
       "    </tr>\n",
       "    <tr>\n",
       "      <th>85373</th>\n",
       "      <td>2019-12-30</td>\n",
       "      <td>Binnen bebouwde kom</td>\n",
       "      <td>18</td>\n",
       "      <td>Gemeenteweg</td>\n",
       "      <td>Bij klaarlichte dag</td>\n",
       "      <td>20 tot 24 jaar</td>\n",
       "      <td>Florennes</td>\n",
       "    </tr>\n",
       "    <tr>\n",
       "      <th>85375</th>\n",
       "      <td>2019-11-21</td>\n",
       "      <td>Binnen bebouwde kom</td>\n",
       "      <td>18</td>\n",
       "      <td>Gemeenteweg</td>\n",
       "      <td>Bij klaarlichte dag</td>\n",
       "      <td>10 tot 14 jaar</td>\n",
       "      <td>Florennes</td>\n",
       "    </tr>\n",
       "    <tr>\n",
       "      <th>85469</th>\n",
       "      <td>2019-09-04</td>\n",
       "      <td>Binnen bebouwde kom</td>\n",
       "      <td>18</td>\n",
       "      <td>Gemeenteweg</td>\n",
       "      <td>Bij klaarlichte dag</td>\n",
       "      <td>45 tot 49 jaar</td>\n",
       "      <td>Walcourt</td>\n",
       "    </tr>\n",
       "    <tr>\n",
       "      <th>85501</th>\n",
       "      <td>2019-05-10</td>\n",
       "      <td>Binnen bebouwde kom</td>\n",
       "      <td>18</td>\n",
       "      <td>Gewestweg</td>\n",
       "      <td>Bij klaarlichte dag</td>\n",
       "      <td>50 tot 54 jaar</td>\n",
       "      <td>Walcourt</td>\n",
       "    </tr>\n",
       "  </tbody>\n",
       "</table>\n",
       "<p>11368 rows × 7 columns</p>\n",
       "</div>"
      ],
      "text/plain": [
       "          DT_DAY TX_BUILD_UP_AREA_DESCR_NL  CD_ROAD_USER_TYPE  \\\n",
       "6     2019-12-11       Buiten bebouwde kom                 25   \n",
       "7     2019-11-26       Buiten bebouwde kom                 18   \n",
       "13    2019-11-14       Binnen bebouwde kom                 18   \n",
       "16    2019-11-07       Binnen bebouwde kom                 18   \n",
       "17    2019-10-18       Buiten bebouwde kom                 25   \n",
       "...          ...                       ...                ...   \n",
       "85329 2019-07-03       Binnen bebouwde kom                 18   \n",
       "85373 2019-12-30       Binnen bebouwde kom                 18   \n",
       "85375 2019-11-21       Binnen bebouwde kom                 18   \n",
       "85469 2019-09-04       Binnen bebouwde kom                 18   \n",
       "85501 2019-05-10       Binnen bebouwde kom                 18   \n",
       "\n",
       "      TX_ROAD_TYPE_DESCR_NL                 TX_LIGHT_COND_DESCR_NL  \\\n",
       "6               Gemeenteweg  Nacht, ontstoken openbare verlichting   \n",
       "7                 Gewestweg                    Bij klaarlichte dag   \n",
       "13              Gemeenteweg  Nacht, ontstoken openbare verlichting   \n",
       "16              Gemeenteweg                  Dageraad - schemering   \n",
       "17              Gemeenteweg                    Bij klaarlichte dag   \n",
       "...                     ...                                    ...   \n",
       "85329             Gewestweg                    Bij klaarlichte dag   \n",
       "85373           Gemeenteweg                    Bij klaarlichte dag   \n",
       "85375           Gemeenteweg                    Bij klaarlichte dag   \n",
       "85469           Gemeenteweg                    Bij klaarlichte dag   \n",
       "85501             Gewestweg                    Bij klaarlichte dag   \n",
       "\n",
       "      TX_AGE_CLS_DESCR_NL TX_MUNTY_DESCR_NL  \n",
       "6          35 tot 39 jaar        Aartselaar  \n",
       "7          55 tot 59 jaar        Aartselaar  \n",
       "13         35 tot 39 jaar        Aartselaar  \n",
       "16         55 tot 59 jaar        Aartselaar  \n",
       "17         45 tot 49 jaar        Aartselaar  \n",
       "...                   ...               ...  \n",
       "85329      25 tot 29 jaar         Florennes  \n",
       "85373      20 tot 24 jaar         Florennes  \n",
       "85375      10 tot 14 jaar         Florennes  \n",
       "85469      45 tot 49 jaar          Walcourt  \n",
       "85501      50 tot 54 jaar          Walcourt  \n",
       "\n",
       "[11368 rows x 7 columns]"
      ]
     },
     "execution_count": 8,
     "metadata": {},
     "output_type": "execute_result"
    }
   ],
   "source": [
    "accident_per_day_2019_df"
   ]
  },
  {
   "cell_type": "markdown",
   "id": "2222630e",
   "metadata": {},
   "source": [
    "## count is the right function to use\n",
    "but, we need the number of incidents that day"
   ]
  },
  {
   "cell_type": "code",
   "execution_count": 9,
   "id": "552b3aad",
   "metadata": {},
   "outputs": [
    {
     "data": {
      "text/html": [
       "<div>\n",
       "<style scoped>\n",
       "    .dataframe tbody tr th:only-of-type {\n",
       "        vertical-align: middle;\n",
       "    }\n",
       "\n",
       "    .dataframe tbody tr th {\n",
       "        vertical-align: top;\n",
       "    }\n",
       "\n",
       "    .dataframe thead th {\n",
       "        text-align: right;\n",
       "    }\n",
       "</style>\n",
       "<table border=\"1\" class=\"dataframe\">\n",
       "  <thead>\n",
       "    <tr style=\"text-align: right;\">\n",
       "      <th></th>\n",
       "      <th>DT_DAY</th>\n",
       "      <th>TX_MUNTY_DESCR_NL</th>\n",
       "      <th>nr_of_accidents</th>\n",
       "    </tr>\n",
       "  </thead>\n",
       "  <tbody>\n",
       "    <tr>\n",
       "      <th>5364</th>\n",
       "      <td>2019-08-26</td>\n",
       "      <td>Antwerpen</td>\n",
       "      <td>13</td>\n",
       "    </tr>\n",
       "    <tr>\n",
       "      <th>5487</th>\n",
       "      <td>2019-08-30</td>\n",
       "      <td>Antwerpen</td>\n",
       "      <td>13</td>\n",
       "    </tr>\n",
       "    <tr>\n",
       "      <th>6766</th>\n",
       "      <td>2019-10-16</td>\n",
       "      <td>Antwerpen</td>\n",
       "      <td>13</td>\n",
       "    </tr>\n",
       "    <tr>\n",
       "      <th>3461</th>\n",
       "      <td>2019-06-17</td>\n",
       "      <td>Antwerpen</td>\n",
       "      <td>12</td>\n",
       "    </tr>\n",
       "    <tr>\n",
       "      <th>7919</th>\n",
       "      <td>2019-12-05</td>\n",
       "      <td>Antwerpen</td>\n",
       "      <td>12</td>\n",
       "    </tr>\n",
       "    <tr>\n",
       "      <th>...</th>\n",
       "      <td>...</td>\n",
       "      <td>...</td>\n",
       "      <td>...</td>\n",
       "    </tr>\n",
       "    <tr>\n",
       "      <th>8338</th>\n",
       "      <td>2019-12-31</td>\n",
       "      <td>Schoten</td>\n",
       "      <td>1</td>\n",
       "    </tr>\n",
       "    <tr>\n",
       "      <th>8337</th>\n",
       "      <td>2019-12-31</td>\n",
       "      <td>Roeselare</td>\n",
       "      <td>1</td>\n",
       "    </tr>\n",
       "    <tr>\n",
       "      <th>8336</th>\n",
       "      <td>2019-12-31</td>\n",
       "      <td>Middelkerke</td>\n",
       "      <td>1</td>\n",
       "    </tr>\n",
       "    <tr>\n",
       "      <th>8335</th>\n",
       "      <td>2019-12-31</td>\n",
       "      <td>Heusden-Zolder</td>\n",
       "      <td>1</td>\n",
       "    </tr>\n",
       "    <tr>\n",
       "      <th>8334</th>\n",
       "      <td>2019-12-31</td>\n",
       "      <td>Borsbeek</td>\n",
       "      <td>1</td>\n",
       "    </tr>\n",
       "  </tbody>\n",
       "</table>\n",
       "<p>8341 rows × 3 columns</p>\n",
       "</div>"
      ],
      "text/plain": [
       "         DT_DAY TX_MUNTY_DESCR_NL  nr_of_accidents\n",
       "5364 2019-08-26         Antwerpen               13\n",
       "5487 2019-08-30         Antwerpen               13\n",
       "6766 2019-10-16         Antwerpen               13\n",
       "3461 2019-06-17         Antwerpen               12\n",
       "7919 2019-12-05         Antwerpen               12\n",
       "...         ...               ...              ...\n",
       "8338 2019-12-31           Schoten                1\n",
       "8337 2019-12-31         Roeselare                1\n",
       "8336 2019-12-31       Middelkerke                1\n",
       "8335 2019-12-31    Heusden-Zolder                1\n",
       "8334 2019-12-31          Borsbeek                1\n",
       "\n",
       "[8341 rows x 3 columns]"
      ]
     },
     "execution_count": 9,
     "metadata": {},
     "output_type": "execute_result"
    }
   ],
   "source": [
    "# sort date first, then sort on vilagename, then group these two and count() the number of incidents that occured\n",
    "# then create a new dataframe and sort the results with the most accidents on a given day first \n",
    "groupby_accident_per_day_2019_df = accident_per_day_2019_df.groupby(['DT_DAY', 'TX_MUNTY_DESCR_NL'])['TX_ROAD_TYPE_DESCR_NL'].count().to_frame(name='nr_of_accidents').reset_index()\n",
    "groupby_accident_per_day_2019_df = groupby_accident_per_day_2019_df.sort_values(by=['nr_of_accidents', 'DT_DAY', 'TX_MUNTY_DESCR_NL'], ascending=[False, True, False])\n",
    "groupby_accident_per_day_2019_df"
   ]
  },
  {
   "cell_type": "code",
   "execution_count": 10,
   "id": "49646d72",
   "metadata": {},
   "outputs": [
    {
     "data": {
      "text/html": [
       "<div>\n",
       "<style scoped>\n",
       "    .dataframe tbody tr th:only-of-type {\n",
       "        vertical-align: middle;\n",
       "    }\n",
       "\n",
       "    .dataframe tbody tr th {\n",
       "        vertical-align: top;\n",
       "    }\n",
       "\n",
       "    .dataframe thead th {\n",
       "        text-align: right;\n",
       "    }\n",
       "</style>\n",
       "<table border=\"1\" class=\"dataframe\">\n",
       "  <thead>\n",
       "    <tr style=\"text-align: right;\">\n",
       "      <th></th>\n",
       "      <th>DT_DAY</th>\n",
       "      <th>TX_MUNTY_DESCR_NL</th>\n",
       "      <th>nr_of_accidents</th>\n",
       "    </tr>\n",
       "  </thead>\n",
       "  <tbody>\n",
       "    <tr>\n",
       "      <th>10</th>\n",
       "      <td>2019-01-02</td>\n",
       "      <td>Antwerpen</td>\n",
       "      <td>1</td>\n",
       "    </tr>\n",
       "    <tr>\n",
       "      <th>39</th>\n",
       "      <td>2019-01-04</td>\n",
       "      <td>Antwerpen</td>\n",
       "      <td>3</td>\n",
       "    </tr>\n",
       "    <tr>\n",
       "      <th>46</th>\n",
       "      <td>2019-01-05</td>\n",
       "      <td>Antwerpen</td>\n",
       "      <td>2</td>\n",
       "    </tr>\n",
       "    <tr>\n",
       "      <th>61</th>\n",
       "      <td>2019-01-07</td>\n",
       "      <td>Antwerpen</td>\n",
       "      <td>4</td>\n",
       "    </tr>\n",
       "    <tr>\n",
       "      <th>81</th>\n",
       "      <td>2019-01-08</td>\n",
       "      <td>Antwerpen</td>\n",
       "      <td>3</td>\n",
       "    </tr>\n",
       "    <tr>\n",
       "      <th>...</th>\n",
       "      <td>...</td>\n",
       "      <td>...</td>\n",
       "      <td>...</td>\n",
       "    </tr>\n",
       "    <tr>\n",
       "      <th>8268</th>\n",
       "      <td>2019-12-24</td>\n",
       "      <td>Antwerpen</td>\n",
       "      <td>1</td>\n",
       "    </tr>\n",
       "    <tr>\n",
       "      <th>8282</th>\n",
       "      <td>2019-12-26</td>\n",
       "      <td>Antwerpen</td>\n",
       "      <td>2</td>\n",
       "    </tr>\n",
       "    <tr>\n",
       "      <th>8291</th>\n",
       "      <td>2019-12-27</td>\n",
       "      <td>Antwerpen</td>\n",
       "      <td>1</td>\n",
       "    </tr>\n",
       "    <tr>\n",
       "      <th>8308</th>\n",
       "      <td>2019-12-29</td>\n",
       "      <td>Antwerpen</td>\n",
       "      <td>2</td>\n",
       "    </tr>\n",
       "    <tr>\n",
       "      <th>8313</th>\n",
       "      <td>2019-12-30</td>\n",
       "      <td>Antwerpen</td>\n",
       "      <td>4</td>\n",
       "    </tr>\n",
       "  </tbody>\n",
       "</table>\n",
       "<p>313 rows × 3 columns</p>\n",
       "</div>"
      ],
      "text/plain": [
       "         DT_DAY TX_MUNTY_DESCR_NL  nr_of_accidents\n",
       "10   2019-01-02         Antwerpen                1\n",
       "39   2019-01-04         Antwerpen                3\n",
       "46   2019-01-05         Antwerpen                2\n",
       "61   2019-01-07         Antwerpen                4\n",
       "81   2019-01-08         Antwerpen                3\n",
       "...         ...               ...              ...\n",
       "8268 2019-12-24         Antwerpen                1\n",
       "8282 2019-12-26         Antwerpen                2\n",
       "8291 2019-12-27         Antwerpen                1\n",
       "8308 2019-12-29         Antwerpen                2\n",
       "8313 2019-12-30         Antwerpen                4\n",
       "\n",
       "[313 rows x 3 columns]"
      ]
     },
     "execution_count": 10,
     "metadata": {},
     "output_type": "execute_result"
    }
   ],
   "source": [
    "# this was to check and verify the correctness of the results - ALL GOOD\n",
    "groupby_accident_per_day_2019_df[groupby_accident_per_day_2019_df[\"TX_MUNTY_DESCR_NL\"] == 'Antwerpen'].sort_values(by=['DT_DAY'], ascending=[True])"
   ]
  },
  {
   "cell_type": "markdown",
   "id": "86155f81",
   "metadata": {},
   "source": [
    "# so now, we calculate the accidents/cyclists RATIO"
   ]
  },
  {
   "cell_type": "code",
   "execution_count": 11,
   "id": "1ee938f5",
   "metadata": {},
   "outputs": [],
   "source": [
    "# load population values\n",
    "village_populations_wiki_df = pd.read_parquet(\"../../data/silver/village_populations_wiki_df.parquet\")"
   ]
  },
  {
   "cell_type": "code",
   "execution_count": 12,
   "id": "3535c910",
   "metadata": {},
   "outputs": [],
   "source": [
    "# village_populations_wiki_df.columns = [\"Village\", \"Population\", \"km2_size\"]"
   ]
  },
  {
   "cell_type": "code",
   "execution_count": 13,
   "id": "81997672",
   "metadata": {},
   "outputs": [
    {
     "data": {
      "text/html": [
       "<div>\n",
       "<style scoped>\n",
       "    .dataframe tbody tr th:only-of-type {\n",
       "        vertical-align: middle;\n",
       "    }\n",
       "\n",
       "    .dataframe tbody tr th {\n",
       "        vertical-align: top;\n",
       "    }\n",
       "\n",
       "    .dataframe thead th {\n",
       "        text-align: right;\n",
       "    }\n",
       "</style>\n",
       "<table border=\"1\" class=\"dataframe\">\n",
       "  <thead>\n",
       "    <tr style=\"text-align: right;\">\n",
       "      <th></th>\n",
       "      <th>Village</th>\n",
       "      <th>Population</th>\n",
       "      <th>km2_size</th>\n",
       "    </tr>\n",
       "  </thead>\n",
       "  <tbody>\n",
       "    <tr>\n",
       "      <th>0</th>\n",
       "      <td>Antwerpen</td>\n",
       "      <td>446525</td>\n",
       "      <td>204,51</td>\n",
       "    </tr>\n",
       "    <tr>\n",
       "      <th>1</th>\n",
       "      <td>Gent</td>\n",
       "      <td>224180</td>\n",
       "      <td>156,18</td>\n",
       "    </tr>\n",
       "    <tr>\n",
       "      <th>2</th>\n",
       "      <td>Charleroi</td>\n",
       "      <td>200827</td>\n",
       "      <td>102,08</td>\n",
       "    </tr>\n",
       "    <tr>\n",
       "      <th>3</th>\n",
       "      <td>Luik</td>\n",
       "      <td>185639</td>\n",
       "      <td>69,39</td>\n",
       "    </tr>\n",
       "    <tr>\n",
       "      <th>4</th>\n",
       "      <td>Brussel</td>\n",
       "      <td>133859</td>\n",
       "      <td>32,61</td>\n",
       "    </tr>\n",
       "    <tr>\n",
       "      <th>...</th>\n",
       "      <td>...</td>\n",
       "      <td>...</td>\n",
       "      <td>...</td>\n",
       "    </tr>\n",
       "    <tr>\n",
       "      <th>576</th>\n",
       "      <td>Martelange</td>\n",
       "      <td>1428</td>\n",
       "      <td>29,67</td>\n",
       "    </tr>\n",
       "    <tr>\n",
       "      <th>577</th>\n",
       "      <td>Herbeumont</td>\n",
       "      <td>1434</td>\n",
       "      <td>58,81</td>\n",
       "    </tr>\n",
       "    <tr>\n",
       "      <th>578</th>\n",
       "      <td>Daverdisse</td>\n",
       "      <td>1360</td>\n",
       "      <td>56,40</td>\n",
       "    </tr>\n",
       "    <tr>\n",
       "      <th>579</th>\n",
       "      <td>Mesen</td>\n",
       "      <td>964</td>\n",
       "      <td>3,58</td>\n",
       "    </tr>\n",
       "    <tr>\n",
       "      <th>580</th>\n",
       "      <td>Herstappe</td>\n",
       "      <td>85</td>\n",
       "      <td>1,35</td>\n",
       "    </tr>\n",
       "  </tbody>\n",
       "</table>\n",
       "<p>581 rows × 3 columns</p>\n",
       "</div>"
      ],
      "text/plain": [
       "        Village  Population km2_size\n",
       "0     Antwerpen      446525   204,51\n",
       "1          Gent      224180   156,18\n",
       "2     Charleroi      200827   102,08\n",
       "3          Luik      185639    69,39\n",
       "4       Brussel      133859    32,61\n",
       "..          ...         ...      ...\n",
       "576  Martelange        1428    29,67\n",
       "577  Herbeumont        1434    58,81\n",
       "578  Daverdisse        1360    56,40\n",
       "579       Mesen         964     3,58\n",
       "580   Herstappe          85     1,35\n",
       "\n",
       "[581 rows x 3 columns]"
      ]
     },
     "execution_count": 13,
     "metadata": {},
     "output_type": "execute_result"
    }
   ],
   "source": [
    "village_populations_wiki_df"
   ]
  },
  {
   "cell_type": "code",
   "execution_count": 14,
   "id": "495702a7",
   "metadata": {},
   "outputs": [],
   "source": [
    "village_populations_wiki_df['km2_size'] = village_populations_wiki_df['km2_size'].str[:-3:].astype(int)"
   ]
  },
  {
   "cell_type": "code",
   "execution_count": 15,
   "id": "35df5c0f",
   "metadata": {},
   "outputs": [
    {
     "name": "stdout",
     "output_type": "stream",
     "text": [
      "<class 'pandas.core.frame.DataFrame'>\n",
      "RangeIndex: 581 entries, 0 to 580\n",
      "Data columns (total 3 columns):\n",
      " #   Column      Non-Null Count  Dtype \n",
      "---  ------      --------------  ----- \n",
      " 0   Village     581 non-null    string\n",
      " 1   Population  581 non-null    Int64 \n",
      " 2   km2_size    581 non-null    int64 \n",
      "dtypes: Int64(1), int64(1), string(1)\n",
      "memory usage: 14.3 KB\n"
     ]
    }
   ],
   "source": [
    "village_populations_wiki_df.info()"
   ]
  },
  {
   "cell_type": "markdown",
   "id": "2f317e78",
   "metadata": {},
   "source": [
    "# now we calculate the ratio"
   ]
  },
  {
   "cell_type": "code",
   "execution_count": 16,
   "id": "50ee2fd2",
   "metadata": {},
   "outputs": [],
   "source": [
    "groupby_accident_per_day_2019_df = groupby_accident_per_day_2019_df.replace({'TX_MUNTY_DESCR_NL':{\n",
    "    'Sint-Niklaas (Sint-Niklaas)': 'Sint-Niklaas',\n",
    "    'Halle (Halle-Vilvoorde)': 'Halle',\n",
    "    'Beveren (Sint-Niklaas)': 'Beveren',\n",
    "    'Tielt (Tielt)': 'Tielt',\n",
    "    'Vorst (Brussel-Hoofdstad)': 'Vorst',\n",
    "    'Kapellen (Antwerpen)': 'Kapellen',\n",
    "    'Hamme (Dendermonde)': 'Hamme',\n",
    "    'Nieuwerkerken (Hasselt)': 'Nieuwerkerken',\n",
    "    'Machelen (Halle-Vilvoorde)': 'Machelen',\n",
    "    'Hove (Antwerpen)': 'Hove',\n",
    "    'Celles (Doornik)': 'Celles',\n",
    "    'Perwijs (Nijvel)': 'Perwijs',\n",
    "    'Saint-Nicolas (Luik)': 'Saint-Nicolas',\n",
    "    'Aalst (Aalst)': 'Aalst',\n",
    "    'Moerbeke (Gent)': 'Moerbeke'}})"
   ]
  },
  {
   "cell_type": "code",
   "execution_count": 17,
   "id": "f00e748b",
   "metadata": {},
   "outputs": [],
   "source": [
    "village_populations_wiki_df = village_populations_wiki_df.replace({'Village':{\n",
    "    'Pelt*': 'Pelt',\n",
    "    'Deinze*': 'Deinze',\n",
    "    'Kruisem*': 'Kruisem',\n",
    "    'Aalter*': 'Aalter',\n",
    "    'Belœil': 'Beloeil',\n",
    "    'Lievegem*': 'Lievegem',\n",
    "    \"Mont-de-l'Enclus\": 'Mont-de-l’Enclus',\n",
    "    'Puurs-Sint-Amands*': 'Puurs-Sint-Amands',\n",
    "    'Court-Saint-Étienne': 'Court-Saint-Etienne',\n",
    "    'Éghezée': 'Eghezée',\n",
    "    'Oudsbergen*': 'Oudsbergen',\n",
    "    'Estaimpuis*': 'Estaimpuis',\n",
    "    \"Fontaine-l'Evêque\": 'Fontaine-l’Evêque',\n",
    "    'Gembloers': 'Gembloux',\n",
    "    '’s Gravenbrakel*': '’s Gravenbrakel',\n",
    "    'Erezée*': 'Erezée',\n",
    "    'Ecaussines': 'Ecaussinnes',\n",
    "    'Blegny*': 'Blegny',\n",
    "    'Plombières*': 'Plombières'}})"
   ]
  },
  {
   "cell_type": "code",
   "execution_count": 18,
   "id": "8403f936",
   "metadata": {},
   "outputs": [],
   "source": [
    "# merge join on village\n",
    "merged_accidents_df = groupby_accident_per_day_2019_df.merge(village_populations_wiki_df, left_on='TX_MUNTY_DESCR_NL', right_on='Village', how='left')"
   ]
  },
  {
   "cell_type": "code",
   "execution_count": 19,
   "id": "3150ec83",
   "metadata": {},
   "outputs": [],
   "source": [
    "# remove Nan records\n",
    "merged_accidents_df = merged_accidents_df[~(merged_accidents_df['Population'].isna())]"
   ]
  },
  {
   "cell_type": "markdown",
   "id": "003fca2c",
   "metadata": {},
   "source": [
    "# calculate the ratio itself\n",
    "\n",
    "### (nr of incidents / population ) * city size in km"
   ]
  },
  {
   "cell_type": "code",
   "execution_count": 20,
   "id": "8dca0809",
   "metadata": {},
   "outputs": [],
   "source": [
    "merged_accidents_df.loc[:, 'accident_village_ratio'] = merged_accidents_df['nr_of_accidents'] / merged_accidents_df['Population']"
   ]
  },
  {
   "cell_type": "code",
   "execution_count": 21,
   "id": "e55dfebb",
   "metadata": {},
   "outputs": [],
   "source": [
    "merged_accidents_df.loc[:, 'accident_village_size_ratio'] = merged_accidents_df['accident_village_ratio'] * merged_accidents_df['km2_size']"
   ]
  },
  {
   "cell_type": "code",
   "execution_count": 22,
   "id": "3d7fff52",
   "metadata": {},
   "outputs": [
    {
     "data": {
      "text/html": [
       "<div>\n",
       "<style scoped>\n",
       "    .dataframe tbody tr th:only-of-type {\n",
       "        vertical-align: middle;\n",
       "    }\n",
       "\n",
       "    .dataframe tbody tr th {\n",
       "        vertical-align: top;\n",
       "    }\n",
       "\n",
       "    .dataframe thead th {\n",
       "        text-align: right;\n",
       "    }\n",
       "</style>\n",
       "<table border=\"1\" class=\"dataframe\">\n",
       "  <thead>\n",
       "    <tr style=\"text-align: right;\">\n",
       "      <th></th>\n",
       "      <th>DT_DAY</th>\n",
       "      <th>TX_MUNTY_DESCR_NL</th>\n",
       "      <th>nr_of_accidents</th>\n",
       "      <th>Village</th>\n",
       "      <th>Population</th>\n",
       "      <th>km2_size</th>\n",
       "      <th>accident_village_ratio</th>\n",
       "      <th>accident_village_size_ratio</th>\n",
       "    </tr>\n",
       "  </thead>\n",
       "  <tbody>\n",
       "    <tr>\n",
       "      <th>0</th>\n",
       "      <td>2019-08-26</td>\n",
       "      <td>Antwerpen</td>\n",
       "      <td>13</td>\n",
       "      <td>Antwerpen</td>\n",
       "      <td>446525</td>\n",
       "      <td>204.0</td>\n",
       "      <td>0.000029</td>\n",
       "      <td>0.005939</td>\n",
       "    </tr>\n",
       "    <tr>\n",
       "      <th>1</th>\n",
       "      <td>2019-08-30</td>\n",
       "      <td>Antwerpen</td>\n",
       "      <td>13</td>\n",
       "      <td>Antwerpen</td>\n",
       "      <td>446525</td>\n",
       "      <td>204.0</td>\n",
       "      <td>0.000029</td>\n",
       "      <td>0.005939</td>\n",
       "    </tr>\n",
       "    <tr>\n",
       "      <th>2</th>\n",
       "      <td>2019-10-16</td>\n",
       "      <td>Antwerpen</td>\n",
       "      <td>13</td>\n",
       "      <td>Antwerpen</td>\n",
       "      <td>446525</td>\n",
       "      <td>204.0</td>\n",
       "      <td>0.000029</td>\n",
       "      <td>0.005939</td>\n",
       "    </tr>\n",
       "    <tr>\n",
       "      <th>3</th>\n",
       "      <td>2019-06-17</td>\n",
       "      <td>Antwerpen</td>\n",
       "      <td>12</td>\n",
       "      <td>Antwerpen</td>\n",
       "      <td>446525</td>\n",
       "      <td>204.0</td>\n",
       "      <td>0.000027</td>\n",
       "      <td>0.005482</td>\n",
       "    </tr>\n",
       "    <tr>\n",
       "      <th>4</th>\n",
       "      <td>2019-12-05</td>\n",
       "      <td>Antwerpen</td>\n",
       "      <td>12</td>\n",
       "      <td>Antwerpen</td>\n",
       "      <td>446525</td>\n",
       "      <td>204.0</td>\n",
       "      <td>0.000027</td>\n",
       "      <td>0.005482</td>\n",
       "    </tr>\n",
       "    <tr>\n",
       "      <th>...</th>\n",
       "      <td>...</td>\n",
       "      <td>...</td>\n",
       "      <td>...</td>\n",
       "      <td>...</td>\n",
       "      <td>...</td>\n",
       "      <td>...</td>\n",
       "      <td>...</td>\n",
       "      <td>...</td>\n",
       "    </tr>\n",
       "    <tr>\n",
       "      <th>8336</th>\n",
       "      <td>2019-12-31</td>\n",
       "      <td>Schoten</td>\n",
       "      <td>1</td>\n",
       "      <td>Schoten</td>\n",
       "      <td>32733</td>\n",
       "      <td>29.0</td>\n",
       "      <td>0.000031</td>\n",
       "      <td>0.000886</td>\n",
       "    </tr>\n",
       "    <tr>\n",
       "      <th>8337</th>\n",
       "      <td>2019-12-31</td>\n",
       "      <td>Roeselare</td>\n",
       "      <td>1</td>\n",
       "      <td>Roeselare</td>\n",
       "      <td>54199</td>\n",
       "      <td>59.0</td>\n",
       "      <td>0.000018</td>\n",
       "      <td>0.001089</td>\n",
       "    </tr>\n",
       "    <tr>\n",
       "      <th>8338</th>\n",
       "      <td>2019-12-31</td>\n",
       "      <td>Middelkerke</td>\n",
       "      <td>1</td>\n",
       "      <td>Middelkerke</td>\n",
       "      <td>16583</td>\n",
       "      <td>75.0</td>\n",
       "      <td>0.00006</td>\n",
       "      <td>0.004523</td>\n",
       "    </tr>\n",
       "    <tr>\n",
       "      <th>8339</th>\n",
       "      <td>2019-12-31</td>\n",
       "      <td>Heusden-Zolder</td>\n",
       "      <td>1</td>\n",
       "      <td>Heusden-Zolder</td>\n",
       "      <td>30105</td>\n",
       "      <td>53.0</td>\n",
       "      <td>0.000033</td>\n",
       "      <td>0.001761</td>\n",
       "    </tr>\n",
       "    <tr>\n",
       "      <th>8340</th>\n",
       "      <td>2019-12-31</td>\n",
       "      <td>Borsbeek</td>\n",
       "      <td>1</td>\n",
       "      <td>Borsbeek</td>\n",
       "      <td>10373</td>\n",
       "      <td>3.0</td>\n",
       "      <td>0.000096</td>\n",
       "      <td>0.000289</td>\n",
       "    </tr>\n",
       "  </tbody>\n",
       "</table>\n",
       "<p>8328 rows × 8 columns</p>\n",
       "</div>"
      ],
      "text/plain": [
       "         DT_DAY TX_MUNTY_DESCR_NL  nr_of_accidents         Village  \\\n",
       "0    2019-08-26         Antwerpen               13       Antwerpen   \n",
       "1    2019-08-30         Antwerpen               13       Antwerpen   \n",
       "2    2019-10-16         Antwerpen               13       Antwerpen   \n",
       "3    2019-06-17         Antwerpen               12       Antwerpen   \n",
       "4    2019-12-05         Antwerpen               12       Antwerpen   \n",
       "...         ...               ...              ...             ...   \n",
       "8336 2019-12-31           Schoten                1         Schoten   \n",
       "8337 2019-12-31         Roeselare                1       Roeselare   \n",
       "8338 2019-12-31       Middelkerke                1     Middelkerke   \n",
       "8339 2019-12-31    Heusden-Zolder                1  Heusden-Zolder   \n",
       "8340 2019-12-31          Borsbeek                1        Borsbeek   \n",
       "\n",
       "      Population  km2_size  accident_village_ratio  \\\n",
       "0         446525     204.0                0.000029   \n",
       "1         446525     204.0                0.000029   \n",
       "2         446525     204.0                0.000029   \n",
       "3         446525     204.0                0.000027   \n",
       "4         446525     204.0                0.000027   \n",
       "...          ...       ...                     ...   \n",
       "8336       32733      29.0                0.000031   \n",
       "8337       54199      59.0                0.000018   \n",
       "8338       16583      75.0                 0.00006   \n",
       "8339       30105      53.0                0.000033   \n",
       "8340       10373       3.0                0.000096   \n",
       "\n",
       "      accident_village_size_ratio  \n",
       "0                        0.005939  \n",
       "1                        0.005939  \n",
       "2                        0.005939  \n",
       "3                        0.005482  \n",
       "4                        0.005482  \n",
       "...                           ...  \n",
       "8336                     0.000886  \n",
       "8337                     0.001089  \n",
       "8338                     0.004523  \n",
       "8339                     0.001761  \n",
       "8340                     0.000289  \n",
       "\n",
       "[8328 rows x 8 columns]"
      ]
     },
     "execution_count": 22,
     "metadata": {},
     "output_type": "execute_result"
    }
   ],
   "source": [
    "merged_accidents_df"
   ]
  },
  {
   "cell_type": "code",
   "execution_count": 23,
   "id": "a9746254",
   "metadata": {},
   "outputs": [
    {
     "data": {
      "text/plain": [
       "3.9201850327335454e-05"
      ]
     },
     "execution_count": 23,
     "metadata": {},
     "output_type": "execute_result"
    }
   ],
   "source": [
    "accident_village_ratio_median_cutoff = merged_accidents_df['accident_village_ratio'].median()\n",
    "accident_village_ratio_median_cutoff"
   ]
  },
  {
   "cell_type": "code",
   "execution_count": 24,
   "id": "8c8aafaa",
   "metadata": {},
   "outputs": [
    {
     "data": {
      "text/plain": [
       "0.0018274452718212866"
      ]
     },
     "execution_count": 24,
     "metadata": {},
     "output_type": "execute_result"
    }
   ],
   "source": [
    "accident_village_size_ratio_median_cutoff = merged_accidents_df['accident_village_size_ratio'].median()\n",
    "accident_village_size_ratio_median_cutoff"
   ]
  },
  {
   "cell_type": "code",
   "execution_count": 25,
   "id": "e9d21ad0",
   "metadata": {},
   "outputs": [],
   "source": [
    "# chart_data = pd.concat([\n",
    "#     merged_accidents_df['Village'],\n",
    "#     merged_accidents_df['accident_village_size_ratio'],\n",
    "# ], axis=1)\n",
    "# chart_data = chart_data.sort_values(['Village'])\n",
    "# chart_data = chart_data.rename(columns={'Village': 'x'})\n",
    "# chart_data = chart_data.dropna()\n",
    "\n",
    "# import plotly.graph_objs as go\n",
    "\n",
    "# charts = []\n",
    "# charts.append(go.Bar(\n",
    "#     x=chart_data['x'],\n",
    "#     y=chart_data['accident_village_size_ratio']\n",
    "# ))\n",
    "# figure = go.Figure(data=charts, layout=go.Layout({\n",
    "#     'barmode': 'stack',\n",
    "#     'legend': {'orientation': 'h'},\n",
    "#     'title': {'text': 'accident_village_size_ratio by Village'},\n",
    "#     'xaxis': {'title': {'text': 'Village'}},\n",
    "#     'yaxis': {'title': {'text': 'accident_village_size_ratio'}, 'type': 'linear'}\n",
    "# }))"
   ]
  },
  {
   "cell_type": "code",
   "execution_count": 26,
   "id": "eb722e67",
   "metadata": {},
   "outputs": [],
   "source": [
    "# from plotly.offline import iplot, init_notebook_mode\n",
    "\n",
    "# init_notebook_mode(connected=True)\n",
    "# for chart in charts:\n",
    "#     chart.pop('id', None) # for some reason iplot does not like 'id'\n",
    "# iplot(figure)"
   ]
  },
  {
   "cell_type": "code",
   "execution_count": 41,
   "id": "fb78a6e8",
   "metadata": {},
   "outputs": [
    {
     "name": "stdout",
     "output_type": "stream",
     "text": [
      "http://20.223.36.46:40000/dtale/main/1\n"
     ]
    }
   ],
   "source": [
    "# # generate a data report to get a feel of the data (EDA)\n",
    "# d = dtale.show(merged_accidents_df, host=\"20.223.36.46\", port=\"40000\", ignore_duplicate=True, drop_index=True, reaper_on=False)\n",
    "# # show all running instances\n",
    "# d.main_url()"
   ]
  },
  {
   "cell_type": "code",
   "execution_count": 27,
   "id": "891afae6",
   "metadata": {},
   "outputs": [
    {
     "data": {
      "text/html": [
       "<div>\n",
       "<style scoped>\n",
       "    .dataframe tbody tr th:only-of-type {\n",
       "        vertical-align: middle;\n",
       "    }\n",
       "\n",
       "    .dataframe tbody tr th {\n",
       "        vertical-align: top;\n",
       "    }\n",
       "\n",
       "    .dataframe thead th {\n",
       "        text-align: right;\n",
       "    }\n",
       "</style>\n",
       "<table border=\"1\" class=\"dataframe\">\n",
       "  <thead>\n",
       "    <tr style=\"text-align: right;\">\n",
       "      <th></th>\n",
       "      <th>Village</th>\n",
       "      <th>ratio</th>\n",
       "    </tr>\n",
       "  </thead>\n",
       "  <tbody>\n",
       "    <tr>\n",
       "      <th>18</th>\n",
       "      <td>Antwerpen</td>\n",
       "      <td>0.559198</td>\n",
       "    </tr>\n",
       "    <tr>\n",
       "      <th>165</th>\n",
       "      <td>Gent</td>\n",
       "      <td>0.477366</td>\n",
       "    </tr>\n",
       "    <tr>\n",
       "      <th>77</th>\n",
       "      <td>Brugge</td>\n",
       "      <td>0.37033</td>\n",
       "    </tr>\n",
       "    <tr>\n",
       "      <th>51</th>\n",
       "      <td>Beveren</td>\n",
       "      <td>0.323499</td>\n",
       "    </tr>\n",
       "    <tr>\n",
       "      <th>306</th>\n",
       "      <td>Maldegem</td>\n",
       "      <td>0.298602</td>\n",
       "    </tr>\n",
       "    <tr>\n",
       "      <th>224</th>\n",
       "      <td>Ieper</td>\n",
       "      <td>0.285421</td>\n",
       "    </tr>\n",
       "    <tr>\n",
       "      <th>418</th>\n",
       "      <td>Sint-Niklaas</td>\n",
       "      <td>0.280759</td>\n",
       "    </tr>\n",
       "    <tr>\n",
       "      <th>113</th>\n",
       "      <td>Diksmuide</td>\n",
       "      <td>0.202616</td>\n",
       "    </tr>\n",
       "    <tr>\n",
       "      <th>190</th>\n",
       "      <td>Hasselt</td>\n",
       "      <td>0.200829</td>\n",
       "    </tr>\n",
       "    <tr>\n",
       "      <th>278</th>\n",
       "      <td>Leuven</td>\n",
       "      <td>0.195813</td>\n",
       "    </tr>\n",
       "  </tbody>\n",
       "</table>\n",
       "</div>"
      ],
      "text/plain": [
       "          Village     ratio\n",
       "18      Antwerpen  0.559198\n",
       "165          Gent  0.477366\n",
       "77         Brugge   0.37033\n",
       "51        Beveren  0.323499\n",
       "306      Maldegem  0.298602\n",
       "224         Ieper  0.285421\n",
       "418  Sint-Niklaas  0.280759\n",
       "113     Diksmuide  0.202616\n",
       "190       Hasselt  0.200829\n",
       "278        Leuven  0.195813"
      ]
     },
     "execution_count": 27,
     "metadata": {},
     "output_type": "execute_result"
    }
   ],
   "source": [
    "result = merged_accidents_df.groupby(['Village'])['accident_village_size_ratio'].sum().to_frame(name='ratio').reset_index()\n",
    "result = result.sort_values(by=['ratio', 'Village'], ascending=[False, True])\n",
    "result.head(10)"
   ]
  },
  {
   "cell_type": "code",
   "execution_count": 71,
   "id": "86949ee9",
   "metadata": {},
   "outputs": [
    {
     "name": "stdout",
     "output_type": "stream",
     "text": [
      "http://20.223.36.46:40000/dtale/main/2\n",
      "Exception occurred while processing request: object arrays are not supported\n",
      "Traceback (most recent call last):\n",
      "  File \"/anaconda/envs/py38_datareport/lib/python3.8/site-packages/dtale/views.py\", line 121, in _handle_exceptions\n",
      "    return func(*args, **kwargs)\n",
      "  File \"/anaconda/envs/py38_datareport/lib/python3.8/site-packages/dtale/views.py\", line 2680, in get_column_analysis\n",
      "    return jsonify(**analysis.build())\n",
      "  File \"/anaconda/envs/py38_datareport/lib/python3.8/site-packages/dtale/column_analysis.py\", line 137, in build\n",
      "    return_data, code = self.analysis.build(self)\n",
      "  File \"/anaconda/envs/py38_datareport/lib/python3.8/site-packages/dtale/column_analysis.py\", line 184, in build\n",
      "    kde, kde_code = build_kde(\n",
      "  File \"/anaconda/envs/py38_datareport/lib/python3.8/site-packages/dtale/column_analysis.py\", line 67, in build_kde\n",
      "    kde = sts.gaussian_kde(s)\n",
      "  File \"/anaconda/envs/py38_datareport/lib/python3.8/site-packages/scipy/stats/_kde.py\", line 207, in __init__\n",
      "    self.set_bandwidth(bw_method=bw_method)\n",
      "  File \"/anaconda/envs/py38_datareport/lib/python3.8/site-packages/scipy/stats/_kde.py\", line 555, in set_bandwidth\n",
      "    self._compute_covariance()\n",
      "  File \"/anaconda/envs/py38_datareport/lib/python3.8/site-packages/scipy/stats/_kde.py\", line 567, in _compute_covariance\n",
      "    self._data_inv_cov = linalg.inv(self._data_covariance)\n",
      "  File \"/anaconda/envs/py38_datareport/lib/python3.8/site-packages/scipy/linalg/_basic.py\", line 939, in inv\n",
      "    a1 = _asarray_validated(a, check_finite=check_finite)\n",
      "  File \"/anaconda/envs/py38_datareport/lib/python3.8/site-packages/scipy/_lib/_util.py\", line 290, in _asarray_validated\n",
      "    raise ValueError('object arrays are not supported')\n",
      "ValueError: object arrays are not supported\n"
     ]
    },
    {
     "name": "stderr",
     "output_type": "stream",
     "text": [
      "2022-03-27 12:19:41,982 - ERROR    - Exception occurred while processing request: object arrays are not supported\n",
      "Traceback (most recent call last):\n",
      "  File \"/anaconda/envs/py38_datareport/lib/python3.8/site-packages/dtale/views.py\", line 121, in _handle_exceptions\n",
      "    return func(*args, **kwargs)\n",
      "  File \"/anaconda/envs/py38_datareport/lib/python3.8/site-packages/dtale/views.py\", line 2680, in get_column_analysis\n",
      "    return jsonify(**analysis.build())\n",
      "  File \"/anaconda/envs/py38_datareport/lib/python3.8/site-packages/dtale/column_analysis.py\", line 137, in build\n",
      "    return_data, code = self.analysis.build(self)\n",
      "  File \"/anaconda/envs/py38_datareport/lib/python3.8/site-packages/dtale/column_analysis.py\", line 184, in build\n",
      "    kde, kde_code = build_kde(\n",
      "  File \"/anaconda/envs/py38_datareport/lib/python3.8/site-packages/dtale/column_analysis.py\", line 67, in build_kde\n",
      "    kde = sts.gaussian_kde(s)\n",
      "  File \"/anaconda/envs/py38_datareport/lib/python3.8/site-packages/scipy/stats/_kde.py\", line 207, in __init__\n",
      "    self.set_bandwidth(bw_method=bw_method)\n",
      "  File \"/anaconda/envs/py38_datareport/lib/python3.8/site-packages/scipy/stats/_kde.py\", line 555, in set_bandwidth\n",
      "    self._compute_covariance()\n",
      "  File \"/anaconda/envs/py38_datareport/lib/python3.8/site-packages/scipy/stats/_kde.py\", line 567, in _compute_covariance\n",
      "    self._data_inv_cov = linalg.inv(self._data_covariance)\n",
      "  File \"/anaconda/envs/py38_datareport/lib/python3.8/site-packages/scipy/linalg/_basic.py\", line 939, in inv\n",
      "    a1 = _asarray_validated(a, check_finite=check_finite)\n",
      "  File \"/anaconda/envs/py38_datareport/lib/python3.8/site-packages/scipy/_lib/_util.py\", line 290, in _asarray_validated\n",
      "    raise ValueError('object arrays are not supported')\n",
      "ValueError: object arrays are not supported\n"
     ]
    },
    {
     "name": "stdout",
     "output_type": "stream",
     "text": [
      "Exception occurred while processing request: object arrays are not supported\n",
      "Traceback (most recent call last):\n",
      "  File \"/anaconda/envs/py38_datareport/lib/python3.8/site-packages/dtale/views.py\", line 121, in _handle_exceptions\n",
      "    return func(*args, **kwargs)\n",
      "  File \"/anaconda/envs/py38_datareport/lib/python3.8/site-packages/dtale/views.py\", line 2680, in get_column_analysis\n",
      "    return jsonify(**analysis.build())\n",
      "  File \"/anaconda/envs/py38_datareport/lib/python3.8/site-packages/dtale/column_analysis.py\", line 137, in build\n",
      "    return_data, code = self.analysis.build(self)\n",
      "  File \"/anaconda/envs/py38_datareport/lib/python3.8/site-packages/dtale/column_analysis.py\", line 184, in build\n",
      "    kde, kde_code = build_kde(\n",
      "  File \"/anaconda/envs/py38_datareport/lib/python3.8/site-packages/dtale/column_analysis.py\", line 67, in build_kde\n",
      "    kde = sts.gaussian_kde(s)\n",
      "  File \"/anaconda/envs/py38_datareport/lib/python3.8/site-packages/scipy/stats/_kde.py\", line 207, in __init__\n",
      "    self.set_bandwidth(bw_method=bw_method)\n",
      "  File \"/anaconda/envs/py38_datareport/lib/python3.8/site-packages/scipy/stats/_kde.py\", line 555, in set_bandwidth\n",
      "    self._compute_covariance()\n",
      "  File \"/anaconda/envs/py38_datareport/lib/python3.8/site-packages/scipy/stats/_kde.py\", line 567, in _compute_covariance\n",
      "    self._data_inv_cov = linalg.inv(self._data_covariance)\n",
      "  File \"/anaconda/envs/py38_datareport/lib/python3.8/site-packages/scipy/linalg/_basic.py\", line 939, in inv\n",
      "    a1 = _asarray_validated(a, check_finite=check_finite)\n",
      "  File \"/anaconda/envs/py38_datareport/lib/python3.8/site-packages/scipy/_lib/_util.py\", line 290, in _asarray_validated\n",
      "    raise ValueError('object arrays are not supported')\n",
      "ValueError: object arrays are not supported\n"
     ]
    },
    {
     "name": "stderr",
     "output_type": "stream",
     "text": [
      "2022-03-27 12:20:05,441 - ERROR    - Exception occurred while processing request: object arrays are not supported\n",
      "Traceback (most recent call last):\n",
      "  File \"/anaconda/envs/py38_datareport/lib/python3.8/site-packages/dtale/views.py\", line 121, in _handle_exceptions\n",
      "    return func(*args, **kwargs)\n",
      "  File \"/anaconda/envs/py38_datareport/lib/python3.8/site-packages/dtale/views.py\", line 2680, in get_column_analysis\n",
      "    return jsonify(**analysis.build())\n",
      "  File \"/anaconda/envs/py38_datareport/lib/python3.8/site-packages/dtale/column_analysis.py\", line 137, in build\n",
      "    return_data, code = self.analysis.build(self)\n",
      "  File \"/anaconda/envs/py38_datareport/lib/python3.8/site-packages/dtale/column_analysis.py\", line 184, in build\n",
      "    kde, kde_code = build_kde(\n",
      "  File \"/anaconda/envs/py38_datareport/lib/python3.8/site-packages/dtale/column_analysis.py\", line 67, in build_kde\n",
      "    kde = sts.gaussian_kde(s)\n",
      "  File \"/anaconda/envs/py38_datareport/lib/python3.8/site-packages/scipy/stats/_kde.py\", line 207, in __init__\n",
      "    self.set_bandwidth(bw_method=bw_method)\n",
      "  File \"/anaconda/envs/py38_datareport/lib/python3.8/site-packages/scipy/stats/_kde.py\", line 555, in set_bandwidth\n",
      "    self._compute_covariance()\n",
      "  File \"/anaconda/envs/py38_datareport/lib/python3.8/site-packages/scipy/stats/_kde.py\", line 567, in _compute_covariance\n",
      "    self._data_inv_cov = linalg.inv(self._data_covariance)\n",
      "  File \"/anaconda/envs/py38_datareport/lib/python3.8/site-packages/scipy/linalg/_basic.py\", line 939, in inv\n",
      "    a1 = _asarray_validated(a, check_finite=check_finite)\n",
      "  File \"/anaconda/envs/py38_datareport/lib/python3.8/site-packages/scipy/_lib/_util.py\", line 290, in _asarray_validated\n",
      "    raise ValueError('object arrays are not supported')\n",
      "ValueError: object arrays are not supported\n"
     ]
    }
   ],
   "source": [
    "# generate a data report to get a feel of the data (EDA)\n",
    "d = dtale.show(result, host=\"20.223.36.46\", port=\"40000\", ignore_duplicate=True, drop_index=True, reaper_on=False)\n",
    "# show all running instances\n",
    "d.main_url()"
   ]
  },
  {
   "cell_type": "code",
   "execution_count": 53,
   "id": "957ae400",
   "metadata": {},
   "outputs": [],
   "source": [
    "s = result['ratio']\n",
    "q1 = s.quantile(0.25)\n",
    "q3 = s.quantile(0.75)\n",
    "iqr = q3 - q1\n",
    "iqr_lower = q1 - 1.5 * iqr\n",
    "iqr_upper = q3 + 1.5 * iqr\n",
    "outliers = dict(s[(s < iqr_lower) | (s > iqr_upper)])"
   ]
  },
  {
   "cell_type": "code",
   "execution_count": 54,
   "id": "f9c0e1db",
   "metadata": {},
   "outputs": [
    {
     "data": {
      "text/html": [
       "<div>\n",
       "<style scoped>\n",
       "    .dataframe tbody tr th:only-of-type {\n",
       "        vertical-align: middle;\n",
       "    }\n",
       "\n",
       "    .dataframe tbody tr th {\n",
       "        vertical-align: top;\n",
       "    }\n",
       "\n",
       "    .dataframe thead th {\n",
       "        text-align: right;\n",
       "    }\n",
       "</style>\n",
       "<table border=\"1\" class=\"dataframe\">\n",
       "  <thead>\n",
       "    <tr style=\"text-align: right;\">\n",
       "      <th></th>\n",
       "      <th>Village</th>\n",
       "      <th>ratio</th>\n",
       "    </tr>\n",
       "  </thead>\n",
       "  <tbody>\n",
       "    <tr>\n",
       "      <th>245</th>\n",
       "      <td>Knokke-Heist</td>\n",
       "      <td>0.155424</td>\n",
       "    </tr>\n",
       "    <tr>\n",
       "      <th>59</th>\n",
       "      <td>Bocholt</td>\n",
       "      <td>0.044671</td>\n",
       "    </tr>\n",
       "    <tr>\n",
       "      <th>379</th>\n",
       "      <td>Ravels</td>\n",
       "      <td>0.071761</td>\n",
       "    </tr>\n",
       "    <tr>\n",
       "      <th>24</th>\n",
       "      <td>Assenede</td>\n",
       "      <td>0.096104</td>\n",
       "    </tr>\n",
       "    <tr>\n",
       "      <th>313</th>\n",
       "      <td>Meise</td>\n",
       "      <td>0.020385</td>\n",
       "    </tr>\n",
       "    <tr>\n",
       "      <th>80</th>\n",
       "      <td>Buggenhout</td>\n",
       "      <td>0.030905</td>\n",
       "    </tr>\n",
       "    <tr>\n",
       "      <th>194</th>\n",
       "      <td>Hemiksem</td>\n",
       "      <td>0.008196</td>\n",
       "    </tr>\n",
       "    <tr>\n",
       "      <th>432</th>\n",
       "      <td>Stekene</td>\n",
       "      <td>0.058553</td>\n",
       "    </tr>\n",
       "    <tr>\n",
       "      <th>477</th>\n",
       "      <td>Wellen</td>\n",
       "      <td>0.038662</td>\n",
       "    </tr>\n",
       "    <tr>\n",
       "      <th>330</th>\n",
       "      <td>Moorslede</td>\n",
       "      <td>0.022827</td>\n",
       "    </tr>\n",
       "    <tr>\n",
       "      <th>165</th>\n",
       "      <td>Gent</td>\n",
       "      <td>0.477366</td>\n",
       "    </tr>\n",
       "    <tr>\n",
       "      <th>343</th>\n",
       "      <td>Olen</td>\n",
       "      <td>0.025333</td>\n",
       "    </tr>\n",
       "    <tr>\n",
       "      <th>460</th>\n",
       "      <td>Voeren</td>\n",
       "      <td>0.04635</td>\n",
       "    </tr>\n",
       "    <tr>\n",
       "      <th>348</th>\n",
       "      <td>Opwijk</td>\n",
       "      <td>0.025943</td>\n",
       "    </tr>\n",
       "    <tr>\n",
       "      <th>97</th>\n",
       "      <td>Couvin</td>\n",
       "      <td>0.062193</td>\n",
       "    </tr>\n",
       "    <tr>\n",
       "      <th>198</th>\n",
       "      <td>Herenthout</td>\n",
       "      <td>0.019393</td>\n",
       "    </tr>\n",
       "    <tr>\n",
       "      <th>427</th>\n",
       "      <td>Sprimont</td>\n",
       "      <td>0.017866</td>\n",
       "    </tr>\n",
       "    <tr>\n",
       "      <th>471</th>\n",
       "      <td>Wasseiges</td>\n",
       "      <td>0.021419</td>\n",
       "    </tr>\n",
       "    <tr>\n",
       "      <th>32</th>\n",
       "      <td>Beaumont</td>\n",
       "      <td>0.027976</td>\n",
       "    </tr>\n",
       "    <tr>\n",
       "      <th>58</th>\n",
       "      <td>Blankenberge</td>\n",
       "      <td>0.029287</td>\n",
       "    </tr>\n",
       "    <tr>\n",
       "      <th>498</th>\n",
       "      <td>Zelzate</td>\n",
       "      <td>0.018274</td>\n",
       "    </tr>\n",
       "    <tr>\n",
       "      <th>324</th>\n",
       "      <td>Moeskroen</td>\n",
       "      <td>0.021337</td>\n",
       "    </tr>\n",
       "    <tr>\n",
       "      <th>161</th>\n",
       "      <td>Geldenaken</td>\n",
       "      <td>0.038143</td>\n",
       "    </tr>\n",
       "    <tr>\n",
       "      <th>44</th>\n",
       "      <td>Berloz</td>\n",
       "      <td>0.005344</td>\n",
       "    </tr>\n",
       "    <tr>\n",
       "      <th>236</th>\n",
       "      <td>Kapelle-op-den-Bos</td>\n",
       "      <td>0.013663</td>\n",
       "    </tr>\n",
       "    <tr>\n",
       "      <th>18</th>\n",
       "      <td>Antwerpen</td>\n",
       "      <td>0.559198</td>\n",
       "    </tr>\n",
       "    <tr>\n",
       "      <th>213</th>\n",
       "      <td>Hoogstraten</td>\n",
       "      <td>0.118303</td>\n",
       "    </tr>\n",
       "    <tr>\n",
       "      <th>150</th>\n",
       "      <td>Flémalle</td>\n",
       "      <td>0.00838</td>\n",
       "    </tr>\n",
       "    <tr>\n",
       "      <th>217</th>\n",
       "      <td>Houthulst</td>\n",
       "      <td>0.06148</td>\n",
       "    </tr>\n",
       "    <tr>\n",
       "      <th>425</th>\n",
       "      <td>Spa</td>\n",
       "      <td>0.015097</td>\n",
       "    </tr>\n",
       "  </tbody>\n",
       "</table>\n",
       "</div>"
      ],
      "text/plain": [
       "                Village     ratio\n",
       "245        Knokke-Heist  0.155424\n",
       "59              Bocholt  0.044671\n",
       "379              Ravels  0.071761\n",
       "24             Assenede  0.096104\n",
       "313               Meise  0.020385\n",
       "80           Buggenhout  0.030905\n",
       "194            Hemiksem  0.008196\n",
       "432             Stekene  0.058553\n",
       "477              Wellen  0.038662\n",
       "330           Moorslede  0.022827\n",
       "165                Gent  0.477366\n",
       "343                Olen  0.025333\n",
       "460              Voeren   0.04635\n",
       "348              Opwijk  0.025943\n",
       "97               Couvin  0.062193\n",
       "198          Herenthout  0.019393\n",
       "427            Sprimont  0.017866\n",
       "471           Wasseiges  0.021419\n",
       "32             Beaumont  0.027976\n",
       "58         Blankenberge  0.029287\n",
       "498             Zelzate  0.018274\n",
       "324           Moeskroen  0.021337\n",
       "161          Geldenaken  0.038143\n",
       "44               Berloz  0.005344\n",
       "236  Kapelle-op-den-Bos  0.013663\n",
       "18            Antwerpen  0.559198\n",
       "213         Hoogstraten  0.118303\n",
       "150            Flémalle   0.00838\n",
       "217           Houthulst   0.06148\n",
       "425                 Spa  0.015097"
      ]
     },
     "execution_count": 54,
     "metadata": {},
     "output_type": "execute_result"
    }
   ],
   "source": [
    "result.iloc[list(outliers.keys())]"
   ]
  },
  {
   "cell_type": "code",
   "execution_count": 64,
   "id": "9b58f8e6",
   "metadata": {},
   "outputs": [],
   "source": [
    "chart_data = pd.concat([\n",
    "    result.iloc[list(outliers.keys())]['Village'],\n",
    "    result.iloc[list(outliers.keys())]['ratio'],\n",
    "], axis=1)\n",
    "chart_data = chart_data.sort_values(['Village'])\n",
    "chart_data = chart_data.rename(columns={'Village': 'x'})\n",
    "chart_data = chart_data.dropna()\n",
    "\n",
    "import plotly.graph_objs as go\n",
    "\n",
    "charts = []\n",
    "charts.append(go.Bar(\n",
    "    x=chart_data['x'],\n",
    "    y=chart_data['ratio']\n",
    "))\n",
    "figure = go.Figure(data=charts, layout=go.Layout({\n",
    "    'barmode': 'stack',\n",
    "    'legend': {'orientation': 'h'},\n",
    "    'title': {'text': 'Outliers (highest & lowest)'},\n",
    "    'xaxis': {'title': {'text': 'Cities'}},\n",
    "    'yaxis': {'title': {'text': 'ratio of cylists'}, 'type': 'linear'}\n",
    "}))"
   ]
  },
  {
   "cell_type": "code",
   "execution_count": 70,
   "id": "a6483993",
   "metadata": {},
   "outputs": [
    {
     "data": {
      "text/html": [
       "        <script type=\"text/javascript\">\n",
       "        window.PlotlyConfig = {MathJaxConfig: 'local'};\n",
       "        if (window.MathJax) {MathJax.Hub.Config({SVG: {font: \"STIX-Web\"}});}\n",
       "        if (typeof require !== 'undefined') {\n",
       "        require.undef(\"plotly\");\n",
       "        requirejs.config({\n",
       "            paths: {\n",
       "                'plotly': ['https://cdn.plot.ly/plotly-2.9.0.min']\n",
       "            }\n",
       "        });\n",
       "        require(['plotly'], function(Plotly) {\n",
       "            window._Plotly = Plotly;\n",
       "        });\n",
       "        }\n",
       "        </script>\n",
       "        "
      ]
     },
     "metadata": {},
     "output_type": "display_data"
    },
    {
     "data": {
      "application/vnd.plotly.v1+json": {
       "config": {
        "linkText": "Export to plot.ly",
        "plotlyServerURL": "https://plot.ly",
        "showLink": false
       },
       "data": [
        {
         "type": "bar",
         "x": [
          "Antwerpen",
          "Assenede",
          "Beaumont",
          "Berloz",
          "Blankenberge",
          "Bocholt",
          "Buggenhout",
          "Couvin",
          "Flémalle",
          "Geldenaken",
          "Gent",
          "Hemiksem",
          "Herenthout",
          "Hoogstraten",
          "Houthulst",
          "Kapelle-op-den-Bos",
          "Knokke-Heist",
          "Meise",
          "Moeskroen",
          "Moorslede",
          "Olen",
          "Opwijk",
          "Ravels",
          "Spa",
          "Sprimont",
          "Stekene",
          "Voeren",
          "Wasseiges",
          "Wellen",
          "Zelzate"
         ],
         "y": [
          0.5591982531773138,
          0.09610427866558656,
          0.027976280979169835,
          0.0053435114503816794,
          0.02928678075111979,
          0.04467064860772273,
          0.03090459569517161,
          0.06219337308476111,
          0.00837956317647515,
          0.03814334233214317,
          0.47736640199839414,
          0.008195825592831385,
          0.0193929173693086,
          0.11830319418624302,
          0.06147999105745586,
          0.013662757599908914,
          0.15542415832026066,
          0.02038480405515888,
          0.021336584622418654,
          0.022826795863225564,
          0.025332721431849475,
          0.02594299368492917,
          0.07176120314527827,
          0.015097261201974257,
          0.01786576533075809,
          0.05855310912170336,
          0.046349942062572425,
          0.0214190093708166,
          0.038661710037174724,
          0.01827352406151811
         ]
        }
       ],
       "layout": {
        "barmode": "stack",
        "legend": {
         "orientation": "h"
        },
        "template": {
         "data": {
          "bar": [
           {
            "error_x": {
             "color": "#2a3f5f"
            },
            "error_y": {
             "color": "#2a3f5f"
            },
            "marker": {
             "line": {
              "color": "#E5ECF6",
              "width": 0.5
             },
             "pattern": {
              "fillmode": "overlay",
              "size": 10,
              "solidity": 0.2
             }
            },
            "type": "bar"
           }
          ],
          "barpolar": [
           {
            "marker": {
             "line": {
              "color": "#E5ECF6",
              "width": 0.5
             },
             "pattern": {
              "fillmode": "overlay",
              "size": 10,
              "solidity": 0.2
             }
            },
            "type": "barpolar"
           }
          ],
          "carpet": [
           {
            "aaxis": {
             "endlinecolor": "#2a3f5f",
             "gridcolor": "white",
             "linecolor": "white",
             "minorgridcolor": "white",
             "startlinecolor": "#2a3f5f"
            },
            "baxis": {
             "endlinecolor": "#2a3f5f",
             "gridcolor": "white",
             "linecolor": "white",
             "minorgridcolor": "white",
             "startlinecolor": "#2a3f5f"
            },
            "type": "carpet"
           }
          ],
          "choropleth": [
           {
            "colorbar": {
             "outlinewidth": 0,
             "ticks": ""
            },
            "type": "choropleth"
           }
          ],
          "contour": [
           {
            "colorbar": {
             "outlinewidth": 0,
             "ticks": ""
            },
            "colorscale": [
             [
              0,
              "#0d0887"
             ],
             [
              0.1111111111111111,
              "#46039f"
             ],
             [
              0.2222222222222222,
              "#7201a8"
             ],
             [
              0.3333333333333333,
              "#9c179e"
             ],
             [
              0.4444444444444444,
              "#bd3786"
             ],
             [
              0.5555555555555556,
              "#d8576b"
             ],
             [
              0.6666666666666666,
              "#ed7953"
             ],
             [
              0.7777777777777778,
              "#fb9f3a"
             ],
             [
              0.8888888888888888,
              "#fdca26"
             ],
             [
              1,
              "#f0f921"
             ]
            ],
            "type": "contour"
           }
          ],
          "contourcarpet": [
           {
            "colorbar": {
             "outlinewidth": 0,
             "ticks": ""
            },
            "type": "contourcarpet"
           }
          ],
          "heatmap": [
           {
            "colorbar": {
             "outlinewidth": 0,
             "ticks": ""
            },
            "colorscale": [
             [
              0,
              "#0d0887"
             ],
             [
              0.1111111111111111,
              "#46039f"
             ],
             [
              0.2222222222222222,
              "#7201a8"
             ],
             [
              0.3333333333333333,
              "#9c179e"
             ],
             [
              0.4444444444444444,
              "#bd3786"
             ],
             [
              0.5555555555555556,
              "#d8576b"
             ],
             [
              0.6666666666666666,
              "#ed7953"
             ],
             [
              0.7777777777777778,
              "#fb9f3a"
             ],
             [
              0.8888888888888888,
              "#fdca26"
             ],
             [
              1,
              "#f0f921"
             ]
            ],
            "type": "heatmap"
           }
          ],
          "heatmapgl": [
           {
            "colorbar": {
             "outlinewidth": 0,
             "ticks": ""
            },
            "colorscale": [
             [
              0,
              "#0d0887"
             ],
             [
              0.1111111111111111,
              "#46039f"
             ],
             [
              0.2222222222222222,
              "#7201a8"
             ],
             [
              0.3333333333333333,
              "#9c179e"
             ],
             [
              0.4444444444444444,
              "#bd3786"
             ],
             [
              0.5555555555555556,
              "#d8576b"
             ],
             [
              0.6666666666666666,
              "#ed7953"
             ],
             [
              0.7777777777777778,
              "#fb9f3a"
             ],
             [
              0.8888888888888888,
              "#fdca26"
             ],
             [
              1,
              "#f0f921"
             ]
            ],
            "type": "heatmapgl"
           }
          ],
          "histogram": [
           {
            "marker": {
             "pattern": {
              "fillmode": "overlay",
              "size": 10,
              "solidity": 0.2
             }
            },
            "type": "histogram"
           }
          ],
          "histogram2d": [
           {
            "colorbar": {
             "outlinewidth": 0,
             "ticks": ""
            },
            "colorscale": [
             [
              0,
              "#0d0887"
             ],
             [
              0.1111111111111111,
              "#46039f"
             ],
             [
              0.2222222222222222,
              "#7201a8"
             ],
             [
              0.3333333333333333,
              "#9c179e"
             ],
             [
              0.4444444444444444,
              "#bd3786"
             ],
             [
              0.5555555555555556,
              "#d8576b"
             ],
             [
              0.6666666666666666,
              "#ed7953"
             ],
             [
              0.7777777777777778,
              "#fb9f3a"
             ],
             [
              0.8888888888888888,
              "#fdca26"
             ],
             [
              1,
              "#f0f921"
             ]
            ],
            "type": "histogram2d"
           }
          ],
          "histogram2dcontour": [
           {
            "colorbar": {
             "outlinewidth": 0,
             "ticks": ""
            },
            "colorscale": [
             [
              0,
              "#0d0887"
             ],
             [
              0.1111111111111111,
              "#46039f"
             ],
             [
              0.2222222222222222,
              "#7201a8"
             ],
             [
              0.3333333333333333,
              "#9c179e"
             ],
             [
              0.4444444444444444,
              "#bd3786"
             ],
             [
              0.5555555555555556,
              "#d8576b"
             ],
             [
              0.6666666666666666,
              "#ed7953"
             ],
             [
              0.7777777777777778,
              "#fb9f3a"
             ],
             [
              0.8888888888888888,
              "#fdca26"
             ],
             [
              1,
              "#f0f921"
             ]
            ],
            "type": "histogram2dcontour"
           }
          ],
          "mesh3d": [
           {
            "colorbar": {
             "outlinewidth": 0,
             "ticks": ""
            },
            "type": "mesh3d"
           }
          ],
          "parcoords": [
           {
            "line": {
             "colorbar": {
              "outlinewidth": 0,
              "ticks": ""
             }
            },
            "type": "parcoords"
           }
          ],
          "pie": [
           {
            "automargin": true,
            "type": "pie"
           }
          ],
          "scatter": [
           {
            "marker": {
             "colorbar": {
              "outlinewidth": 0,
              "ticks": ""
             }
            },
            "type": "scatter"
           }
          ],
          "scatter3d": [
           {
            "line": {
             "colorbar": {
              "outlinewidth": 0,
              "ticks": ""
             }
            },
            "marker": {
             "colorbar": {
              "outlinewidth": 0,
              "ticks": ""
             }
            },
            "type": "scatter3d"
           }
          ],
          "scattercarpet": [
           {
            "marker": {
             "colorbar": {
              "outlinewidth": 0,
              "ticks": ""
             }
            },
            "type": "scattercarpet"
           }
          ],
          "scattergeo": [
           {
            "marker": {
             "colorbar": {
              "outlinewidth": 0,
              "ticks": ""
             }
            },
            "type": "scattergeo"
           }
          ],
          "scattergl": [
           {
            "marker": {
             "colorbar": {
              "outlinewidth": 0,
              "ticks": ""
             }
            },
            "type": "scattergl"
           }
          ],
          "scattermapbox": [
           {
            "marker": {
             "colorbar": {
              "outlinewidth": 0,
              "ticks": ""
             }
            },
            "type": "scattermapbox"
           }
          ],
          "scatterpolar": [
           {
            "marker": {
             "colorbar": {
              "outlinewidth": 0,
              "ticks": ""
             }
            },
            "type": "scatterpolar"
           }
          ],
          "scatterpolargl": [
           {
            "marker": {
             "colorbar": {
              "outlinewidth": 0,
              "ticks": ""
             }
            },
            "type": "scatterpolargl"
           }
          ],
          "scatterternary": [
           {
            "marker": {
             "colorbar": {
              "outlinewidth": 0,
              "ticks": ""
             }
            },
            "type": "scatterternary"
           }
          ],
          "surface": [
           {
            "colorbar": {
             "outlinewidth": 0,
             "ticks": ""
            },
            "colorscale": [
             [
              0,
              "#0d0887"
             ],
             [
              0.1111111111111111,
              "#46039f"
             ],
             [
              0.2222222222222222,
              "#7201a8"
             ],
             [
              0.3333333333333333,
              "#9c179e"
             ],
             [
              0.4444444444444444,
              "#bd3786"
             ],
             [
              0.5555555555555556,
              "#d8576b"
             ],
             [
              0.6666666666666666,
              "#ed7953"
             ],
             [
              0.7777777777777778,
              "#fb9f3a"
             ],
             [
              0.8888888888888888,
              "#fdca26"
             ],
             [
              1,
              "#f0f921"
             ]
            ],
            "type": "surface"
           }
          ],
          "table": [
           {
            "cells": {
             "fill": {
              "color": "#EBF0F8"
             },
             "line": {
              "color": "white"
             }
            },
            "header": {
             "fill": {
              "color": "#C8D4E3"
             },
             "line": {
              "color": "white"
             }
            },
            "type": "table"
           }
          ]
         },
         "layout": {
          "annotationdefaults": {
           "arrowcolor": "#2a3f5f",
           "arrowhead": 0,
           "arrowwidth": 1
          },
          "autotypenumbers": "strict",
          "coloraxis": {
           "colorbar": {
            "outlinewidth": 0,
            "ticks": ""
           }
          },
          "colorscale": {
           "diverging": [
            [
             0,
             "#8e0152"
            ],
            [
             0.1,
             "#c51b7d"
            ],
            [
             0.2,
             "#de77ae"
            ],
            [
             0.3,
             "#f1b6da"
            ],
            [
             0.4,
             "#fde0ef"
            ],
            [
             0.5,
             "#f7f7f7"
            ],
            [
             0.6,
             "#e6f5d0"
            ],
            [
             0.7,
             "#b8e186"
            ],
            [
             0.8,
             "#7fbc41"
            ],
            [
             0.9,
             "#4d9221"
            ],
            [
             1,
             "#276419"
            ]
           ],
           "sequential": [
            [
             0,
             "#0d0887"
            ],
            [
             0.1111111111111111,
             "#46039f"
            ],
            [
             0.2222222222222222,
             "#7201a8"
            ],
            [
             0.3333333333333333,
             "#9c179e"
            ],
            [
             0.4444444444444444,
             "#bd3786"
            ],
            [
             0.5555555555555556,
             "#d8576b"
            ],
            [
             0.6666666666666666,
             "#ed7953"
            ],
            [
             0.7777777777777778,
             "#fb9f3a"
            ],
            [
             0.8888888888888888,
             "#fdca26"
            ],
            [
             1,
             "#f0f921"
            ]
           ],
           "sequentialminus": [
            [
             0,
             "#0d0887"
            ],
            [
             0.1111111111111111,
             "#46039f"
            ],
            [
             0.2222222222222222,
             "#7201a8"
            ],
            [
             0.3333333333333333,
             "#9c179e"
            ],
            [
             0.4444444444444444,
             "#bd3786"
            ],
            [
             0.5555555555555556,
             "#d8576b"
            ],
            [
             0.6666666666666666,
             "#ed7953"
            ],
            [
             0.7777777777777778,
             "#fb9f3a"
            ],
            [
             0.8888888888888888,
             "#fdca26"
            ],
            [
             1,
             "#f0f921"
            ]
           ]
          },
          "colorway": [
           "#636efa",
           "#EF553B",
           "#00cc96",
           "#ab63fa",
           "#FFA15A",
           "#19d3f3",
           "#FF6692",
           "#B6E880",
           "#FF97FF",
           "#FECB52"
          ],
          "font": {
           "color": "#2a3f5f"
          },
          "geo": {
           "bgcolor": "white",
           "lakecolor": "white",
           "landcolor": "#E5ECF6",
           "showlakes": true,
           "showland": true,
           "subunitcolor": "white"
          },
          "hoverlabel": {
           "align": "left"
          },
          "hovermode": "closest",
          "mapbox": {
           "style": "light"
          },
          "paper_bgcolor": "white",
          "plot_bgcolor": "#E5ECF6",
          "polar": {
           "angularaxis": {
            "gridcolor": "white",
            "linecolor": "white",
            "ticks": ""
           },
           "bgcolor": "#E5ECF6",
           "radialaxis": {
            "gridcolor": "white",
            "linecolor": "white",
            "ticks": ""
           }
          },
          "scene": {
           "xaxis": {
            "backgroundcolor": "#E5ECF6",
            "gridcolor": "white",
            "gridwidth": 2,
            "linecolor": "white",
            "showbackground": true,
            "ticks": "",
            "zerolinecolor": "white"
           },
           "yaxis": {
            "backgroundcolor": "#E5ECF6",
            "gridcolor": "white",
            "gridwidth": 2,
            "linecolor": "white",
            "showbackground": true,
            "ticks": "",
            "zerolinecolor": "white"
           },
           "zaxis": {
            "backgroundcolor": "#E5ECF6",
            "gridcolor": "white",
            "gridwidth": 2,
            "linecolor": "white",
            "showbackground": true,
            "ticks": "",
            "zerolinecolor": "white"
           }
          },
          "shapedefaults": {
           "line": {
            "color": "#2a3f5f"
           }
          },
          "ternary": {
           "aaxis": {
            "gridcolor": "white",
            "linecolor": "white",
            "ticks": ""
           },
           "baxis": {
            "gridcolor": "white",
            "linecolor": "white",
            "ticks": ""
           },
           "bgcolor": "#E5ECF6",
           "caxis": {
            "gridcolor": "white",
            "linecolor": "white",
            "ticks": ""
           }
          },
          "title": {
           "x": 0.05
          },
          "xaxis": {
           "automargin": true,
           "gridcolor": "white",
           "linecolor": "white",
           "ticks": "",
           "title": {
            "standoff": 15
           },
           "zerolinecolor": "white",
           "zerolinewidth": 2
          },
          "yaxis": {
           "automargin": true,
           "gridcolor": "white",
           "linecolor": "white",
           "ticks": "",
           "title": {
            "standoff": 15
           },
           "zerolinecolor": "white",
           "zerolinewidth": 2
          }
         }
        },
        "title": {
         "text": "Outliers (highest & lowest)"
        },
        "xaxis": {
         "title": {
          "text": "Cities"
         }
        },
        "yaxis": {
         "title": {
          "text": "ratio of cylists"
         },
         "type": "linear"
        }
       }
      },
      "text/html": [
       "<div>                            <div id=\"6ea1a43e-53ef-48c3-a4b1-d4a467a3d8bc\" class=\"plotly-graph-div\" style=\"height:525px; width:100%;\"></div>            <script type=\"text/javascript\">                require([\"plotly\"], function(Plotly) {                    window.PLOTLYENV=window.PLOTLYENV || {};                                    if (document.getElementById(\"6ea1a43e-53ef-48c3-a4b1-d4a467a3d8bc\")) {                    Plotly.newPlot(                        \"6ea1a43e-53ef-48c3-a4b1-d4a467a3d8bc\",                        [{\"x\":[\"Antwerpen\",\"Assenede\",\"Beaumont\",\"Berloz\",\"Blankenberge\",\"Bocholt\",\"Buggenhout\",\"Couvin\",\"Fl\\u00e9malle\",\"Geldenaken\",\"Gent\",\"Hemiksem\",\"Herenthout\",\"Hoogstraten\",\"Houthulst\",\"Kapelle-op-den-Bos\",\"Knokke-Heist\",\"Meise\",\"Moeskroen\",\"Moorslede\",\"Olen\",\"Opwijk\",\"Ravels\",\"Spa\",\"Sprimont\",\"Stekene\",\"Voeren\",\"Wasseiges\",\"Wellen\",\"Zelzate\"],\"y\":[0.5591982531773138,0.09610427866558656,0.027976280979169835,0.0053435114503816794,0.02928678075111979,0.04467064860772273,0.03090459569517161,0.06219337308476111,0.00837956317647515,0.03814334233214317,0.47736640199839414,0.008195825592831385,0.0193929173693086,0.11830319418624302,0.06147999105745586,0.013662757599908914,0.15542415832026066,0.02038480405515888,0.021336584622418654,0.022826795863225564,0.025332721431849475,0.02594299368492917,0.07176120314527827,0.015097261201974257,0.01786576533075809,0.05855310912170336,0.046349942062572425,0.0214190093708166,0.038661710037174724,0.01827352406151811],\"type\":\"bar\"}],                        {\"barmode\":\"stack\",\"legend\":{\"orientation\":\"h\"},\"template\":{\"data\":{\"barpolar\":[{\"marker\":{\"line\":{\"color\":\"#E5ECF6\",\"width\":0.5},\"pattern\":{\"fillmode\":\"overlay\",\"size\":10,\"solidity\":0.2}},\"type\":\"barpolar\"}],\"bar\":[{\"error_x\":{\"color\":\"#2a3f5f\"},\"error_y\":{\"color\":\"#2a3f5f\"},\"marker\":{\"line\":{\"color\":\"#E5ECF6\",\"width\":0.5},\"pattern\":{\"fillmode\":\"overlay\",\"size\":10,\"solidity\":0.2}},\"type\":\"bar\"}],\"carpet\":[{\"aaxis\":{\"endlinecolor\":\"#2a3f5f\",\"gridcolor\":\"white\",\"linecolor\":\"white\",\"minorgridcolor\":\"white\",\"startlinecolor\":\"#2a3f5f\"},\"baxis\":{\"endlinecolor\":\"#2a3f5f\",\"gridcolor\":\"white\",\"linecolor\":\"white\",\"minorgridcolor\":\"white\",\"startlinecolor\":\"#2a3f5f\"},\"type\":\"carpet\"}],\"choropleth\":[{\"colorbar\":{\"outlinewidth\":0,\"ticks\":\"\"},\"type\":\"choropleth\"}],\"contourcarpet\":[{\"colorbar\":{\"outlinewidth\":0,\"ticks\":\"\"},\"type\":\"contourcarpet\"}],\"contour\":[{\"colorbar\":{\"outlinewidth\":0,\"ticks\":\"\"},\"colorscale\":[[0.0,\"#0d0887\"],[0.1111111111111111,\"#46039f\"],[0.2222222222222222,\"#7201a8\"],[0.3333333333333333,\"#9c179e\"],[0.4444444444444444,\"#bd3786\"],[0.5555555555555556,\"#d8576b\"],[0.6666666666666666,\"#ed7953\"],[0.7777777777777778,\"#fb9f3a\"],[0.8888888888888888,\"#fdca26\"],[1.0,\"#f0f921\"]],\"type\":\"contour\"}],\"heatmapgl\":[{\"colorbar\":{\"outlinewidth\":0,\"ticks\":\"\"},\"colorscale\":[[0.0,\"#0d0887\"],[0.1111111111111111,\"#46039f\"],[0.2222222222222222,\"#7201a8\"],[0.3333333333333333,\"#9c179e\"],[0.4444444444444444,\"#bd3786\"],[0.5555555555555556,\"#d8576b\"],[0.6666666666666666,\"#ed7953\"],[0.7777777777777778,\"#fb9f3a\"],[0.8888888888888888,\"#fdca26\"],[1.0,\"#f0f921\"]],\"type\":\"heatmapgl\"}],\"heatmap\":[{\"colorbar\":{\"outlinewidth\":0,\"ticks\":\"\"},\"colorscale\":[[0.0,\"#0d0887\"],[0.1111111111111111,\"#46039f\"],[0.2222222222222222,\"#7201a8\"],[0.3333333333333333,\"#9c179e\"],[0.4444444444444444,\"#bd3786\"],[0.5555555555555556,\"#d8576b\"],[0.6666666666666666,\"#ed7953\"],[0.7777777777777778,\"#fb9f3a\"],[0.8888888888888888,\"#fdca26\"],[1.0,\"#f0f921\"]],\"type\":\"heatmap\"}],\"histogram2dcontour\":[{\"colorbar\":{\"outlinewidth\":0,\"ticks\":\"\"},\"colorscale\":[[0.0,\"#0d0887\"],[0.1111111111111111,\"#46039f\"],[0.2222222222222222,\"#7201a8\"],[0.3333333333333333,\"#9c179e\"],[0.4444444444444444,\"#bd3786\"],[0.5555555555555556,\"#d8576b\"],[0.6666666666666666,\"#ed7953\"],[0.7777777777777778,\"#fb9f3a\"],[0.8888888888888888,\"#fdca26\"],[1.0,\"#f0f921\"]],\"type\":\"histogram2dcontour\"}],\"histogram2d\":[{\"colorbar\":{\"outlinewidth\":0,\"ticks\":\"\"},\"colorscale\":[[0.0,\"#0d0887\"],[0.1111111111111111,\"#46039f\"],[0.2222222222222222,\"#7201a8\"],[0.3333333333333333,\"#9c179e\"],[0.4444444444444444,\"#bd3786\"],[0.5555555555555556,\"#d8576b\"],[0.6666666666666666,\"#ed7953\"],[0.7777777777777778,\"#fb9f3a\"],[0.8888888888888888,\"#fdca26\"],[1.0,\"#f0f921\"]],\"type\":\"histogram2d\"}],\"histogram\":[{\"marker\":{\"pattern\":{\"fillmode\":\"overlay\",\"size\":10,\"solidity\":0.2}},\"type\":\"histogram\"}],\"mesh3d\":[{\"colorbar\":{\"outlinewidth\":0,\"ticks\":\"\"},\"type\":\"mesh3d\"}],\"parcoords\":[{\"line\":{\"colorbar\":{\"outlinewidth\":0,\"ticks\":\"\"}},\"type\":\"parcoords\"}],\"pie\":[{\"automargin\":true,\"type\":\"pie\"}],\"scatter3d\":[{\"line\":{\"colorbar\":{\"outlinewidth\":0,\"ticks\":\"\"}},\"marker\":{\"colorbar\":{\"outlinewidth\":0,\"ticks\":\"\"}},\"type\":\"scatter3d\"}],\"scattercarpet\":[{\"marker\":{\"colorbar\":{\"outlinewidth\":0,\"ticks\":\"\"}},\"type\":\"scattercarpet\"}],\"scattergeo\":[{\"marker\":{\"colorbar\":{\"outlinewidth\":0,\"ticks\":\"\"}},\"type\":\"scattergeo\"}],\"scattergl\":[{\"marker\":{\"colorbar\":{\"outlinewidth\":0,\"ticks\":\"\"}},\"type\":\"scattergl\"}],\"scattermapbox\":[{\"marker\":{\"colorbar\":{\"outlinewidth\":0,\"ticks\":\"\"}},\"type\":\"scattermapbox\"}],\"scatterpolargl\":[{\"marker\":{\"colorbar\":{\"outlinewidth\":0,\"ticks\":\"\"}},\"type\":\"scatterpolargl\"}],\"scatterpolar\":[{\"marker\":{\"colorbar\":{\"outlinewidth\":0,\"ticks\":\"\"}},\"type\":\"scatterpolar\"}],\"scatter\":[{\"marker\":{\"colorbar\":{\"outlinewidth\":0,\"ticks\":\"\"}},\"type\":\"scatter\"}],\"scatterternary\":[{\"marker\":{\"colorbar\":{\"outlinewidth\":0,\"ticks\":\"\"}},\"type\":\"scatterternary\"}],\"surface\":[{\"colorbar\":{\"outlinewidth\":0,\"ticks\":\"\"},\"colorscale\":[[0.0,\"#0d0887\"],[0.1111111111111111,\"#46039f\"],[0.2222222222222222,\"#7201a8\"],[0.3333333333333333,\"#9c179e\"],[0.4444444444444444,\"#bd3786\"],[0.5555555555555556,\"#d8576b\"],[0.6666666666666666,\"#ed7953\"],[0.7777777777777778,\"#fb9f3a\"],[0.8888888888888888,\"#fdca26\"],[1.0,\"#f0f921\"]],\"type\":\"surface\"}],\"table\":[{\"cells\":{\"fill\":{\"color\":\"#EBF0F8\"},\"line\":{\"color\":\"white\"}},\"header\":{\"fill\":{\"color\":\"#C8D4E3\"},\"line\":{\"color\":\"white\"}},\"type\":\"table\"}]},\"layout\":{\"annotationdefaults\":{\"arrowcolor\":\"#2a3f5f\",\"arrowhead\":0,\"arrowwidth\":1},\"autotypenumbers\":\"strict\",\"coloraxis\":{\"colorbar\":{\"outlinewidth\":0,\"ticks\":\"\"}},\"colorscale\":{\"diverging\":[[0,\"#8e0152\"],[0.1,\"#c51b7d\"],[0.2,\"#de77ae\"],[0.3,\"#f1b6da\"],[0.4,\"#fde0ef\"],[0.5,\"#f7f7f7\"],[0.6,\"#e6f5d0\"],[0.7,\"#b8e186\"],[0.8,\"#7fbc41\"],[0.9,\"#4d9221\"],[1,\"#276419\"]],\"sequential\":[[0.0,\"#0d0887\"],[0.1111111111111111,\"#46039f\"],[0.2222222222222222,\"#7201a8\"],[0.3333333333333333,\"#9c179e\"],[0.4444444444444444,\"#bd3786\"],[0.5555555555555556,\"#d8576b\"],[0.6666666666666666,\"#ed7953\"],[0.7777777777777778,\"#fb9f3a\"],[0.8888888888888888,\"#fdca26\"],[1.0,\"#f0f921\"]],\"sequentialminus\":[[0.0,\"#0d0887\"],[0.1111111111111111,\"#46039f\"],[0.2222222222222222,\"#7201a8\"],[0.3333333333333333,\"#9c179e\"],[0.4444444444444444,\"#bd3786\"],[0.5555555555555556,\"#d8576b\"],[0.6666666666666666,\"#ed7953\"],[0.7777777777777778,\"#fb9f3a\"],[0.8888888888888888,\"#fdca26\"],[1.0,\"#f0f921\"]]},\"colorway\":[\"#636efa\",\"#EF553B\",\"#00cc96\",\"#ab63fa\",\"#FFA15A\",\"#19d3f3\",\"#FF6692\",\"#B6E880\",\"#FF97FF\",\"#FECB52\"],\"font\":{\"color\":\"#2a3f5f\"},\"geo\":{\"bgcolor\":\"white\",\"lakecolor\":\"white\",\"landcolor\":\"#E5ECF6\",\"showlakes\":true,\"showland\":true,\"subunitcolor\":\"white\"},\"hoverlabel\":{\"align\":\"left\"},\"hovermode\":\"closest\",\"mapbox\":{\"style\":\"light\"},\"paper_bgcolor\":\"white\",\"plot_bgcolor\":\"#E5ECF6\",\"polar\":{\"angularaxis\":{\"gridcolor\":\"white\",\"linecolor\":\"white\",\"ticks\":\"\"},\"bgcolor\":\"#E5ECF6\",\"radialaxis\":{\"gridcolor\":\"white\",\"linecolor\":\"white\",\"ticks\":\"\"}},\"scene\":{\"xaxis\":{\"backgroundcolor\":\"#E5ECF6\",\"gridcolor\":\"white\",\"gridwidth\":2,\"linecolor\":\"white\",\"showbackground\":true,\"ticks\":\"\",\"zerolinecolor\":\"white\"},\"yaxis\":{\"backgroundcolor\":\"#E5ECF6\",\"gridcolor\":\"white\",\"gridwidth\":2,\"linecolor\":\"white\",\"showbackground\":true,\"ticks\":\"\",\"zerolinecolor\":\"white\"},\"zaxis\":{\"backgroundcolor\":\"#E5ECF6\",\"gridcolor\":\"white\",\"gridwidth\":2,\"linecolor\":\"white\",\"showbackground\":true,\"ticks\":\"\",\"zerolinecolor\":\"white\"}},\"shapedefaults\":{\"line\":{\"color\":\"#2a3f5f\"}},\"ternary\":{\"aaxis\":{\"gridcolor\":\"white\",\"linecolor\":\"white\",\"ticks\":\"\"},\"baxis\":{\"gridcolor\":\"white\",\"linecolor\":\"white\",\"ticks\":\"\"},\"bgcolor\":\"#E5ECF6\",\"caxis\":{\"gridcolor\":\"white\",\"linecolor\":\"white\",\"ticks\":\"\"}},\"title\":{\"x\":0.05},\"xaxis\":{\"automargin\":true,\"gridcolor\":\"white\",\"linecolor\":\"white\",\"ticks\":\"\",\"title\":{\"standoff\":15},\"zerolinecolor\":\"white\",\"zerolinewidth\":2},\"yaxis\":{\"automargin\":true,\"gridcolor\":\"white\",\"linecolor\":\"white\",\"ticks\":\"\",\"title\":{\"standoff\":15},\"zerolinecolor\":\"white\",\"zerolinewidth\":2}}},\"title\":{\"text\":\"Outliers (highest & lowest)\"},\"xaxis\":{\"title\":{\"text\":\"Cities\"}},\"yaxis\":{\"title\":{\"text\":\"ratio of cylists\"},\"type\":\"linear\"}},                        {\"responsive\": true}                    ).then(function(){\n",
       "                            \n",
       "var gd = document.getElementById('6ea1a43e-53ef-48c3-a4b1-d4a467a3d8bc');\n",
       "var x = new MutationObserver(function (mutations, observer) {{\n",
       "        var display = window.getComputedStyle(gd).display;\n",
       "        if (!display || display === 'none') {{\n",
       "            console.log([gd, 'removed!']);\n",
       "            Plotly.purge(gd);\n",
       "            observer.disconnect();\n",
       "        }}\n",
       "}});\n",
       "\n",
       "// Listen for the removal of the full notebook cells\n",
       "var notebookContainer = gd.closest('#notebook-container');\n",
       "if (notebookContainer) {{\n",
       "    x.observe(notebookContainer, {childList: true});\n",
       "}}\n",
       "\n",
       "// Listen for the clearing of the current output cell\n",
       "var outputEl = gd.closest('.output');\n",
       "if (outputEl) {{\n",
       "    x.observe(outputEl, {childList: true});\n",
       "}}\n",
       "\n",
       "                        })                };                });            </script>        </div>"
      ]
     },
     "metadata": {},
     "output_type": "display_data"
    }
   ],
   "source": [
    "init_notebook_mode(connected=True)\n",
    "for chart in charts:\n",
    "    chart.pop('id', None) # for some reason iplot does not like 'id'\n",
    "iplot(figure)"
   ]
  },
  {
   "cell_type": "code",
   "execution_count": 67,
   "id": "2669eb87",
   "metadata": {},
   "outputs": [],
   "source": [
    "figure.write_image(\"../../data/plot/accident_ratio_bicycles.png\")"
   ]
  },
  {
   "cell_type": "code",
   "execution_count": 72,
   "id": "acbae2ef",
   "metadata": {},
   "outputs": [],
   "source": [
    "reportFile = \"../../data/report/accident_ratio_bicycles_report.html\""
   ]
  },
  {
   "cell_type": "code",
   "execution_count": 73,
   "id": "c88c2eff",
   "metadata": {},
   "outputs": [],
   "source": [
    "# quick report on 100% records (no correlation matrix stuff)\n",
    "pp.ProfileReport(df=result.sample(frac=1),\n",
    "                 minimal=True,\n",
    "                 progress_bar=False,\n",
    "                 correlations={\"cramers\": {\"calculate\": False}},\n",
    "                 title=\"Report Title\",\n",
    "                 html={\"style\": {\"full_width\": True}}).to_file(reportFile)"
   ]
  },
  {
   "cell_type": "code",
   "execution_count": 74,
   "id": "5cb4b297",
   "metadata": {},
   "outputs": [
    {
     "data": {
      "application/javascript": [
       "window.open(\"../../data/report/accident_ratio_bicycles_report.html\");"
      ],
      "text/plain": [
       "<IPython.core.display.Javascript object>"
      ]
     },
     "metadata": {},
     "output_type": "display_data"
    }
   ],
   "source": [
    "# open the report (*.html)\n",
    "display(Javascript('window.open(\"{url}\");'.format(url=reportFile)))"
   ]
  },
  {
   "cell_type": "code",
   "execution_count": null,
   "id": "4d8f9a5d",
   "metadata": {},
   "outputs": [],
   "source": []
  }
 ],
 "metadata": {
  "kernelspec": {
   "display_name": "py38_datareport",
   "language": "python",
   "name": "conda-env-py38_datareport-py"
  },
  "language_info": {
   "codemirror_mode": {
    "name": "ipython",
    "version": 3
   },
   "file_extension": ".py",
   "mimetype": "text/x-python",
   "name": "python",
   "nbconvert_exporter": "python",
   "pygments_lexer": "ipython3",
   "version": "3.8.12"
  }
 },
 "nbformat": 4,
 "nbformat_minor": 5
}
