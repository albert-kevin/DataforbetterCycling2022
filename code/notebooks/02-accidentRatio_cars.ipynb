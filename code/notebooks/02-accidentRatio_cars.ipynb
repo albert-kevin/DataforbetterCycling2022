{
 "cells": [
  {
   "cell_type": "code",
   "execution_count": 1,
   "id": "d24a88f3",
   "metadata": {},
   "outputs": [],
   "source": [
    "import numpy as np\n",
    "import pandas as pd\n",
    "import dtale\n",
    "import pandas_profiling as pp\n",
    "from IPython.display import Javascript\n",
    "from plotly.offline import iplot, init_notebook_mode"
   ]
  },
  {
   "cell_type": "code",
   "execution_count": 2,
   "id": "de6679ff",
   "metadata": {},
   "outputs": [],
   "source": [
    "# load the dataset\n",
    "accident_victims_2019_df = pd.read_parquet(\"../../data/silver/accident_victims_2019_df.parquet\")"
   ]
  },
  {
   "cell_type": "code",
   "execution_count": 3,
   "id": "63710aca",
   "metadata": {},
   "outputs": [
    {
     "name": "stdout",
     "output_type": "stream",
     "text": [
      "<class 'pandas.core.frame.DataFrame'>\n",
      "RangeIndex: 85607 entries, 0 to 85606\n",
      "Data columns (total 43 columns):\n",
      " #   Column                     Non-Null Count  Dtype         \n",
      "---  ------                     --------------  -----         \n",
      " 0   DT_DAY                     85607 non-null  datetime64[ns]\n",
      " 1   DT_HOUR                    85607 non-null  Int64         \n",
      " 2   CD_DAY_OF_WEEK             85607 non-null  Int64         \n",
      " 3   TX_DAY_OF_WEEK_DESCR_FR    85607 non-null  string        \n",
      " 4   TX_DAY_OF_WEEK_DESCR_NL    85607 non-null  string        \n",
      " 5   MS_VICT                    85607 non-null  Int64         \n",
      " 6   MS_VIC_OK                  85607 non-null  Int64         \n",
      " 7   MS_SLY_INJ                 85607 non-null  Int64         \n",
      " 8   MS_SERLY_INJ               85607 non-null  Int64         \n",
      " 9   MS_DEAD_30_DAYS            85607 non-null  Int64         \n",
      " 10  CD_BUILD_UP_AREA           85607 non-null  Int64         \n",
      " 11  TX_BUILD_UP_AREA_DESCR_NL  85607 non-null  string        \n",
      " 12  TX_BUILD_UP_AREA_DESCR_FR  85607 non-null  string        \n",
      " 13  CD_VICT_TYPE               85607 non-null  Int64         \n",
      " 14  TX_VICT_TYPE_DESCR_FR      85607 non-null  string        \n",
      " 15  TX_VICT_TYPE_DESCR_NL      85607 non-null  string        \n",
      " 16  CD_ROAD_USER_TYPE          85607 non-null  Int64         \n",
      " 17  TX_ROAD_USR_TYPE_DESCR_FR  85607 non-null  string        \n",
      " 18  TX_ROAD_USR_TYPE_DESCR_NL  85607 non-null  string        \n",
      " 19  CD_ROAD_TYPE               85607 non-null  Int64         \n",
      " 20  TX_ROAD_TYPE_DESCR_FR      85607 non-null  string        \n",
      " 21  TX_ROAD_TYPE_DESCR_NL      85607 non-null  string        \n",
      " 22  CD_LIGHT_COND              85607 non-null  Int64         \n",
      " 23  TX_LIGHT_COND_DESCR_FR     85607 non-null  string        \n",
      " 24  TX_LIGHT_COND_DESCR_NL     85607 non-null  string        \n",
      " 25  CD_AGE_CLS                 85607 non-null  Int64         \n",
      " 26  TX_AGE_CLS_DESCR_FR        85607 non-null  string        \n",
      " 27  TX_AGE_CLS_DESCR_NL        85607 non-null  string        \n",
      " 28  CD_MUNTY_REFNIS            85607 non-null  Int64         \n",
      " 29  TX_MUNTY_DESCR_FR          85607 non-null  string        \n",
      " 30  TX_MUNTY_DESCR_NL          85607 non-null  string        \n",
      " 31  CD_DSTR_REFNIS             85607 non-null  Int64         \n",
      " 32  TX_ADM_DSTR_DESCR_FR       85607 non-null  string        \n",
      " 33  TX_ADM_DSTR_DESCR_NL       85607 non-null  string        \n",
      " 34  CD_PROV_REFNIS             76907 non-null  Int64         \n",
      " 35  TX_PROV_DESCR_FR           76907 non-null  string        \n",
      " 36  TX_PROV_DESCR_NL           76907 non-null  string        \n",
      " 37  CD_RGN_REFNIS              85607 non-null  Int64         \n",
      " 38  TX_RGN_DESCR_FR            85607 non-null  string        \n",
      " 39  TX_RGN_DESCR_NL            85607 non-null  string        \n",
      " 40  CD_SEX                     85605 non-null  Int64         \n",
      " 41  TX_SEX_DESCR_FR            85605 non-null  string        \n",
      " 42  TX_SEX_DESCR_NL            85605 non-null  string        \n",
      "dtypes: Int64(18), datetime64[ns](1), string(24)\n",
      "memory usage: 29.6 MB\n"
     ]
    }
   ],
   "source": [
    "accident_victims_2019_df.info()"
   ]
  },
  {
   "cell_type": "code",
   "execution_count": 4,
   "id": "acee21ff",
   "metadata": {},
   "outputs": [],
   "source": [
    "# remove any duplicate values\n",
    "accident_victims_2019_df = accident_victims_2019_df.drop_duplicates().reset_index(drop=True)"
   ]
  },
  {
   "cell_type": "markdown",
   "id": "20f52617",
   "metadata": {},
   "source": [
    "# keep only the victim type 'bicycle' users"
   ]
  },
  {
   "cell_type": "code",
   "execution_count": 5,
   "id": "e5622656",
   "metadata": {},
   "outputs": [
    {
     "data": {
      "text/plain": [
       "<StringArray>\n",
       "[    'Bromfietser',      'Bestuurder',      'Voetganger',       'Passagier',\n",
       "         'Fietser',    'Motorfietser', 'Autres victimes',        'Onbekend']\n",
       "Length: 8, dtype: string"
      ]
     },
     "execution_count": 5,
     "metadata": {},
     "output_type": "execute_result"
    }
   ],
   "source": [
    "accident_victims_2019_df['TX_VICT_TYPE_DESCR_NL'].unique()"
   ]
  },
  {
   "cell_type": "code",
   "execution_count": 6,
   "id": "71569c08",
   "metadata": {},
   "outputs": [],
   "source": [
    "# remove all other records, keep only the victim type 'bicycle' type \n",
    "accident_victims_2019_df = accident_victims_2019_df[(accident_victims_2019_df['TX_VICT_TYPE_DESCR_NL'] == 'Bestuurder')]"
   ]
  },
  {
   "cell_type": "code",
   "execution_count": 7,
   "id": "7474e2a1",
   "metadata": {},
   "outputs": [],
   "source": [
    "# select only a few important columns (date, vilage, ...)\n",
    "accident_per_day_2019_df = accident_victims_2019_df[[\"DT_DAY\", \"TX_BUILD_UP_AREA_DESCR_NL\", \"CD_ROAD_USER_TYPE\", \"TX_ROAD_TYPE_DESCR_NL\", \"TX_LIGHT_COND_DESCR_NL\", \"TX_AGE_CLS_DESCR_NL\", \"TX_MUNTY_DESCR_NL\"]]"
   ]
  },
  {
   "cell_type": "code",
   "execution_count": 8,
   "id": "756db66b",
   "metadata": {},
   "outputs": [
    {
     "name": "stdout",
     "output_type": "stream",
     "text": [
      "<class 'pandas.core.frame.DataFrame'>\n",
      "Int64Index: 49315 entries, 1 to 85583\n",
      "Data columns (total 7 columns):\n",
      " #   Column                     Non-Null Count  Dtype         \n",
      "---  ------                     --------------  -----         \n",
      " 0   DT_DAY                     49315 non-null  datetime64[ns]\n",
      " 1   TX_BUILD_UP_AREA_DESCR_NL  49315 non-null  string        \n",
      " 2   CD_ROAD_USER_TYPE          49315 non-null  Int64         \n",
      " 3   TX_ROAD_TYPE_DESCR_NL      49315 non-null  string        \n",
      " 4   TX_LIGHT_COND_DESCR_NL     49315 non-null  string        \n",
      " 5   TX_AGE_CLS_DESCR_NL        49315 non-null  string        \n",
      " 6   TX_MUNTY_DESCR_NL          49315 non-null  string        \n",
      "dtypes: Int64(1), datetime64[ns](1), string(5)\n",
      "memory usage: 3.1 MB\n"
     ]
    }
   ],
   "source": [
    "accident_per_day_2019_df.info()"
   ]
  },
  {
   "cell_type": "code",
   "execution_count": 9,
   "id": "8408e8cd",
   "metadata": {},
   "outputs": [
    {
     "data": {
      "text/html": [
       "<div>\n",
       "<style scoped>\n",
       "    .dataframe tbody tr th:only-of-type {\n",
       "        vertical-align: middle;\n",
       "    }\n",
       "\n",
       "    .dataframe tbody tr th {\n",
       "        vertical-align: top;\n",
       "    }\n",
       "\n",
       "    .dataframe thead th {\n",
       "        text-align: right;\n",
       "    }\n",
       "</style>\n",
       "<table border=\"1\" class=\"dataframe\">\n",
       "  <thead>\n",
       "    <tr style=\"text-align: right;\">\n",
       "      <th></th>\n",
       "      <th>DT_DAY</th>\n",
       "      <th>TX_BUILD_UP_AREA_DESCR_NL</th>\n",
       "      <th>CD_ROAD_USER_TYPE</th>\n",
       "      <th>TX_ROAD_TYPE_DESCR_NL</th>\n",
       "      <th>TX_LIGHT_COND_DESCR_NL</th>\n",
       "      <th>TX_AGE_CLS_DESCR_NL</th>\n",
       "      <th>TX_MUNTY_DESCR_NL</th>\n",
       "    </tr>\n",
       "  </thead>\n",
       "  <tbody>\n",
       "    <tr>\n",
       "      <th>1</th>\n",
       "      <td>2019-12-15</td>\n",
       "      <td>Binnen bebouwde kom</td>\n",
       "      <td>1</td>\n",
       "      <td>Gewestweg</td>\n",
       "      <td>Bij klaarlichte dag</td>\n",
       "      <td>30 tot 34 jaar</td>\n",
       "      <td>Aartselaar</td>\n",
       "    </tr>\n",
       "    <tr>\n",
       "      <th>2</th>\n",
       "      <td>2019-12-30</td>\n",
       "      <td>Onbekend</td>\n",
       "      <td>1</td>\n",
       "      <td>Gemeenteweg</td>\n",
       "      <td>Bij klaarlichte dag</td>\n",
       "      <td>Onbekend</td>\n",
       "      <td>Aartselaar</td>\n",
       "    </tr>\n",
       "    <tr>\n",
       "      <th>5</th>\n",
       "      <td>2019-12-11</td>\n",
       "      <td>Buiten bebouwde kom</td>\n",
       "      <td>2</td>\n",
       "      <td>Gemeenteweg</td>\n",
       "      <td>Nacht, ontstoken openbare verlichting</td>\n",
       "      <td>40 tot 44 jaar</td>\n",
       "      <td>Aartselaar</td>\n",
       "    </tr>\n",
       "    <tr>\n",
       "      <th>10</th>\n",
       "      <td>2019-11-19</td>\n",
       "      <td>Buiten bebouwde kom</td>\n",
       "      <td>1</td>\n",
       "      <td>Gewestweg</td>\n",
       "      <td>Bij klaarlichte dag</td>\n",
       "      <td>25 tot 29 jaar</td>\n",
       "      <td>Aartselaar</td>\n",
       "    </tr>\n",
       "    <tr>\n",
       "      <th>11</th>\n",
       "      <td>2019-11-27</td>\n",
       "      <td>Binnen bebouwde kom</td>\n",
       "      <td>1</td>\n",
       "      <td>Gemeenteweg</td>\n",
       "      <td>Bij klaarlichte dag</td>\n",
       "      <td>35 tot 39 jaar</td>\n",
       "      <td>Aartselaar</td>\n",
       "    </tr>\n",
       "    <tr>\n",
       "      <th>...</th>\n",
       "      <td>...</td>\n",
       "      <td>...</td>\n",
       "      <td>...</td>\n",
       "      <td>...</td>\n",
       "      <td>...</td>\n",
       "      <td>...</td>\n",
       "      <td>...</td>\n",
       "    </tr>\n",
       "    <tr>\n",
       "      <th>85577</th>\n",
       "      <td>2019-06-15</td>\n",
       "      <td>Buiten bebouwde kom</td>\n",
       "      <td>1</td>\n",
       "      <td>Gewestweg</td>\n",
       "      <td>Bij klaarlichte dag</td>\n",
       "      <td>65 tot 69 jaar</td>\n",
       "      <td>Viroinval</td>\n",
       "    </tr>\n",
       "    <tr>\n",
       "      <th>85578</th>\n",
       "      <td>2019-07-02</td>\n",
       "      <td>Binnen bebouwde kom</td>\n",
       "      <td>2</td>\n",
       "      <td>Gemeenteweg</td>\n",
       "      <td>Bij klaarlichte dag</td>\n",
       "      <td>60 tot 64 jaar</td>\n",
       "      <td>Viroinval</td>\n",
       "    </tr>\n",
       "    <tr>\n",
       "      <th>85580</th>\n",
       "      <td>2019-09-03</td>\n",
       "      <td>Binnen bebouwde kom</td>\n",
       "      <td>4</td>\n",
       "      <td>Gemeenteweg</td>\n",
       "      <td>Bij klaarlichte dag</td>\n",
       "      <td>75 jaar en meer</td>\n",
       "      <td>Viroinval</td>\n",
       "    </tr>\n",
       "    <tr>\n",
       "      <th>85582</th>\n",
       "      <td>2019-09-16</td>\n",
       "      <td>Binnen bebouwde kom</td>\n",
       "      <td>1</td>\n",
       "      <td>Gewestweg</td>\n",
       "      <td>Bij klaarlichte dag</td>\n",
       "      <td>30 tot 34 jaar</td>\n",
       "      <td>Viroinval</td>\n",
       "    </tr>\n",
       "    <tr>\n",
       "      <th>85583</th>\n",
       "      <td>2019-09-16</td>\n",
       "      <td>Binnen bebouwde kom</td>\n",
       "      <td>4</td>\n",
       "      <td>Gewestweg</td>\n",
       "      <td>Bij klaarlichte dag</td>\n",
       "      <td>25 tot 29 jaar</td>\n",
       "      <td>Viroinval</td>\n",
       "    </tr>\n",
       "  </tbody>\n",
       "</table>\n",
       "<p>49315 rows × 7 columns</p>\n",
       "</div>"
      ],
      "text/plain": [
       "          DT_DAY TX_BUILD_UP_AREA_DESCR_NL  CD_ROAD_USER_TYPE  \\\n",
       "1     2019-12-15       Binnen bebouwde kom                  1   \n",
       "2     2019-12-30                  Onbekend                  1   \n",
       "5     2019-12-11       Buiten bebouwde kom                  2   \n",
       "10    2019-11-19       Buiten bebouwde kom                  1   \n",
       "11    2019-11-27       Binnen bebouwde kom                  1   \n",
       "...          ...                       ...                ...   \n",
       "85577 2019-06-15       Buiten bebouwde kom                  1   \n",
       "85578 2019-07-02       Binnen bebouwde kom                  2   \n",
       "85580 2019-09-03       Binnen bebouwde kom                  4   \n",
       "85582 2019-09-16       Binnen bebouwde kom                  1   \n",
       "85583 2019-09-16       Binnen bebouwde kom                  4   \n",
       "\n",
       "      TX_ROAD_TYPE_DESCR_NL                 TX_LIGHT_COND_DESCR_NL  \\\n",
       "1                 Gewestweg                    Bij klaarlichte dag   \n",
       "2               Gemeenteweg                    Bij klaarlichte dag   \n",
       "5               Gemeenteweg  Nacht, ontstoken openbare verlichting   \n",
       "10                Gewestweg                    Bij klaarlichte dag   \n",
       "11              Gemeenteweg                    Bij klaarlichte dag   \n",
       "...                     ...                                    ...   \n",
       "85577             Gewestweg                    Bij klaarlichte dag   \n",
       "85578           Gemeenteweg                    Bij klaarlichte dag   \n",
       "85580           Gemeenteweg                    Bij klaarlichte dag   \n",
       "85582             Gewestweg                    Bij klaarlichte dag   \n",
       "85583             Gewestweg                    Bij klaarlichte dag   \n",
       "\n",
       "      TX_AGE_CLS_DESCR_NL TX_MUNTY_DESCR_NL  \n",
       "1          30 tot 34 jaar        Aartselaar  \n",
       "2                Onbekend        Aartselaar  \n",
       "5          40 tot 44 jaar        Aartselaar  \n",
       "10         25 tot 29 jaar        Aartselaar  \n",
       "11         35 tot 39 jaar        Aartselaar  \n",
       "...                   ...               ...  \n",
       "85577      65 tot 69 jaar         Viroinval  \n",
       "85578      60 tot 64 jaar         Viroinval  \n",
       "85580     75 jaar en meer         Viroinval  \n",
       "85582      30 tot 34 jaar         Viroinval  \n",
       "85583      25 tot 29 jaar         Viroinval  \n",
       "\n",
       "[49315 rows x 7 columns]"
      ]
     },
     "execution_count": 9,
     "metadata": {},
     "output_type": "execute_result"
    }
   ],
   "source": [
    "accident_per_day_2019_df"
   ]
  },
  {
   "cell_type": "markdown",
   "id": "91cebbc4",
   "metadata": {},
   "source": [
    "## count is the right function to use\n",
    "but, we need the number of incidents that day"
   ]
  },
  {
   "cell_type": "code",
   "execution_count": 10,
   "id": "d8c0393a",
   "metadata": {},
   "outputs": [
    {
     "data": {
      "text/html": [
       "<div>\n",
       "<style scoped>\n",
       "    .dataframe tbody tr th:only-of-type {\n",
       "        vertical-align: middle;\n",
       "    }\n",
       "\n",
       "    .dataframe tbody tr th {\n",
       "        vertical-align: top;\n",
       "    }\n",
       "\n",
       "    .dataframe thead th {\n",
       "        text-align: right;\n",
       "    }\n",
       "</style>\n",
       "<table border=\"1\" class=\"dataframe\">\n",
       "  <thead>\n",
       "    <tr style=\"text-align: right;\">\n",
       "      <th></th>\n",
       "      <th>DT_DAY</th>\n",
       "      <th>TX_MUNTY_DESCR_NL</th>\n",
       "      <th>nr_of_accidents</th>\n",
       "    </tr>\n",
       "  </thead>\n",
       "  <tbody>\n",
       "    <tr>\n",
       "      <th>4921</th>\n",
       "      <td>2019-03-18</td>\n",
       "      <td>Antwerpen</td>\n",
       "      <td>25</td>\n",
       "    </tr>\n",
       "    <tr>\n",
       "      <th>6047</th>\n",
       "      <td>2019-04-03</td>\n",
       "      <td>Antwerpen</td>\n",
       "      <td>24</td>\n",
       "    </tr>\n",
       "    <tr>\n",
       "      <th>5977</th>\n",
       "      <td>2019-04-02</td>\n",
       "      <td>Antwerpen</td>\n",
       "      <td>23</td>\n",
       "    </tr>\n",
       "    <tr>\n",
       "      <th>24652</th>\n",
       "      <td>2019-12-20</td>\n",
       "      <td>Antwerpen</td>\n",
       "      <td>23</td>\n",
       "    </tr>\n",
       "    <tr>\n",
       "      <th>10985</th>\n",
       "      <td>2019-06-14</td>\n",
       "      <td>Antwerpen</td>\n",
       "      <td>22</td>\n",
       "    </tr>\n",
       "    <tr>\n",
       "      <th>...</th>\n",
       "      <td>...</td>\n",
       "      <td>...</td>\n",
       "      <td>...</td>\n",
       "    </tr>\n",
       "    <tr>\n",
       "      <th>25245</th>\n",
       "      <td>2019-12-31</td>\n",
       "      <td>Hechtel-Eksel</td>\n",
       "      <td>1</td>\n",
       "    </tr>\n",
       "    <tr>\n",
       "      <th>25237</th>\n",
       "      <td>2019-12-31</td>\n",
       "      <td>Borsbeek</td>\n",
       "      <td>1</td>\n",
       "    </tr>\n",
       "    <tr>\n",
       "      <th>25233</th>\n",
       "      <td>2019-12-31</td>\n",
       "      <td>Awans</td>\n",
       "      <td>1</td>\n",
       "    </tr>\n",
       "    <tr>\n",
       "      <th>25232</th>\n",
       "      <td>2019-12-31</td>\n",
       "      <td>Avelgem</td>\n",
       "      <td>1</td>\n",
       "    </tr>\n",
       "    <tr>\n",
       "      <th>25229</th>\n",
       "      <td>2019-12-31</td>\n",
       "      <td>Anderlecht</td>\n",
       "      <td>1</td>\n",
       "    </tr>\n",
       "  </tbody>\n",
       "</table>\n",
       "<p>25275 rows × 3 columns</p>\n",
       "</div>"
      ],
      "text/plain": [
       "          DT_DAY TX_MUNTY_DESCR_NL  nr_of_accidents\n",
       "4921  2019-03-18         Antwerpen               25\n",
       "6047  2019-04-03         Antwerpen               24\n",
       "5977  2019-04-02         Antwerpen               23\n",
       "24652 2019-12-20         Antwerpen               23\n",
       "10985 2019-06-14         Antwerpen               22\n",
       "...          ...               ...              ...\n",
       "25245 2019-12-31     Hechtel-Eksel                1\n",
       "25237 2019-12-31          Borsbeek                1\n",
       "25233 2019-12-31             Awans                1\n",
       "25232 2019-12-31           Avelgem                1\n",
       "25229 2019-12-31        Anderlecht                1\n",
       "\n",
       "[25275 rows x 3 columns]"
      ]
     },
     "execution_count": 10,
     "metadata": {},
     "output_type": "execute_result"
    }
   ],
   "source": [
    "# sort date first, then sort on vilagename, then group these two and count() the number of incidents that occured\n",
    "# then create a new dataframe and sort the results with the most accidents on a given day first \n",
    "groupby_accident_per_day_2019_df = accident_per_day_2019_df.groupby(['DT_DAY', 'TX_MUNTY_DESCR_NL'])['TX_ROAD_TYPE_DESCR_NL'].count().to_frame(name='nr_of_accidents').reset_index()\n",
    "groupby_accident_per_day_2019_df = groupby_accident_per_day_2019_df.sort_values(by=['nr_of_accidents', 'DT_DAY', 'TX_MUNTY_DESCR_NL'], ascending=[False, True, False])\n",
    "groupby_accident_per_day_2019_df"
   ]
  },
  {
   "cell_type": "code",
   "execution_count": 11,
   "id": "08b34c0d",
   "metadata": {},
   "outputs": [
    {
     "data": {
      "text/html": [
       "<div>\n",
       "<style scoped>\n",
       "    .dataframe tbody tr th:only-of-type {\n",
       "        vertical-align: middle;\n",
       "    }\n",
       "\n",
       "    .dataframe tbody tr th {\n",
       "        vertical-align: top;\n",
       "    }\n",
       "\n",
       "    .dataframe thead th {\n",
       "        text-align: right;\n",
       "    }\n",
       "</style>\n",
       "<table border=\"1\" class=\"dataframe\">\n",
       "  <thead>\n",
       "    <tr style=\"text-align: right;\">\n",
       "      <th></th>\n",
       "      <th>DT_DAY</th>\n",
       "      <th>TX_MUNTY_DESCR_NL</th>\n",
       "      <th>nr_of_accidents</th>\n",
       "    </tr>\n",
       "  </thead>\n",
       "  <tbody>\n",
       "    <tr>\n",
       "      <th>1</th>\n",
       "      <td>2019-01-01</td>\n",
       "      <td>Antwerpen</td>\n",
       "      <td>6</td>\n",
       "    </tr>\n",
       "    <tr>\n",
       "      <th>56</th>\n",
       "      <td>2019-01-02</td>\n",
       "      <td>Antwerpen</td>\n",
       "      <td>7</td>\n",
       "    </tr>\n",
       "    <tr>\n",
       "      <th>104</th>\n",
       "      <td>2019-01-03</td>\n",
       "      <td>Antwerpen</td>\n",
       "      <td>4</td>\n",
       "    </tr>\n",
       "    <tr>\n",
       "      <th>148</th>\n",
       "      <td>2019-01-04</td>\n",
       "      <td>Antwerpen</td>\n",
       "      <td>11</td>\n",
       "    </tr>\n",
       "    <tr>\n",
       "      <th>187</th>\n",
       "      <td>2019-01-05</td>\n",
       "      <td>Antwerpen</td>\n",
       "      <td>7</td>\n",
       "    </tr>\n",
       "    <tr>\n",
       "      <th>...</th>\n",
       "      <td>...</td>\n",
       "      <td>...</td>\n",
       "      <td>...</td>\n",
       "    </tr>\n",
       "    <tr>\n",
       "      <th>25052</th>\n",
       "      <td>2019-12-27</td>\n",
       "      <td>Antwerpen</td>\n",
       "      <td>9</td>\n",
       "    </tr>\n",
       "    <tr>\n",
       "      <th>25101</th>\n",
       "      <td>2019-12-28</td>\n",
       "      <td>Antwerpen</td>\n",
       "      <td>6</td>\n",
       "    </tr>\n",
       "    <tr>\n",
       "      <th>25140</th>\n",
       "      <td>2019-12-29</td>\n",
       "      <td>Antwerpen</td>\n",
       "      <td>2</td>\n",
       "    </tr>\n",
       "    <tr>\n",
       "      <th>25172</th>\n",
       "      <td>2019-12-30</td>\n",
       "      <td>Antwerpen</td>\n",
       "      <td>5</td>\n",
       "    </tr>\n",
       "    <tr>\n",
       "      <th>25231</th>\n",
       "      <td>2019-12-31</td>\n",
       "      <td>Antwerpen</td>\n",
       "      <td>2</td>\n",
       "    </tr>\n",
       "  </tbody>\n",
       "</table>\n",
       "<p>357 rows × 3 columns</p>\n",
       "</div>"
      ],
      "text/plain": [
       "          DT_DAY TX_MUNTY_DESCR_NL  nr_of_accidents\n",
       "1     2019-01-01         Antwerpen                6\n",
       "56    2019-01-02         Antwerpen                7\n",
       "104   2019-01-03         Antwerpen                4\n",
       "148   2019-01-04         Antwerpen               11\n",
       "187   2019-01-05         Antwerpen                7\n",
       "...          ...               ...              ...\n",
       "25052 2019-12-27         Antwerpen                9\n",
       "25101 2019-12-28         Antwerpen                6\n",
       "25140 2019-12-29         Antwerpen                2\n",
       "25172 2019-12-30         Antwerpen                5\n",
       "25231 2019-12-31         Antwerpen                2\n",
       "\n",
       "[357 rows x 3 columns]"
      ]
     },
     "execution_count": 11,
     "metadata": {},
     "output_type": "execute_result"
    }
   ],
   "source": [
    "# this was to check and verify the correctness of the results - ALL GOOD\n",
    "groupby_accident_per_day_2019_df[groupby_accident_per_day_2019_df[\"TX_MUNTY_DESCR_NL\"] == 'Antwerpen'].sort_values(by=['DT_DAY'], ascending=[True])"
   ]
  },
  {
   "cell_type": "markdown",
   "id": "0a39387a",
   "metadata": {},
   "source": [
    "# so now, we calculate the accidents/cyclists RATIO"
   ]
  },
  {
   "cell_type": "code",
   "execution_count": 12,
   "id": "f5088546",
   "metadata": {},
   "outputs": [],
   "source": [
    "# load population values\n",
    "village_populations_wiki_df = pd.read_parquet(\"../../data/silver/village_populations_wiki_df.parquet\")"
   ]
  },
  {
   "cell_type": "code",
   "execution_count": 13,
   "id": "04583516",
   "metadata": {},
   "outputs": [],
   "source": [
    "# village_populations_wiki_df.columns = [\"Village\", \"Population\", \"km2_size\"]"
   ]
  },
  {
   "cell_type": "code",
   "execution_count": 14,
   "id": "f315d59f",
   "metadata": {},
   "outputs": [
    {
     "data": {
      "text/html": [
       "<div>\n",
       "<style scoped>\n",
       "    .dataframe tbody tr th:only-of-type {\n",
       "        vertical-align: middle;\n",
       "    }\n",
       "\n",
       "    .dataframe tbody tr th {\n",
       "        vertical-align: top;\n",
       "    }\n",
       "\n",
       "    .dataframe thead th {\n",
       "        text-align: right;\n",
       "    }\n",
       "</style>\n",
       "<table border=\"1\" class=\"dataframe\">\n",
       "  <thead>\n",
       "    <tr style=\"text-align: right;\">\n",
       "      <th></th>\n",
       "      <th>Village</th>\n",
       "      <th>Population</th>\n",
       "      <th>km2_size</th>\n",
       "    </tr>\n",
       "  </thead>\n",
       "  <tbody>\n",
       "    <tr>\n",
       "      <th>0</th>\n",
       "      <td>Antwerpen</td>\n",
       "      <td>446525</td>\n",
       "      <td>204,51</td>\n",
       "    </tr>\n",
       "    <tr>\n",
       "      <th>1</th>\n",
       "      <td>Gent</td>\n",
       "      <td>224180</td>\n",
       "      <td>156,18</td>\n",
       "    </tr>\n",
       "    <tr>\n",
       "      <th>2</th>\n",
       "      <td>Charleroi</td>\n",
       "      <td>200827</td>\n",
       "      <td>102,08</td>\n",
       "    </tr>\n",
       "    <tr>\n",
       "      <th>3</th>\n",
       "      <td>Luik</td>\n",
       "      <td>185639</td>\n",
       "      <td>69,39</td>\n",
       "    </tr>\n",
       "    <tr>\n",
       "      <th>4</th>\n",
       "      <td>Brussel</td>\n",
       "      <td>133859</td>\n",
       "      <td>32,61</td>\n",
       "    </tr>\n",
       "    <tr>\n",
       "      <th>...</th>\n",
       "      <td>...</td>\n",
       "      <td>...</td>\n",
       "      <td>...</td>\n",
       "    </tr>\n",
       "    <tr>\n",
       "      <th>576</th>\n",
       "      <td>Martelange</td>\n",
       "      <td>1428</td>\n",
       "      <td>29,67</td>\n",
       "    </tr>\n",
       "    <tr>\n",
       "      <th>577</th>\n",
       "      <td>Herbeumont</td>\n",
       "      <td>1434</td>\n",
       "      <td>58,81</td>\n",
       "    </tr>\n",
       "    <tr>\n",
       "      <th>578</th>\n",
       "      <td>Daverdisse</td>\n",
       "      <td>1360</td>\n",
       "      <td>56,40</td>\n",
       "    </tr>\n",
       "    <tr>\n",
       "      <th>579</th>\n",
       "      <td>Mesen</td>\n",
       "      <td>964</td>\n",
       "      <td>3,58</td>\n",
       "    </tr>\n",
       "    <tr>\n",
       "      <th>580</th>\n",
       "      <td>Herstappe</td>\n",
       "      <td>85</td>\n",
       "      <td>1,35</td>\n",
       "    </tr>\n",
       "  </tbody>\n",
       "</table>\n",
       "<p>581 rows × 3 columns</p>\n",
       "</div>"
      ],
      "text/plain": [
       "        Village  Population km2_size\n",
       "0     Antwerpen      446525   204,51\n",
       "1          Gent      224180   156,18\n",
       "2     Charleroi      200827   102,08\n",
       "3          Luik      185639    69,39\n",
       "4       Brussel      133859    32,61\n",
       "..          ...         ...      ...\n",
       "576  Martelange        1428    29,67\n",
       "577  Herbeumont        1434    58,81\n",
       "578  Daverdisse        1360    56,40\n",
       "579       Mesen         964     3,58\n",
       "580   Herstappe          85     1,35\n",
       "\n",
       "[581 rows x 3 columns]"
      ]
     },
     "execution_count": 14,
     "metadata": {},
     "output_type": "execute_result"
    }
   ],
   "source": [
    "village_populations_wiki_df"
   ]
  },
  {
   "cell_type": "code",
   "execution_count": 15,
   "id": "407ed236",
   "metadata": {},
   "outputs": [],
   "source": [
    "village_populations_wiki_df['km2_size'] = village_populations_wiki_df['km2_size'].str[:-3:].astype(int)"
   ]
  },
  {
   "cell_type": "code",
   "execution_count": 16,
   "id": "37d934b2",
   "metadata": {},
   "outputs": [
    {
     "name": "stdout",
     "output_type": "stream",
     "text": [
      "<class 'pandas.core.frame.DataFrame'>\n",
      "RangeIndex: 581 entries, 0 to 580\n",
      "Data columns (total 3 columns):\n",
      " #   Column      Non-Null Count  Dtype \n",
      "---  ------      --------------  ----- \n",
      " 0   Village     581 non-null    string\n",
      " 1   Population  581 non-null    Int64 \n",
      " 2   km2_size    581 non-null    int64 \n",
      "dtypes: Int64(1), int64(1), string(1)\n",
      "memory usage: 14.3 KB\n"
     ]
    }
   ],
   "source": [
    "village_populations_wiki_df.info()"
   ]
  },
  {
   "cell_type": "markdown",
   "id": "3cec1e24",
   "metadata": {},
   "source": [
    "# now we calculate the ratio"
   ]
  },
  {
   "cell_type": "code",
   "execution_count": 17,
   "id": "c2b0a207",
   "metadata": {},
   "outputs": [],
   "source": [
    "groupby_accident_per_day_2019_df = groupby_accident_per_day_2019_df.replace({'TX_MUNTY_DESCR_NL':{\n",
    "    'Sint-Niklaas (Sint-Niklaas)': 'Sint-Niklaas',\n",
    "    'Halle (Halle-Vilvoorde)': 'Halle',\n",
    "    'Beveren (Sint-Niklaas)': 'Beveren',\n",
    "    'Tielt (Tielt)': 'Tielt',\n",
    "    'Vorst (Brussel-Hoofdstad)': 'Vorst',\n",
    "    'Kapellen (Antwerpen)': 'Kapellen',\n",
    "    'Hamme (Dendermonde)': 'Hamme',\n",
    "    'Nieuwerkerken (Hasselt)': 'Nieuwerkerken',\n",
    "    'Machelen (Halle-Vilvoorde)': 'Machelen',\n",
    "    'Hove (Antwerpen)': 'Hove',\n",
    "    'Celles (Doornik)': 'Celles',\n",
    "    'Perwijs (Nijvel)': 'Perwijs',\n",
    "    'Saint-Nicolas (Luik)': 'Saint-Nicolas',\n",
    "    'Aalst (Aalst)': 'Aalst',\n",
    "    'Moerbeke (Gent)': 'Moerbeke'}})"
   ]
  },
  {
   "cell_type": "code",
   "execution_count": 18,
   "id": "f03a8edc",
   "metadata": {},
   "outputs": [],
   "source": [
    "village_populations_wiki_df = village_populations_wiki_df.replace({'Village':{\n",
    "    'Pelt*': 'Pelt',\n",
    "    'Deinze*': 'Deinze',\n",
    "    'Kruisem*': 'Kruisem',\n",
    "    'Aalter*': 'Aalter',\n",
    "    'Belœil': 'Beloeil',\n",
    "    'Lievegem*': 'Lievegem',\n",
    "    \"Mont-de-l'Enclus\": 'Mont-de-l’Enclus',\n",
    "    'Puurs-Sint-Amands*': 'Puurs-Sint-Amands',\n",
    "    'Court-Saint-Étienne': 'Court-Saint-Etienne',\n",
    "    'Éghezée': 'Eghezée',\n",
    "    'Oudsbergen*': 'Oudsbergen',\n",
    "    'Estaimpuis*': 'Estaimpuis',\n",
    "    \"Fontaine-l'Evêque\": 'Fontaine-l’Evêque',\n",
    "    'Gembloers': 'Gembloux',\n",
    "    '’s Gravenbrakel*': '’s Gravenbrakel',\n",
    "    'Erezée*': 'Erezée',\n",
    "    'Ecaussines': 'Ecaussinnes',\n",
    "    'Blegny*': 'Blegny',\n",
    "    'Plombières*': 'Plombières'}})"
   ]
  },
  {
   "cell_type": "code",
   "execution_count": 19,
   "id": "16bb07cb",
   "metadata": {},
   "outputs": [],
   "source": [
    "# merge join on village\n",
    "merged_accidents_df = groupby_accident_per_day_2019_df.merge(village_populations_wiki_df, left_on='TX_MUNTY_DESCR_NL', right_on='Village', how='left')"
   ]
  },
  {
   "cell_type": "code",
   "execution_count": 20,
   "id": "040112f9",
   "metadata": {},
   "outputs": [],
   "source": [
    "# remove Nan records\n",
    "merged_accidents_df = merged_accidents_df[~(merged_accidents_df['Population'].isna())]"
   ]
  },
  {
   "cell_type": "markdown",
   "id": "a4ffcb64",
   "metadata": {},
   "source": [
    "# calculate the ratio itself\n",
    "\n",
    "### (nr of incidents / population ) * city size in km"
   ]
  },
  {
   "cell_type": "code",
   "execution_count": 21,
   "id": "3fe456c3",
   "metadata": {},
   "outputs": [],
   "source": [
    "merged_accidents_df.loc[:, 'accident_village_ratio'] = merged_accidents_df['nr_of_accidents'] / merged_accidents_df['Population']"
   ]
  },
  {
   "cell_type": "code",
   "execution_count": 22,
   "id": "65b5a12d",
   "metadata": {},
   "outputs": [],
   "source": [
    "merged_accidents_df.loc[:, 'accident_village_size_ratio'] = merged_accidents_df['accident_village_ratio'] * merged_accidents_df['km2_size']"
   ]
  },
  {
   "cell_type": "code",
   "execution_count": 23,
   "id": "e596b10d",
   "metadata": {},
   "outputs": [
    {
     "data": {
      "text/html": [
       "<div>\n",
       "<style scoped>\n",
       "    .dataframe tbody tr th:only-of-type {\n",
       "        vertical-align: middle;\n",
       "    }\n",
       "\n",
       "    .dataframe tbody tr th {\n",
       "        vertical-align: top;\n",
       "    }\n",
       "\n",
       "    .dataframe thead th {\n",
       "        text-align: right;\n",
       "    }\n",
       "</style>\n",
       "<table border=\"1\" class=\"dataframe\">\n",
       "  <thead>\n",
       "    <tr style=\"text-align: right;\">\n",
       "      <th></th>\n",
       "      <th>DT_DAY</th>\n",
       "      <th>TX_MUNTY_DESCR_NL</th>\n",
       "      <th>nr_of_accidents</th>\n",
       "      <th>Village</th>\n",
       "      <th>Population</th>\n",
       "      <th>km2_size</th>\n",
       "      <th>accident_village_ratio</th>\n",
       "      <th>accident_village_size_ratio</th>\n",
       "    </tr>\n",
       "  </thead>\n",
       "  <tbody>\n",
       "    <tr>\n",
       "      <th>0</th>\n",
       "      <td>2019-03-18</td>\n",
       "      <td>Antwerpen</td>\n",
       "      <td>25</td>\n",
       "      <td>Antwerpen</td>\n",
       "      <td>446525</td>\n",
       "      <td>204.0</td>\n",
       "      <td>0.000056</td>\n",
       "      <td>0.011422</td>\n",
       "    </tr>\n",
       "    <tr>\n",
       "      <th>1</th>\n",
       "      <td>2019-04-03</td>\n",
       "      <td>Antwerpen</td>\n",
       "      <td>24</td>\n",
       "      <td>Antwerpen</td>\n",
       "      <td>446525</td>\n",
       "      <td>204.0</td>\n",
       "      <td>0.000054</td>\n",
       "      <td>0.010965</td>\n",
       "    </tr>\n",
       "    <tr>\n",
       "      <th>2</th>\n",
       "      <td>2019-04-02</td>\n",
       "      <td>Antwerpen</td>\n",
       "      <td>23</td>\n",
       "      <td>Antwerpen</td>\n",
       "      <td>446525</td>\n",
       "      <td>204.0</td>\n",
       "      <td>0.000052</td>\n",
       "      <td>0.010508</td>\n",
       "    </tr>\n",
       "    <tr>\n",
       "      <th>3</th>\n",
       "      <td>2019-12-20</td>\n",
       "      <td>Antwerpen</td>\n",
       "      <td>23</td>\n",
       "      <td>Antwerpen</td>\n",
       "      <td>446525</td>\n",
       "      <td>204.0</td>\n",
       "      <td>0.000052</td>\n",
       "      <td>0.010508</td>\n",
       "    </tr>\n",
       "    <tr>\n",
       "      <th>4</th>\n",
       "      <td>2019-06-14</td>\n",
       "      <td>Antwerpen</td>\n",
       "      <td>22</td>\n",
       "      <td>Antwerpen</td>\n",
       "      <td>446525</td>\n",
       "      <td>204.0</td>\n",
       "      <td>0.000049</td>\n",
       "      <td>0.010051</td>\n",
       "    </tr>\n",
       "    <tr>\n",
       "      <th>...</th>\n",
       "      <td>...</td>\n",
       "      <td>...</td>\n",
       "      <td>...</td>\n",
       "      <td>...</td>\n",
       "      <td>...</td>\n",
       "      <td>...</td>\n",
       "      <td>...</td>\n",
       "      <td>...</td>\n",
       "    </tr>\n",
       "    <tr>\n",
       "      <th>25270</th>\n",
       "      <td>2019-12-31</td>\n",
       "      <td>Hechtel-Eksel</td>\n",
       "      <td>1</td>\n",
       "      <td>Hechtel-Eksel</td>\n",
       "      <td>11149</td>\n",
       "      <td>76.0</td>\n",
       "      <td>0.00009</td>\n",
       "      <td>0.006817</td>\n",
       "    </tr>\n",
       "    <tr>\n",
       "      <th>25271</th>\n",
       "      <td>2019-12-31</td>\n",
       "      <td>Borsbeek</td>\n",
       "      <td>1</td>\n",
       "      <td>Borsbeek</td>\n",
       "      <td>10373</td>\n",
       "      <td>3.0</td>\n",
       "      <td>0.000096</td>\n",
       "      <td>0.000289</td>\n",
       "    </tr>\n",
       "    <tr>\n",
       "      <th>25272</th>\n",
       "      <td>2019-12-31</td>\n",
       "      <td>Awans</td>\n",
       "      <td>1</td>\n",
       "      <td>Awans</td>\n",
       "      <td>8270</td>\n",
       "      <td>27.0</td>\n",
       "      <td>0.000121</td>\n",
       "      <td>0.003265</td>\n",
       "    </tr>\n",
       "    <tr>\n",
       "      <th>25273</th>\n",
       "      <td>2019-12-31</td>\n",
       "      <td>Avelgem</td>\n",
       "      <td>1</td>\n",
       "      <td>Avelgem</td>\n",
       "      <td>9148</td>\n",
       "      <td>21.0</td>\n",
       "      <td>0.000109</td>\n",
       "      <td>0.002296</td>\n",
       "    </tr>\n",
       "    <tr>\n",
       "      <th>25274</th>\n",
       "      <td>2019-12-31</td>\n",
       "      <td>Anderlecht</td>\n",
       "      <td>1</td>\n",
       "      <td>Anderlecht</td>\n",
       "      <td>87812</td>\n",
       "      <td>17.0</td>\n",
       "      <td>0.000011</td>\n",
       "      <td>0.000194</td>\n",
       "    </tr>\n",
       "  </tbody>\n",
       "</table>\n",
       "<p>25124 rows × 8 columns</p>\n",
       "</div>"
      ],
      "text/plain": [
       "          DT_DAY TX_MUNTY_DESCR_NL  nr_of_accidents        Village  \\\n",
       "0     2019-03-18         Antwerpen               25      Antwerpen   \n",
       "1     2019-04-03         Antwerpen               24      Antwerpen   \n",
       "2     2019-04-02         Antwerpen               23      Antwerpen   \n",
       "3     2019-12-20         Antwerpen               23      Antwerpen   \n",
       "4     2019-06-14         Antwerpen               22      Antwerpen   \n",
       "...          ...               ...              ...            ...   \n",
       "25270 2019-12-31     Hechtel-Eksel                1  Hechtel-Eksel   \n",
       "25271 2019-12-31          Borsbeek                1       Borsbeek   \n",
       "25272 2019-12-31             Awans                1          Awans   \n",
       "25273 2019-12-31           Avelgem                1        Avelgem   \n",
       "25274 2019-12-31        Anderlecht                1     Anderlecht   \n",
       "\n",
       "       Population  km2_size  accident_village_ratio  \\\n",
       "0          446525     204.0                0.000056   \n",
       "1          446525     204.0                0.000054   \n",
       "2          446525     204.0                0.000052   \n",
       "3          446525     204.0                0.000052   \n",
       "4          446525     204.0                0.000049   \n",
       "...           ...       ...                     ...   \n",
       "25270       11149      76.0                 0.00009   \n",
       "25271       10373       3.0                0.000096   \n",
       "25272        8270      27.0                0.000121   \n",
       "25273        9148      21.0                0.000109   \n",
       "25274       87812      17.0                0.000011   \n",
       "\n",
       "       accident_village_size_ratio  \n",
       "0                         0.011422  \n",
       "1                         0.010965  \n",
       "2                         0.010508  \n",
       "3                         0.010508  \n",
       "4                         0.010051  \n",
       "...                            ...  \n",
       "25270                     0.006817  \n",
       "25271                     0.000289  \n",
       "25272                     0.003265  \n",
       "25273                     0.002296  \n",
       "25274                     0.000194  \n",
       "\n",
       "[25124 rows x 8 columns]"
      ]
     },
     "execution_count": 23,
     "metadata": {},
     "output_type": "execute_result"
    }
   ],
   "source": [
    "merged_accidents_df"
   ]
  },
  {
   "cell_type": "code",
   "execution_count": 24,
   "id": "731a4c9e",
   "metadata": {},
   "outputs": [
    {
     "data": {
      "text/plain": [
       "6.444752360390551e-05"
      ]
     },
     "execution_count": 24,
     "metadata": {},
     "output_type": "execute_result"
    }
   ],
   "source": [
    "accident_village_ratio_median_cutoff = merged_accidents_df['accident_village_ratio'].median()\n",
    "accident_village_ratio_median_cutoff"
   ]
  },
  {
   "cell_type": "code",
   "execution_count": 25,
   "id": "d2c47513",
   "metadata": {},
   "outputs": [
    {
     "data": {
      "text/plain": [
       "0.003054870168017859"
      ]
     },
     "execution_count": 25,
     "metadata": {},
     "output_type": "execute_result"
    }
   ],
   "source": [
    "accident_village_size_ratio_median_cutoff = merged_accidents_df['accident_village_size_ratio'].median()\n",
    "accident_village_size_ratio_median_cutoff"
   ]
  },
  {
   "cell_type": "code",
   "execution_count": 27,
   "id": "7028c945",
   "metadata": {},
   "outputs": [
    {
     "data": {
      "text/html": [
       "<div>\n",
       "<style scoped>\n",
       "    .dataframe tbody tr th:only-of-type {\n",
       "        vertical-align: middle;\n",
       "    }\n",
       "\n",
       "    .dataframe tbody tr th {\n",
       "        vertical-align: top;\n",
       "    }\n",
       "\n",
       "    .dataframe thead th {\n",
       "        text-align: right;\n",
       "    }\n",
       "</style>\n",
       "<table border=\"1\" class=\"dataframe\">\n",
       "  <thead>\n",
       "    <tr style=\"text-align: right;\">\n",
       "      <th></th>\n",
       "      <th>Village</th>\n",
       "      <th>ratio</th>\n",
       "    </tr>\n",
       "  </thead>\n",
       "  <tbody>\n",
       "    <tr>\n",
       "      <th>332</th>\n",
       "      <td>Léglise</td>\n",
       "      <td>1.766009</td>\n",
       "    </tr>\n",
       "    <tr>\n",
       "      <th>19</th>\n",
       "      <td>Antwerpen</td>\n",
       "      <td>1.450078</td>\n",
       "    </tr>\n",
       "    <tr>\n",
       "      <th>341</th>\n",
       "      <td>Manhay</td>\n",
       "      <td>1.237435</td>\n",
       "    </tr>\n",
       "    <tr>\n",
       "      <th>38</th>\n",
       "      <td>Beauraing</td>\n",
       "      <td>1.225049</td>\n",
       "    </tr>\n",
       "    <tr>\n",
       "      <th>98</th>\n",
       "      <td>Chimay</td>\n",
       "      <td>1.15063</td>\n",
       "    </tr>\n",
       "    <tr>\n",
       "      <th>132</th>\n",
       "      <td>Doornik</td>\n",
       "      <td>1.147524</td>\n",
       "    </tr>\n",
       "    <tr>\n",
       "      <th>240</th>\n",
       "      <td>Houffalize</td>\n",
       "      <td>1.106421</td>\n",
       "    </tr>\n",
       "    <tr>\n",
       "      <th>56</th>\n",
       "      <td>Beveren</td>\n",
       "      <td>1.100563</td>\n",
       "    </tr>\n",
       "    <tr>\n",
       "      <th>412</th>\n",
       "      <td>Philippeville</td>\n",
       "      <td>1.10039</td>\n",
       "    </tr>\n",
       "    <tr>\n",
       "      <th>108</th>\n",
       "      <td>Couvin</td>\n",
       "      <td>1.088384</td>\n",
       "    </tr>\n",
       "  </tbody>\n",
       "</table>\n",
       "</div>"
      ],
      "text/plain": [
       "           Village     ratio\n",
       "332        Léglise  1.766009\n",
       "19       Antwerpen  1.450078\n",
       "341         Manhay  1.237435\n",
       "38       Beauraing  1.225049\n",
       "98          Chimay   1.15063\n",
       "132        Doornik  1.147524\n",
       "240     Houffalize  1.106421\n",
       "56         Beveren  1.100563\n",
       "412  Philippeville   1.10039\n",
       "108         Couvin  1.088384"
      ]
     },
     "execution_count": 27,
     "metadata": {},
     "output_type": "execute_result"
    }
   ],
   "source": [
    "result = merged_accidents_df.groupby(['Village'])['accident_village_size_ratio'].sum().to_frame(name='ratio').reset_index()\n",
    "result = result.sort_values(by=['ratio', 'Village'], ascending=[False, True])\n",
    "result.head(10)"
   ]
  },
  {
   "cell_type": "code",
   "execution_count": 28,
   "id": "b75ffadb",
   "metadata": {},
   "outputs": [],
   "source": [
    "s = result['ratio']\n",
    "q1 = s.quantile(0.25)\n",
    "q3 = s.quantile(0.75)\n",
    "iqr = q3 - q1\n",
    "iqr_lower = q1 - 1.5 * iqr\n",
    "iqr_upper = q3 + 1.5 * iqr\n",
    "outliers = dict(s[(s < iqr_lower) | (s > iqr_upper)])"
   ]
  },
  {
   "cell_type": "code",
   "execution_count": 29,
   "id": "f480294f",
   "metadata": {},
   "outputs": [
    {
     "data": {
      "text/html": [
       "<div>\n",
       "<style scoped>\n",
       "    .dataframe tbody tr th:only-of-type {\n",
       "        vertical-align: middle;\n",
       "    }\n",
       "\n",
       "    .dataframe tbody tr th {\n",
       "        vertical-align: top;\n",
       "    }\n",
       "\n",
       "    .dataframe thead th {\n",
       "        text-align: right;\n",
       "    }\n",
       "</style>\n",
       "<table border=\"1\" class=\"dataframe\">\n",
       "  <thead>\n",
       "    <tr style=\"text-align: right;\">\n",
       "      <th></th>\n",
       "      <th>Village</th>\n",
       "      <th>ratio</th>\n",
       "    </tr>\n",
       "  </thead>\n",
       "  <tbody>\n",
       "    <tr>\n",
       "      <th>262</th>\n",
       "      <td>Kampenhout</td>\n",
       "      <td>0.144521</td>\n",
       "    </tr>\n",
       "    <tr>\n",
       "      <th>474</th>\n",
       "      <td>Somme-Leuze</td>\n",
       "      <td>0.797362</td>\n",
       "    </tr>\n",
       "    <tr>\n",
       "      <th>69</th>\n",
       "      <td>Borgloon</td>\n",
       "      <td>0.141163</td>\n",
       "    </tr>\n",
       "    <tr>\n",
       "      <th>511</th>\n",
       "      <td>Veurne</td>\n",
       "      <td>0.60739</td>\n",
       "    </tr>\n",
       "    <tr>\n",
       "      <th>85</th>\n",
       "      <td>Brussel</td>\n",
       "      <td>0.389664</td>\n",
       "    </tr>\n",
       "    <tr>\n",
       "      <th>215</th>\n",
       "      <td>Heist-op-den-Berg</td>\n",
       "      <td>0.321059</td>\n",
       "    </tr>\n",
       "    <tr>\n",
       "      <th>253</th>\n",
       "      <td>Itter</td>\n",
       "      <td>0.204566</td>\n",
       "    </tr>\n",
       "    <tr>\n",
       "      <th>516</th>\n",
       "      <td>Virton</td>\n",
       "      <td>0.50377</td>\n",
       "    </tr>\n",
       "    <tr>\n",
       "      <th>58</th>\n",
       "      <td>Bierbeek</td>\n",
       "      <td>0.106098</td>\n",
       "    </tr>\n",
       "    <tr>\n",
       "      <th>111</th>\n",
       "      <td>Damme</td>\n",
       "      <td>0.37023</td>\n",
       "    </tr>\n",
       "    <tr>\n",
       "      <th>406</th>\n",
       "      <td>Pecq</td>\n",
       "      <td>0.155129</td>\n",
       "    </tr>\n",
       "    <tr>\n",
       "      <th>62</th>\n",
       "      <td>Bièvre</td>\n",
       "      <td>0.31242</td>\n",
       "    </tr>\n",
       "    <tr>\n",
       "      <th>422</th>\n",
       "      <td>Quévy</td>\n",
       "      <td>0.260904</td>\n",
       "    </tr>\n",
       "    <tr>\n",
       "      <th>340</th>\n",
       "      <td>Manage</td>\n",
       "      <td>0.092334</td>\n",
       "    </tr>\n",
       "    <tr>\n",
       "      <th>77</th>\n",
       "      <td>Brakel</td>\n",
       "      <td>0.155226</td>\n",
       "    </tr>\n",
       "    <tr>\n",
       "      <th>94</th>\n",
       "      <td>Charleroi</td>\n",
       "      <td>0.611511</td>\n",
       "    </tr>\n",
       "    <tr>\n",
       "      <th>225</th>\n",
       "      <td>Herstal</td>\n",
       "      <td>0.12675</td>\n",
       "    </tr>\n",
       "    <tr>\n",
       "      <th>147</th>\n",
       "      <td>Erquelinnes</td>\n",
       "      <td>0.249151</td>\n",
       "    </tr>\n",
       "    <tr>\n",
       "      <th>22</th>\n",
       "      <td>Arendonk</td>\n",
       "      <td>0.200339</td>\n",
       "    </tr>\n",
       "    <tr>\n",
       "      <th>121</th>\n",
       "      <td>Dessel</td>\n",
       "      <td>0.063195</td>\n",
       "    </tr>\n",
       "    <tr>\n",
       "      <th>324</th>\n",
       "      <td>Lochristi</td>\n",
       "      <td>0.383985</td>\n",
       "    </tr>\n",
       "    <tr>\n",
       "      <th>282</th>\n",
       "      <td>Kortrijk</td>\n",
       "      <td>0.437492</td>\n",
       "    </tr>\n",
       "    <tr>\n",
       "      <th>19</th>\n",
       "      <td>Antwerpen</td>\n",
       "      <td>1.450078</td>\n",
       "    </tr>\n",
       "    <tr>\n",
       "      <th>492</th>\n",
       "      <td>Theux</td>\n",
       "      <td>0.460698</td>\n",
       "    </tr>\n",
       "    <tr>\n",
       "      <th>341</th>\n",
       "      <td>Manhay</td>\n",
       "      <td>1.237435</td>\n",
       "    </tr>\n",
       "    <tr>\n",
       "      <th>37</th>\n",
       "      <td>Beaumont</td>\n",
       "      <td>0.685419</td>\n",
       "    </tr>\n",
       "    <tr>\n",
       "      <th>182</th>\n",
       "      <td>Genepiën</td>\n",
       "      <td>0.608127</td>\n",
       "    </tr>\n",
       "    <tr>\n",
       "      <th>365</th>\n",
       "      <td>Mont-Saint-Guibert</td>\n",
       "      <td>0.1349</td>\n",
       "    </tr>\n",
       "    <tr>\n",
       "      <th>222</th>\n",
       "      <td>Herk-de-Stad</td>\n",
       "      <td>0.141025</td>\n",
       "    </tr>\n",
       "    <tr>\n",
       "      <th>286</th>\n",
       "      <td>Kuurne</td>\n",
       "      <td>0.043801</td>\n",
       "    </tr>\n",
       "    <tr>\n",
       "      <th>557</th>\n",
       "      <td>Zele</td>\n",
       "      <td>0.194175</td>\n",
       "    </tr>\n",
       "    <tr>\n",
       "      <th>248</th>\n",
       "      <td>Héron</td>\n",
       "      <td>0.271752</td>\n",
       "    </tr>\n",
       "    <tr>\n",
       "      <th>526</th>\n",
       "      <td>Walcourt</td>\n",
       "      <td>0.409026</td>\n",
       "    </tr>\n",
       "    <tr>\n",
       "      <th>29</th>\n",
       "      <td>Aubel</td>\n",
       "      <td>0.084134</td>\n",
       "    </tr>\n",
       "  </tbody>\n",
       "</table>\n",
       "</div>"
      ],
      "text/plain": [
       "                Village     ratio\n",
       "262          Kampenhout  0.144521\n",
       "474         Somme-Leuze  0.797362\n",
       "69             Borgloon  0.141163\n",
       "511              Veurne   0.60739\n",
       "85              Brussel  0.389664\n",
       "215   Heist-op-den-Berg  0.321059\n",
       "253               Itter  0.204566\n",
       "516              Virton   0.50377\n",
       "58             Bierbeek  0.106098\n",
       "111               Damme   0.37023\n",
       "406                Pecq  0.155129\n",
       "62               Bièvre   0.31242\n",
       "422               Quévy  0.260904\n",
       "340              Manage  0.092334\n",
       "77               Brakel  0.155226\n",
       "94            Charleroi  0.611511\n",
       "225             Herstal   0.12675\n",
       "147         Erquelinnes  0.249151\n",
       "22             Arendonk  0.200339\n",
       "121              Dessel  0.063195\n",
       "324           Lochristi  0.383985\n",
       "282            Kortrijk  0.437492\n",
       "19            Antwerpen  1.450078\n",
       "492               Theux  0.460698\n",
       "341              Manhay  1.237435\n",
       "37             Beaumont  0.685419\n",
       "182            Genepiën  0.608127\n",
       "365  Mont-Saint-Guibert    0.1349\n",
       "222        Herk-de-Stad  0.141025\n",
       "286              Kuurne  0.043801\n",
       "557                Zele  0.194175\n",
       "248               Héron  0.271752\n",
       "526            Walcourt  0.409026\n",
       "29                Aubel  0.084134"
      ]
     },
     "execution_count": 29,
     "metadata": {},
     "output_type": "execute_result"
    }
   ],
   "source": [
    "result.iloc[list(outliers.keys())]"
   ]
  },
  {
   "cell_type": "code",
   "execution_count": null,
   "id": "3f5ea246",
   "metadata": {},
   "outputs": [],
   "source": [
    "result.iloc[list(outliers.keys())]"
   ]
  },
  {
   "cell_type": "code",
   "execution_count": 30,
   "id": "069495f7",
   "metadata": {},
   "outputs": [],
   "source": [
    "chart_data = pd.concat([\n",
    "    result.iloc[list(outliers.keys())]['Village'],\n",
    "    result.iloc[list(outliers.keys())]['ratio'],\n",
    "], axis=1)\n",
    "chart_data = chart_data.sort_values(['Village'])\n",
    "chart_data = chart_data.rename(columns={'Village': 'x'})\n",
    "chart_data = chart_data.dropna()\n",
    "\n",
    "import plotly.graph_objs as go\n",
    "\n",
    "charts = []\n",
    "charts.append(go.Bar(\n",
    "    x=chart_data['x'],\n",
    "    y=chart_data['ratio']\n",
    "))\n",
    "figure = go.Figure(data=charts, layout=go.Layout({\n",
    "    'barmode': 'stack',\n",
    "    'legend': {'orientation': 'h'},\n",
    "    'title': {'text': 'Outliers (highest & lowest)'},\n",
    "    'xaxis': {'title': {'text': 'Cities'}},\n",
    "    'yaxis': {'title': {'text': 'ratio of cars'}, 'type': 'linear'}\n",
    "}))"
   ]
  },
  {
   "cell_type": "code",
   "execution_count": 34,
   "id": "38d2cebb",
   "metadata": {},
   "outputs": [
    {
     "data": {
      "text/html": [
       "        <script type=\"text/javascript\">\n",
       "        window.PlotlyConfig = {MathJaxConfig: 'local'};\n",
       "        if (window.MathJax) {MathJax.Hub.Config({SVG: {font: \"STIX-Web\"}});}\n",
       "        if (typeof require !== 'undefined') {\n",
       "        require.undef(\"plotly\");\n",
       "        requirejs.config({\n",
       "            paths: {\n",
       "                'plotly': ['https://cdn.plot.ly/plotly-2.9.0.min']\n",
       "            }\n",
       "        });\n",
       "        require(['plotly'], function(Plotly) {\n",
       "            window._Plotly = Plotly;\n",
       "        });\n",
       "        }\n",
       "        </script>\n",
       "        "
      ]
     },
     "metadata": {},
     "output_type": "display_data"
    },
    {
     "data": {
      "application/vnd.plotly.v1+json": {
       "config": {
        "linkText": "Export to plot.ly",
        "plotlyServerURL": "https://plot.ly",
        "showLink": false
       },
       "data": [
        {
         "type": "bar",
         "x": [
          "Antwerpen",
          "Arendonk",
          "Aubel",
          "Beaumont",
          "Bierbeek",
          "Bièvre",
          "Borgloon",
          "Brakel",
          "Brussel",
          "Charleroi",
          "Damme",
          "Dessel",
          "Erquelinnes",
          "Genepiën",
          "Heist-op-den-Berg",
          "Herk-de-Stad",
          "Herstal",
          "Héron",
          "Itter",
          "Kampenhout",
          "Kortrijk",
          "Kuurne",
          "Lochristi",
          "Manage",
          "Manhay",
          "Mont-Saint-Guibert",
          "Pecq",
          "Quévy",
          "Somme-Leuze",
          "Theux",
          "Veurne",
          "Virton",
          "Walcourt",
          "Zele"
         ],
         "y": [
          1.450077823190191,
          0.2003388394747988,
          0.08413399117112438,
          0.685418883989661,
          0.10609839038766719,
          0.3124203821656051,
          0.14116251482799527,
          0.15522649354438692,
          0.38966375066301107,
          0.6115114003595135,
          0.37022969795623084,
          0.06319485078993564,
          0.2491506228765572,
          0.6081267718252527,
          0.32105927537399614,
          0.14102453723633232,
          0.12674969690289872,
          0.27175208581644816,
          0.20456556361705894,
          0.14452105851658592,
          0.4374916432678166,
          0.04380132968322253,
          0.38398476754641137,
          0.09233449477351917,
          1.2374350086655113,
          0.13490035769034237,
          0.15512895094046927,
          0.26090446882526086,
          0.7973621103117506,
          0.46069829901521936,
          0.6073899105787076,
          0.5037696430193478,
          0.40902612826603324,
          0.1941747572815534
         ]
        }
       ],
       "layout": {
        "barmode": "stack",
        "legend": {
         "orientation": "h"
        },
        "template": {
         "data": {
          "bar": [
           {
            "error_x": {
             "color": "#2a3f5f"
            },
            "error_y": {
             "color": "#2a3f5f"
            },
            "marker": {
             "line": {
              "color": "#E5ECF6",
              "width": 0.5
             },
             "pattern": {
              "fillmode": "overlay",
              "size": 10,
              "solidity": 0.2
             }
            },
            "type": "bar"
           }
          ],
          "barpolar": [
           {
            "marker": {
             "line": {
              "color": "#E5ECF6",
              "width": 0.5
             },
             "pattern": {
              "fillmode": "overlay",
              "size": 10,
              "solidity": 0.2
             }
            },
            "type": "barpolar"
           }
          ],
          "carpet": [
           {
            "aaxis": {
             "endlinecolor": "#2a3f5f",
             "gridcolor": "white",
             "linecolor": "white",
             "minorgridcolor": "white",
             "startlinecolor": "#2a3f5f"
            },
            "baxis": {
             "endlinecolor": "#2a3f5f",
             "gridcolor": "white",
             "linecolor": "white",
             "minorgridcolor": "white",
             "startlinecolor": "#2a3f5f"
            },
            "type": "carpet"
           }
          ],
          "choropleth": [
           {
            "colorbar": {
             "outlinewidth": 0,
             "ticks": ""
            },
            "type": "choropleth"
           }
          ],
          "contour": [
           {
            "colorbar": {
             "outlinewidth": 0,
             "ticks": ""
            },
            "colorscale": [
             [
              0,
              "#0d0887"
             ],
             [
              0.1111111111111111,
              "#46039f"
             ],
             [
              0.2222222222222222,
              "#7201a8"
             ],
             [
              0.3333333333333333,
              "#9c179e"
             ],
             [
              0.4444444444444444,
              "#bd3786"
             ],
             [
              0.5555555555555556,
              "#d8576b"
             ],
             [
              0.6666666666666666,
              "#ed7953"
             ],
             [
              0.7777777777777778,
              "#fb9f3a"
             ],
             [
              0.8888888888888888,
              "#fdca26"
             ],
             [
              1,
              "#f0f921"
             ]
            ],
            "type": "contour"
           }
          ],
          "contourcarpet": [
           {
            "colorbar": {
             "outlinewidth": 0,
             "ticks": ""
            },
            "type": "contourcarpet"
           }
          ],
          "heatmap": [
           {
            "colorbar": {
             "outlinewidth": 0,
             "ticks": ""
            },
            "colorscale": [
             [
              0,
              "#0d0887"
             ],
             [
              0.1111111111111111,
              "#46039f"
             ],
             [
              0.2222222222222222,
              "#7201a8"
             ],
             [
              0.3333333333333333,
              "#9c179e"
             ],
             [
              0.4444444444444444,
              "#bd3786"
             ],
             [
              0.5555555555555556,
              "#d8576b"
             ],
             [
              0.6666666666666666,
              "#ed7953"
             ],
             [
              0.7777777777777778,
              "#fb9f3a"
             ],
             [
              0.8888888888888888,
              "#fdca26"
             ],
             [
              1,
              "#f0f921"
             ]
            ],
            "type": "heatmap"
           }
          ],
          "heatmapgl": [
           {
            "colorbar": {
             "outlinewidth": 0,
             "ticks": ""
            },
            "colorscale": [
             [
              0,
              "#0d0887"
             ],
             [
              0.1111111111111111,
              "#46039f"
             ],
             [
              0.2222222222222222,
              "#7201a8"
             ],
             [
              0.3333333333333333,
              "#9c179e"
             ],
             [
              0.4444444444444444,
              "#bd3786"
             ],
             [
              0.5555555555555556,
              "#d8576b"
             ],
             [
              0.6666666666666666,
              "#ed7953"
             ],
             [
              0.7777777777777778,
              "#fb9f3a"
             ],
             [
              0.8888888888888888,
              "#fdca26"
             ],
             [
              1,
              "#f0f921"
             ]
            ],
            "type": "heatmapgl"
           }
          ],
          "histogram": [
           {
            "marker": {
             "pattern": {
              "fillmode": "overlay",
              "size": 10,
              "solidity": 0.2
             }
            },
            "type": "histogram"
           }
          ],
          "histogram2d": [
           {
            "colorbar": {
             "outlinewidth": 0,
             "ticks": ""
            },
            "colorscale": [
             [
              0,
              "#0d0887"
             ],
             [
              0.1111111111111111,
              "#46039f"
             ],
             [
              0.2222222222222222,
              "#7201a8"
             ],
             [
              0.3333333333333333,
              "#9c179e"
             ],
             [
              0.4444444444444444,
              "#bd3786"
             ],
             [
              0.5555555555555556,
              "#d8576b"
             ],
             [
              0.6666666666666666,
              "#ed7953"
             ],
             [
              0.7777777777777778,
              "#fb9f3a"
             ],
             [
              0.8888888888888888,
              "#fdca26"
             ],
             [
              1,
              "#f0f921"
             ]
            ],
            "type": "histogram2d"
           }
          ],
          "histogram2dcontour": [
           {
            "colorbar": {
             "outlinewidth": 0,
             "ticks": ""
            },
            "colorscale": [
             [
              0,
              "#0d0887"
             ],
             [
              0.1111111111111111,
              "#46039f"
             ],
             [
              0.2222222222222222,
              "#7201a8"
             ],
             [
              0.3333333333333333,
              "#9c179e"
             ],
             [
              0.4444444444444444,
              "#bd3786"
             ],
             [
              0.5555555555555556,
              "#d8576b"
             ],
             [
              0.6666666666666666,
              "#ed7953"
             ],
             [
              0.7777777777777778,
              "#fb9f3a"
             ],
             [
              0.8888888888888888,
              "#fdca26"
             ],
             [
              1,
              "#f0f921"
             ]
            ],
            "type": "histogram2dcontour"
           }
          ],
          "mesh3d": [
           {
            "colorbar": {
             "outlinewidth": 0,
             "ticks": ""
            },
            "type": "mesh3d"
           }
          ],
          "parcoords": [
           {
            "line": {
             "colorbar": {
              "outlinewidth": 0,
              "ticks": ""
             }
            },
            "type": "parcoords"
           }
          ],
          "pie": [
           {
            "automargin": true,
            "type": "pie"
           }
          ],
          "scatter": [
           {
            "marker": {
             "colorbar": {
              "outlinewidth": 0,
              "ticks": ""
             }
            },
            "type": "scatter"
           }
          ],
          "scatter3d": [
           {
            "line": {
             "colorbar": {
              "outlinewidth": 0,
              "ticks": ""
             }
            },
            "marker": {
             "colorbar": {
              "outlinewidth": 0,
              "ticks": ""
             }
            },
            "type": "scatter3d"
           }
          ],
          "scattercarpet": [
           {
            "marker": {
             "colorbar": {
              "outlinewidth": 0,
              "ticks": ""
             }
            },
            "type": "scattercarpet"
           }
          ],
          "scattergeo": [
           {
            "marker": {
             "colorbar": {
              "outlinewidth": 0,
              "ticks": ""
             }
            },
            "type": "scattergeo"
           }
          ],
          "scattergl": [
           {
            "marker": {
             "colorbar": {
              "outlinewidth": 0,
              "ticks": ""
             }
            },
            "type": "scattergl"
           }
          ],
          "scattermapbox": [
           {
            "marker": {
             "colorbar": {
              "outlinewidth": 0,
              "ticks": ""
             }
            },
            "type": "scattermapbox"
           }
          ],
          "scatterpolar": [
           {
            "marker": {
             "colorbar": {
              "outlinewidth": 0,
              "ticks": ""
             }
            },
            "type": "scatterpolar"
           }
          ],
          "scatterpolargl": [
           {
            "marker": {
             "colorbar": {
              "outlinewidth": 0,
              "ticks": ""
             }
            },
            "type": "scatterpolargl"
           }
          ],
          "scatterternary": [
           {
            "marker": {
             "colorbar": {
              "outlinewidth": 0,
              "ticks": ""
             }
            },
            "type": "scatterternary"
           }
          ],
          "surface": [
           {
            "colorbar": {
             "outlinewidth": 0,
             "ticks": ""
            },
            "colorscale": [
             [
              0,
              "#0d0887"
             ],
             [
              0.1111111111111111,
              "#46039f"
             ],
             [
              0.2222222222222222,
              "#7201a8"
             ],
             [
              0.3333333333333333,
              "#9c179e"
             ],
             [
              0.4444444444444444,
              "#bd3786"
             ],
             [
              0.5555555555555556,
              "#d8576b"
             ],
             [
              0.6666666666666666,
              "#ed7953"
             ],
             [
              0.7777777777777778,
              "#fb9f3a"
             ],
             [
              0.8888888888888888,
              "#fdca26"
             ],
             [
              1,
              "#f0f921"
             ]
            ],
            "type": "surface"
           }
          ],
          "table": [
           {
            "cells": {
             "fill": {
              "color": "#EBF0F8"
             },
             "line": {
              "color": "white"
             }
            },
            "header": {
             "fill": {
              "color": "#C8D4E3"
             },
             "line": {
              "color": "white"
             }
            },
            "type": "table"
           }
          ]
         },
         "layout": {
          "annotationdefaults": {
           "arrowcolor": "#2a3f5f",
           "arrowhead": 0,
           "arrowwidth": 1
          },
          "autotypenumbers": "strict",
          "coloraxis": {
           "colorbar": {
            "outlinewidth": 0,
            "ticks": ""
           }
          },
          "colorscale": {
           "diverging": [
            [
             0,
             "#8e0152"
            ],
            [
             0.1,
             "#c51b7d"
            ],
            [
             0.2,
             "#de77ae"
            ],
            [
             0.3,
             "#f1b6da"
            ],
            [
             0.4,
             "#fde0ef"
            ],
            [
             0.5,
             "#f7f7f7"
            ],
            [
             0.6,
             "#e6f5d0"
            ],
            [
             0.7,
             "#b8e186"
            ],
            [
             0.8,
             "#7fbc41"
            ],
            [
             0.9,
             "#4d9221"
            ],
            [
             1,
             "#276419"
            ]
           ],
           "sequential": [
            [
             0,
             "#0d0887"
            ],
            [
             0.1111111111111111,
             "#46039f"
            ],
            [
             0.2222222222222222,
             "#7201a8"
            ],
            [
             0.3333333333333333,
             "#9c179e"
            ],
            [
             0.4444444444444444,
             "#bd3786"
            ],
            [
             0.5555555555555556,
             "#d8576b"
            ],
            [
             0.6666666666666666,
             "#ed7953"
            ],
            [
             0.7777777777777778,
             "#fb9f3a"
            ],
            [
             0.8888888888888888,
             "#fdca26"
            ],
            [
             1,
             "#f0f921"
            ]
           ],
           "sequentialminus": [
            [
             0,
             "#0d0887"
            ],
            [
             0.1111111111111111,
             "#46039f"
            ],
            [
             0.2222222222222222,
             "#7201a8"
            ],
            [
             0.3333333333333333,
             "#9c179e"
            ],
            [
             0.4444444444444444,
             "#bd3786"
            ],
            [
             0.5555555555555556,
             "#d8576b"
            ],
            [
             0.6666666666666666,
             "#ed7953"
            ],
            [
             0.7777777777777778,
             "#fb9f3a"
            ],
            [
             0.8888888888888888,
             "#fdca26"
            ],
            [
             1,
             "#f0f921"
            ]
           ]
          },
          "colorway": [
           "#636efa",
           "#EF553B",
           "#00cc96",
           "#ab63fa",
           "#FFA15A",
           "#19d3f3",
           "#FF6692",
           "#B6E880",
           "#FF97FF",
           "#FECB52"
          ],
          "font": {
           "color": "#2a3f5f"
          },
          "geo": {
           "bgcolor": "white",
           "lakecolor": "white",
           "landcolor": "#E5ECF6",
           "showlakes": true,
           "showland": true,
           "subunitcolor": "white"
          },
          "hoverlabel": {
           "align": "left"
          },
          "hovermode": "closest",
          "mapbox": {
           "style": "light"
          },
          "paper_bgcolor": "white",
          "plot_bgcolor": "#E5ECF6",
          "polar": {
           "angularaxis": {
            "gridcolor": "white",
            "linecolor": "white",
            "ticks": ""
           },
           "bgcolor": "#E5ECF6",
           "radialaxis": {
            "gridcolor": "white",
            "linecolor": "white",
            "ticks": ""
           }
          },
          "scene": {
           "xaxis": {
            "backgroundcolor": "#E5ECF6",
            "gridcolor": "white",
            "gridwidth": 2,
            "linecolor": "white",
            "showbackground": true,
            "ticks": "",
            "zerolinecolor": "white"
           },
           "yaxis": {
            "backgroundcolor": "#E5ECF6",
            "gridcolor": "white",
            "gridwidth": 2,
            "linecolor": "white",
            "showbackground": true,
            "ticks": "",
            "zerolinecolor": "white"
           },
           "zaxis": {
            "backgroundcolor": "#E5ECF6",
            "gridcolor": "white",
            "gridwidth": 2,
            "linecolor": "white",
            "showbackground": true,
            "ticks": "",
            "zerolinecolor": "white"
           }
          },
          "shapedefaults": {
           "line": {
            "color": "#2a3f5f"
           }
          },
          "ternary": {
           "aaxis": {
            "gridcolor": "white",
            "linecolor": "white",
            "ticks": ""
           },
           "baxis": {
            "gridcolor": "white",
            "linecolor": "white",
            "ticks": ""
           },
           "bgcolor": "#E5ECF6",
           "caxis": {
            "gridcolor": "white",
            "linecolor": "white",
            "ticks": ""
           }
          },
          "title": {
           "x": 0.05
          },
          "xaxis": {
           "automargin": true,
           "gridcolor": "white",
           "linecolor": "white",
           "ticks": "",
           "title": {
            "standoff": 15
           },
           "zerolinecolor": "white",
           "zerolinewidth": 2
          },
          "yaxis": {
           "automargin": true,
           "gridcolor": "white",
           "linecolor": "white",
           "ticks": "",
           "title": {
            "standoff": 15
           },
           "zerolinecolor": "white",
           "zerolinewidth": 2
          }
         }
        },
        "title": {
         "text": "Outliers (highest & lowest)"
        },
        "xaxis": {
         "title": {
          "text": "Cities"
         }
        },
        "yaxis": {
         "title": {
          "text": "ratio of cars"
         },
         "type": "linear"
        }
       }
      },
      "text/html": [
       "<div>                            <div id=\"20ad5d05-8b56-4f29-924b-682351cfc3d4\" class=\"plotly-graph-div\" style=\"height:525px; width:100%;\"></div>            <script type=\"text/javascript\">                require([\"plotly\"], function(Plotly) {                    window.PLOTLYENV=window.PLOTLYENV || {};                                    if (document.getElementById(\"20ad5d05-8b56-4f29-924b-682351cfc3d4\")) {                    Plotly.newPlot(                        \"20ad5d05-8b56-4f29-924b-682351cfc3d4\",                        [{\"x\":[\"Antwerpen\",\"Arendonk\",\"Aubel\",\"Beaumont\",\"Bierbeek\",\"Bi\\u00e8vre\",\"Borgloon\",\"Brakel\",\"Brussel\",\"Charleroi\",\"Damme\",\"Dessel\",\"Erquelinnes\",\"Genepi\\u00ebn\",\"Heist-op-den-Berg\",\"Herk-de-Stad\",\"Herstal\",\"H\\u00e9ron\",\"Itter\",\"Kampenhout\",\"Kortrijk\",\"Kuurne\",\"Lochristi\",\"Manage\",\"Manhay\",\"Mont-Saint-Guibert\",\"Pecq\",\"Qu\\u00e9vy\",\"Somme-Leuze\",\"Theux\",\"Veurne\",\"Virton\",\"Walcourt\",\"Zele\"],\"y\":[1.450077823190191,0.2003388394747988,0.08413399117112438,0.685418883989661,0.10609839038766719,0.3124203821656051,0.14116251482799527,0.15522649354438692,0.38966375066301107,0.6115114003595135,0.37022969795623084,0.06319485078993564,0.2491506228765572,0.6081267718252527,0.32105927537399614,0.14102453723633232,0.12674969690289872,0.27175208581644816,0.20456556361705894,0.14452105851658592,0.4374916432678166,0.04380132968322253,0.38398476754641137,0.09233449477351917,1.2374350086655113,0.13490035769034237,0.15512895094046927,0.26090446882526086,0.7973621103117506,0.46069829901521936,0.6073899105787076,0.5037696430193478,0.40902612826603324,0.1941747572815534],\"type\":\"bar\"}],                        {\"barmode\":\"stack\",\"legend\":{\"orientation\":\"h\"},\"template\":{\"data\":{\"barpolar\":[{\"marker\":{\"line\":{\"color\":\"#E5ECF6\",\"width\":0.5},\"pattern\":{\"fillmode\":\"overlay\",\"size\":10,\"solidity\":0.2}},\"type\":\"barpolar\"}],\"bar\":[{\"error_x\":{\"color\":\"#2a3f5f\"},\"error_y\":{\"color\":\"#2a3f5f\"},\"marker\":{\"line\":{\"color\":\"#E5ECF6\",\"width\":0.5},\"pattern\":{\"fillmode\":\"overlay\",\"size\":10,\"solidity\":0.2}},\"type\":\"bar\"}],\"carpet\":[{\"aaxis\":{\"endlinecolor\":\"#2a3f5f\",\"gridcolor\":\"white\",\"linecolor\":\"white\",\"minorgridcolor\":\"white\",\"startlinecolor\":\"#2a3f5f\"},\"baxis\":{\"endlinecolor\":\"#2a3f5f\",\"gridcolor\":\"white\",\"linecolor\":\"white\",\"minorgridcolor\":\"white\",\"startlinecolor\":\"#2a3f5f\"},\"type\":\"carpet\"}],\"choropleth\":[{\"colorbar\":{\"outlinewidth\":0,\"ticks\":\"\"},\"type\":\"choropleth\"}],\"contourcarpet\":[{\"colorbar\":{\"outlinewidth\":0,\"ticks\":\"\"},\"type\":\"contourcarpet\"}],\"contour\":[{\"colorbar\":{\"outlinewidth\":0,\"ticks\":\"\"},\"colorscale\":[[0.0,\"#0d0887\"],[0.1111111111111111,\"#46039f\"],[0.2222222222222222,\"#7201a8\"],[0.3333333333333333,\"#9c179e\"],[0.4444444444444444,\"#bd3786\"],[0.5555555555555556,\"#d8576b\"],[0.6666666666666666,\"#ed7953\"],[0.7777777777777778,\"#fb9f3a\"],[0.8888888888888888,\"#fdca26\"],[1.0,\"#f0f921\"]],\"type\":\"contour\"}],\"heatmapgl\":[{\"colorbar\":{\"outlinewidth\":0,\"ticks\":\"\"},\"colorscale\":[[0.0,\"#0d0887\"],[0.1111111111111111,\"#46039f\"],[0.2222222222222222,\"#7201a8\"],[0.3333333333333333,\"#9c179e\"],[0.4444444444444444,\"#bd3786\"],[0.5555555555555556,\"#d8576b\"],[0.6666666666666666,\"#ed7953\"],[0.7777777777777778,\"#fb9f3a\"],[0.8888888888888888,\"#fdca26\"],[1.0,\"#f0f921\"]],\"type\":\"heatmapgl\"}],\"heatmap\":[{\"colorbar\":{\"outlinewidth\":0,\"ticks\":\"\"},\"colorscale\":[[0.0,\"#0d0887\"],[0.1111111111111111,\"#46039f\"],[0.2222222222222222,\"#7201a8\"],[0.3333333333333333,\"#9c179e\"],[0.4444444444444444,\"#bd3786\"],[0.5555555555555556,\"#d8576b\"],[0.6666666666666666,\"#ed7953\"],[0.7777777777777778,\"#fb9f3a\"],[0.8888888888888888,\"#fdca26\"],[1.0,\"#f0f921\"]],\"type\":\"heatmap\"}],\"histogram2dcontour\":[{\"colorbar\":{\"outlinewidth\":0,\"ticks\":\"\"},\"colorscale\":[[0.0,\"#0d0887\"],[0.1111111111111111,\"#46039f\"],[0.2222222222222222,\"#7201a8\"],[0.3333333333333333,\"#9c179e\"],[0.4444444444444444,\"#bd3786\"],[0.5555555555555556,\"#d8576b\"],[0.6666666666666666,\"#ed7953\"],[0.7777777777777778,\"#fb9f3a\"],[0.8888888888888888,\"#fdca26\"],[1.0,\"#f0f921\"]],\"type\":\"histogram2dcontour\"}],\"histogram2d\":[{\"colorbar\":{\"outlinewidth\":0,\"ticks\":\"\"},\"colorscale\":[[0.0,\"#0d0887\"],[0.1111111111111111,\"#46039f\"],[0.2222222222222222,\"#7201a8\"],[0.3333333333333333,\"#9c179e\"],[0.4444444444444444,\"#bd3786\"],[0.5555555555555556,\"#d8576b\"],[0.6666666666666666,\"#ed7953\"],[0.7777777777777778,\"#fb9f3a\"],[0.8888888888888888,\"#fdca26\"],[1.0,\"#f0f921\"]],\"type\":\"histogram2d\"}],\"histogram\":[{\"marker\":{\"pattern\":{\"fillmode\":\"overlay\",\"size\":10,\"solidity\":0.2}},\"type\":\"histogram\"}],\"mesh3d\":[{\"colorbar\":{\"outlinewidth\":0,\"ticks\":\"\"},\"type\":\"mesh3d\"}],\"parcoords\":[{\"line\":{\"colorbar\":{\"outlinewidth\":0,\"ticks\":\"\"}},\"type\":\"parcoords\"}],\"pie\":[{\"automargin\":true,\"type\":\"pie\"}],\"scatter3d\":[{\"line\":{\"colorbar\":{\"outlinewidth\":0,\"ticks\":\"\"}},\"marker\":{\"colorbar\":{\"outlinewidth\":0,\"ticks\":\"\"}},\"type\":\"scatter3d\"}],\"scattercarpet\":[{\"marker\":{\"colorbar\":{\"outlinewidth\":0,\"ticks\":\"\"}},\"type\":\"scattercarpet\"}],\"scattergeo\":[{\"marker\":{\"colorbar\":{\"outlinewidth\":0,\"ticks\":\"\"}},\"type\":\"scattergeo\"}],\"scattergl\":[{\"marker\":{\"colorbar\":{\"outlinewidth\":0,\"ticks\":\"\"}},\"type\":\"scattergl\"}],\"scattermapbox\":[{\"marker\":{\"colorbar\":{\"outlinewidth\":0,\"ticks\":\"\"}},\"type\":\"scattermapbox\"}],\"scatterpolargl\":[{\"marker\":{\"colorbar\":{\"outlinewidth\":0,\"ticks\":\"\"}},\"type\":\"scatterpolargl\"}],\"scatterpolar\":[{\"marker\":{\"colorbar\":{\"outlinewidth\":0,\"ticks\":\"\"}},\"type\":\"scatterpolar\"}],\"scatter\":[{\"marker\":{\"colorbar\":{\"outlinewidth\":0,\"ticks\":\"\"}},\"type\":\"scatter\"}],\"scatterternary\":[{\"marker\":{\"colorbar\":{\"outlinewidth\":0,\"ticks\":\"\"}},\"type\":\"scatterternary\"}],\"surface\":[{\"colorbar\":{\"outlinewidth\":0,\"ticks\":\"\"},\"colorscale\":[[0.0,\"#0d0887\"],[0.1111111111111111,\"#46039f\"],[0.2222222222222222,\"#7201a8\"],[0.3333333333333333,\"#9c179e\"],[0.4444444444444444,\"#bd3786\"],[0.5555555555555556,\"#d8576b\"],[0.6666666666666666,\"#ed7953\"],[0.7777777777777778,\"#fb9f3a\"],[0.8888888888888888,\"#fdca26\"],[1.0,\"#f0f921\"]],\"type\":\"surface\"}],\"table\":[{\"cells\":{\"fill\":{\"color\":\"#EBF0F8\"},\"line\":{\"color\":\"white\"}},\"header\":{\"fill\":{\"color\":\"#C8D4E3\"},\"line\":{\"color\":\"white\"}},\"type\":\"table\"}]},\"layout\":{\"annotationdefaults\":{\"arrowcolor\":\"#2a3f5f\",\"arrowhead\":0,\"arrowwidth\":1},\"autotypenumbers\":\"strict\",\"coloraxis\":{\"colorbar\":{\"outlinewidth\":0,\"ticks\":\"\"}},\"colorscale\":{\"diverging\":[[0,\"#8e0152\"],[0.1,\"#c51b7d\"],[0.2,\"#de77ae\"],[0.3,\"#f1b6da\"],[0.4,\"#fde0ef\"],[0.5,\"#f7f7f7\"],[0.6,\"#e6f5d0\"],[0.7,\"#b8e186\"],[0.8,\"#7fbc41\"],[0.9,\"#4d9221\"],[1,\"#276419\"]],\"sequential\":[[0.0,\"#0d0887\"],[0.1111111111111111,\"#46039f\"],[0.2222222222222222,\"#7201a8\"],[0.3333333333333333,\"#9c179e\"],[0.4444444444444444,\"#bd3786\"],[0.5555555555555556,\"#d8576b\"],[0.6666666666666666,\"#ed7953\"],[0.7777777777777778,\"#fb9f3a\"],[0.8888888888888888,\"#fdca26\"],[1.0,\"#f0f921\"]],\"sequentialminus\":[[0.0,\"#0d0887\"],[0.1111111111111111,\"#46039f\"],[0.2222222222222222,\"#7201a8\"],[0.3333333333333333,\"#9c179e\"],[0.4444444444444444,\"#bd3786\"],[0.5555555555555556,\"#d8576b\"],[0.6666666666666666,\"#ed7953\"],[0.7777777777777778,\"#fb9f3a\"],[0.8888888888888888,\"#fdca26\"],[1.0,\"#f0f921\"]]},\"colorway\":[\"#636efa\",\"#EF553B\",\"#00cc96\",\"#ab63fa\",\"#FFA15A\",\"#19d3f3\",\"#FF6692\",\"#B6E880\",\"#FF97FF\",\"#FECB52\"],\"font\":{\"color\":\"#2a3f5f\"},\"geo\":{\"bgcolor\":\"white\",\"lakecolor\":\"white\",\"landcolor\":\"#E5ECF6\",\"showlakes\":true,\"showland\":true,\"subunitcolor\":\"white\"},\"hoverlabel\":{\"align\":\"left\"},\"hovermode\":\"closest\",\"mapbox\":{\"style\":\"light\"},\"paper_bgcolor\":\"white\",\"plot_bgcolor\":\"#E5ECF6\",\"polar\":{\"angularaxis\":{\"gridcolor\":\"white\",\"linecolor\":\"white\",\"ticks\":\"\"},\"bgcolor\":\"#E5ECF6\",\"radialaxis\":{\"gridcolor\":\"white\",\"linecolor\":\"white\",\"ticks\":\"\"}},\"scene\":{\"xaxis\":{\"backgroundcolor\":\"#E5ECF6\",\"gridcolor\":\"white\",\"gridwidth\":2,\"linecolor\":\"white\",\"showbackground\":true,\"ticks\":\"\",\"zerolinecolor\":\"white\"},\"yaxis\":{\"backgroundcolor\":\"#E5ECF6\",\"gridcolor\":\"white\",\"gridwidth\":2,\"linecolor\":\"white\",\"showbackground\":true,\"ticks\":\"\",\"zerolinecolor\":\"white\"},\"zaxis\":{\"backgroundcolor\":\"#E5ECF6\",\"gridcolor\":\"white\",\"gridwidth\":2,\"linecolor\":\"white\",\"showbackground\":true,\"ticks\":\"\",\"zerolinecolor\":\"white\"}},\"shapedefaults\":{\"line\":{\"color\":\"#2a3f5f\"}},\"ternary\":{\"aaxis\":{\"gridcolor\":\"white\",\"linecolor\":\"white\",\"ticks\":\"\"},\"baxis\":{\"gridcolor\":\"white\",\"linecolor\":\"white\",\"ticks\":\"\"},\"bgcolor\":\"#E5ECF6\",\"caxis\":{\"gridcolor\":\"white\",\"linecolor\":\"white\",\"ticks\":\"\"}},\"title\":{\"x\":0.05},\"xaxis\":{\"automargin\":true,\"gridcolor\":\"white\",\"linecolor\":\"white\",\"ticks\":\"\",\"title\":{\"standoff\":15},\"zerolinecolor\":\"white\",\"zerolinewidth\":2},\"yaxis\":{\"automargin\":true,\"gridcolor\":\"white\",\"linecolor\":\"white\",\"ticks\":\"\",\"title\":{\"standoff\":15},\"zerolinecolor\":\"white\",\"zerolinewidth\":2}}},\"title\":{\"text\":\"Outliers (highest & lowest)\"},\"xaxis\":{\"title\":{\"text\":\"Cities\"}},\"yaxis\":{\"title\":{\"text\":\"ratio of cars\"},\"type\":\"linear\"}},                        {\"responsive\": true}                    ).then(function(){\n",
       "                            \n",
       "var gd = document.getElementById('20ad5d05-8b56-4f29-924b-682351cfc3d4');\n",
       "var x = new MutationObserver(function (mutations, observer) {{\n",
       "        var display = window.getComputedStyle(gd).display;\n",
       "        if (!display || display === 'none') {{\n",
       "            console.log([gd, 'removed!']);\n",
       "            Plotly.purge(gd);\n",
       "            observer.disconnect();\n",
       "        }}\n",
       "}});\n",
       "\n",
       "// Listen for the removal of the full notebook cells\n",
       "var notebookContainer = gd.closest('#notebook-container');\n",
       "if (notebookContainer) {{\n",
       "    x.observe(notebookContainer, {childList: true});\n",
       "}}\n",
       "\n",
       "// Listen for the clearing of the current output cell\n",
       "var outputEl = gd.closest('.output');\n",
       "if (outputEl) {{\n",
       "    x.observe(outputEl, {childList: true});\n",
       "}}\n",
       "\n",
       "                        })                };                });            </script>        </div>"
      ]
     },
     "metadata": {},
     "output_type": "display_data"
    }
   ],
   "source": [
    "init_notebook_mode(connected=True)\n",
    "for chart in charts:\n",
    "    chart.pop('id', None) # for some reason iplot does not like 'id'\n",
    "iplot(figure)"
   ]
  },
  {
   "cell_type": "code",
   "execution_count": 33,
   "id": "57d27230",
   "metadata": {},
   "outputs": [],
   "source": [
    "figure.write_image(\"../../data/plot/accident_ratio_cars.png\")"
   ]
  },
  {
   "cell_type": "code",
   "execution_count": null,
   "id": "1d42d094",
   "metadata": {},
   "outputs": [],
   "source": []
  }
 ],
 "metadata": {
  "kernelspec": {
   "display_name": "py38_datareport",
   "language": "python",
   "name": "conda-env-py38_datareport-py"
  },
  "language_info": {
   "codemirror_mode": {
    "name": "ipython",
    "version": 3
   },
   "file_extension": ".py",
   "mimetype": "text/x-python",
   "name": "python",
   "nbconvert_exporter": "python",
   "pygments_lexer": "ipython3",
   "version": "3.8.12"
  }
 },
 "nbformat": 4,
 "nbformat_minor": 5
}
