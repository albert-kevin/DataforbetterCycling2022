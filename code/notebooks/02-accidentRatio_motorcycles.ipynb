{
 "cells": [
  {
   "cell_type": "code",
   "execution_count": 1,
   "id": "d24a88f3",
   "metadata": {},
   "outputs": [],
   "source": [
    "import numpy as np\n",
    "import pandas as pd\n",
    "import dtale\n",
    "import pandas_profiling as pp\n",
    "from IPython.display import Javascript\n",
    "from plotly.offline import iplot, init_notebook_mode"
   ]
  },
  {
   "cell_type": "code",
   "execution_count": 2,
   "id": "de6679ff",
   "metadata": {},
   "outputs": [],
   "source": [
    "# load the dataset\n",
    "accident_victims_2019_df = pd.read_parquet(\"../../data/silver/accident_victims_2019_df.parquet\")"
   ]
  },
  {
   "cell_type": "code",
   "execution_count": 3,
   "id": "63710aca",
   "metadata": {},
   "outputs": [
    {
     "name": "stdout",
     "output_type": "stream",
     "text": [
      "<class 'pandas.core.frame.DataFrame'>\n",
      "RangeIndex: 85607 entries, 0 to 85606\n",
      "Data columns (total 43 columns):\n",
      " #   Column                     Non-Null Count  Dtype         \n",
      "---  ------                     --------------  -----         \n",
      " 0   DT_DAY                     85607 non-null  datetime64[ns]\n",
      " 1   DT_HOUR                    85607 non-null  Int64         \n",
      " 2   CD_DAY_OF_WEEK             85607 non-null  Int64         \n",
      " 3   TX_DAY_OF_WEEK_DESCR_FR    85607 non-null  string        \n",
      " 4   TX_DAY_OF_WEEK_DESCR_NL    85607 non-null  string        \n",
      " 5   MS_VICT                    85607 non-null  Int64         \n",
      " 6   MS_VIC_OK                  85607 non-null  Int64         \n",
      " 7   MS_SLY_INJ                 85607 non-null  Int64         \n",
      " 8   MS_SERLY_INJ               85607 non-null  Int64         \n",
      " 9   MS_DEAD_30_DAYS            85607 non-null  Int64         \n",
      " 10  CD_BUILD_UP_AREA           85607 non-null  Int64         \n",
      " 11  TX_BUILD_UP_AREA_DESCR_NL  85607 non-null  string        \n",
      " 12  TX_BUILD_UP_AREA_DESCR_FR  85607 non-null  string        \n",
      " 13  CD_VICT_TYPE               85607 non-null  Int64         \n",
      " 14  TX_VICT_TYPE_DESCR_FR      85607 non-null  string        \n",
      " 15  TX_VICT_TYPE_DESCR_NL      85607 non-null  string        \n",
      " 16  CD_ROAD_USER_TYPE          85607 non-null  Int64         \n",
      " 17  TX_ROAD_USR_TYPE_DESCR_FR  85607 non-null  string        \n",
      " 18  TX_ROAD_USR_TYPE_DESCR_NL  85607 non-null  string        \n",
      " 19  CD_ROAD_TYPE               85607 non-null  Int64         \n",
      " 20  TX_ROAD_TYPE_DESCR_FR      85607 non-null  string        \n",
      " 21  TX_ROAD_TYPE_DESCR_NL      85607 non-null  string        \n",
      " 22  CD_LIGHT_COND              85607 non-null  Int64         \n",
      " 23  TX_LIGHT_COND_DESCR_FR     85607 non-null  string        \n",
      " 24  TX_LIGHT_COND_DESCR_NL     85607 non-null  string        \n",
      " 25  CD_AGE_CLS                 85607 non-null  Int64         \n",
      " 26  TX_AGE_CLS_DESCR_FR        85607 non-null  string        \n",
      " 27  TX_AGE_CLS_DESCR_NL        85607 non-null  string        \n",
      " 28  CD_MUNTY_REFNIS            85607 non-null  Int64         \n",
      " 29  TX_MUNTY_DESCR_FR          85607 non-null  string        \n",
      " 30  TX_MUNTY_DESCR_NL          85607 non-null  string        \n",
      " 31  CD_DSTR_REFNIS             85607 non-null  Int64         \n",
      " 32  TX_ADM_DSTR_DESCR_FR       85607 non-null  string        \n",
      " 33  TX_ADM_DSTR_DESCR_NL       85607 non-null  string        \n",
      " 34  CD_PROV_REFNIS             76907 non-null  Int64         \n",
      " 35  TX_PROV_DESCR_FR           76907 non-null  string        \n",
      " 36  TX_PROV_DESCR_NL           76907 non-null  string        \n",
      " 37  CD_RGN_REFNIS              85607 non-null  Int64         \n",
      " 38  TX_RGN_DESCR_FR            85607 non-null  string        \n",
      " 39  TX_RGN_DESCR_NL            85607 non-null  string        \n",
      " 40  CD_SEX                     85605 non-null  Int64         \n",
      " 41  TX_SEX_DESCR_FR            85605 non-null  string        \n",
      " 42  TX_SEX_DESCR_NL            85605 non-null  string        \n",
      "dtypes: Int64(18), datetime64[ns](1), string(24)\n",
      "memory usage: 29.6 MB\n"
     ]
    }
   ],
   "source": [
    "accident_victims_2019_df.info()"
   ]
  },
  {
   "cell_type": "code",
   "execution_count": 4,
   "id": "acee21ff",
   "metadata": {},
   "outputs": [],
   "source": [
    "# remove any duplicate values\n",
    "accident_victims_2019_df = accident_victims_2019_df.drop_duplicates().reset_index(drop=True)"
   ]
  },
  {
   "cell_type": "markdown",
   "id": "20f52617",
   "metadata": {},
   "source": [
    "# keep only the victim type 'bicycle' users"
   ]
  },
  {
   "cell_type": "code",
   "execution_count": 5,
   "id": "b2df65d4",
   "metadata": {},
   "outputs": [
    {
     "data": {
      "text/plain": [
       "<StringArray>\n",
       "[    'Bromfietser',      'Bestuurder',      'Voetganger',       'Passagier',\n",
       "         'Fietser',    'Motorfietser', 'Autres victimes',        'Onbekend']\n",
       "Length: 8, dtype: string"
      ]
     },
     "execution_count": 5,
     "metadata": {},
     "output_type": "execute_result"
    }
   ],
   "source": [
    "accident_victims_2019_df['TX_VICT_TYPE_DESCR_NL'].unique()"
   ]
  },
  {
   "cell_type": "code",
   "execution_count": 6,
   "id": "71569c08",
   "metadata": {},
   "outputs": [],
   "source": [
    "# remove all other records, keep only the victim type 'bicycle' type \n",
    "accident_victims_2019_df = accident_victims_2019_df[(accident_victims_2019_df['TX_VICT_TYPE_DESCR_NL'] == 'Motorfietser')]"
   ]
  },
  {
   "cell_type": "code",
   "execution_count": 7,
   "id": "7474e2a1",
   "metadata": {},
   "outputs": [],
   "source": [
    "# select only a few important columns (date, vilage, ...)\n",
    "accident_per_day_2019_df = accident_victims_2019_df[[\"DT_DAY\", \"TX_BUILD_UP_AREA_DESCR_NL\", \"CD_ROAD_USER_TYPE\", \"TX_ROAD_TYPE_DESCR_NL\", \"TX_LIGHT_COND_DESCR_NL\", \"TX_AGE_CLS_DESCR_NL\", \"TX_MUNTY_DESCR_NL\"]]"
   ]
  },
  {
   "cell_type": "code",
   "execution_count": 8,
   "id": "756db66b",
   "metadata": {},
   "outputs": [
    {
     "name": "stdout",
     "output_type": "stream",
     "text": [
      "<class 'pandas.core.frame.DataFrame'>\n",
      "Int64Index: 2828 entries, 8 to 85579\n",
      "Data columns (total 7 columns):\n",
      " #   Column                     Non-Null Count  Dtype         \n",
      "---  ------                     --------------  -----         \n",
      " 0   DT_DAY                     2828 non-null   datetime64[ns]\n",
      " 1   TX_BUILD_UP_AREA_DESCR_NL  2828 non-null   string        \n",
      " 2   CD_ROAD_USER_TYPE          2828 non-null   Int64         \n",
      " 3   TX_ROAD_TYPE_DESCR_NL      2828 non-null   string        \n",
      " 4   TX_LIGHT_COND_DESCR_NL     2828 non-null   string        \n",
      " 5   TX_AGE_CLS_DESCR_NL        2828 non-null   string        \n",
      " 6   TX_MUNTY_DESCR_NL          2828 non-null   string        \n",
      "dtypes: Int64(1), datetime64[ns](1), string(5)\n",
      "memory usage: 179.5 KB\n"
     ]
    }
   ],
   "source": [
    "accident_per_day_2019_df.info()"
   ]
  },
  {
   "cell_type": "code",
   "execution_count": 9,
   "id": "8408e8cd",
   "metadata": {},
   "outputs": [
    {
     "data": {
      "text/html": [
       "<div>\n",
       "<style scoped>\n",
       "    .dataframe tbody tr th:only-of-type {\n",
       "        vertical-align: middle;\n",
       "    }\n",
       "\n",
       "    .dataframe tbody tr th {\n",
       "        vertical-align: top;\n",
       "    }\n",
       "\n",
       "    .dataframe thead th {\n",
       "        text-align: right;\n",
       "    }\n",
       "</style>\n",
       "<table border=\"1\" class=\"dataframe\">\n",
       "  <thead>\n",
       "    <tr style=\"text-align: right;\">\n",
       "      <th></th>\n",
       "      <th>DT_DAY</th>\n",
       "      <th>TX_BUILD_UP_AREA_DESCR_NL</th>\n",
       "      <th>CD_ROAD_USER_TYPE</th>\n",
       "      <th>TX_ROAD_TYPE_DESCR_NL</th>\n",
       "      <th>TX_LIGHT_COND_DESCR_NL</th>\n",
       "      <th>TX_AGE_CLS_DESCR_NL</th>\n",
       "      <th>TX_MUNTY_DESCR_NL</th>\n",
       "    </tr>\n",
       "  </thead>\n",
       "  <tbody>\n",
       "    <tr>\n",
       "      <th>8</th>\n",
       "      <td>2019-11-13</td>\n",
       "      <td>Buiten bebouwde kom</td>\n",
       "      <td>14</td>\n",
       "      <td>Autosnelweg</td>\n",
       "      <td>Bij klaarlichte dag</td>\n",
       "      <td>55 tot 59 jaar</td>\n",
       "      <td>Aartselaar</td>\n",
       "    </tr>\n",
       "    <tr>\n",
       "      <th>18</th>\n",
       "      <td>2019-10-07</td>\n",
       "      <td>Buiten bebouwde kom</td>\n",
       "      <td>13</td>\n",
       "      <td>Autosnelweg</td>\n",
       "      <td>Bij klaarlichte dag</td>\n",
       "      <td>20 tot 24 jaar</td>\n",
       "      <td>Aartselaar</td>\n",
       "    </tr>\n",
       "    <tr>\n",
       "      <th>90</th>\n",
       "      <td>2019-09-26</td>\n",
       "      <td>Buiten bebouwde kom</td>\n",
       "      <td>13</td>\n",
       "      <td>Gewestweg</td>\n",
       "      <td>Nacht, ontstoken openbare verlichting</td>\n",
       "      <td>30 tot 34 jaar</td>\n",
       "      <td>Aartselaar</td>\n",
       "    </tr>\n",
       "    <tr>\n",
       "      <th>95</th>\n",
       "      <td>2019-08-31</td>\n",
       "      <td>Buiten bebouwde kom</td>\n",
       "      <td>14</td>\n",
       "      <td>Gemeenteweg</td>\n",
       "      <td>Bij klaarlichte dag</td>\n",
       "      <td>45 tot 49 jaar</td>\n",
       "      <td>Aartselaar</td>\n",
       "    </tr>\n",
       "    <tr>\n",
       "      <th>106</th>\n",
       "      <td>2019-06-13</td>\n",
       "      <td>Binnen bebouwde kom</td>\n",
       "      <td>14</td>\n",
       "      <td>Gemeenteweg</td>\n",
       "      <td>Bij klaarlichte dag</td>\n",
       "      <td>45 tot 49 jaar</td>\n",
       "      <td>Aartselaar</td>\n",
       "    </tr>\n",
       "    <tr>\n",
       "      <th>...</th>\n",
       "      <td>...</td>\n",
       "      <td>...</td>\n",
       "      <td>...</td>\n",
       "      <td>...</td>\n",
       "      <td>...</td>\n",
       "      <td>...</td>\n",
       "      <td>...</td>\n",
       "    </tr>\n",
       "    <tr>\n",
       "      <th>85529</th>\n",
       "      <td>2019-02-17</td>\n",
       "      <td>Buiten bebouwde kom</td>\n",
       "      <td>14</td>\n",
       "      <td>Gewestweg</td>\n",
       "      <td>Bij klaarlichte dag</td>\n",
       "      <td>60 tot 64 jaar</td>\n",
       "      <td>Walcourt</td>\n",
       "    </tr>\n",
       "    <tr>\n",
       "      <th>85542</th>\n",
       "      <td>2019-10-29</td>\n",
       "      <td>Buiten bebouwde kom</td>\n",
       "      <td>14</td>\n",
       "      <td>Gewestweg</td>\n",
       "      <td>Nacht, geen openbare verlichting</td>\n",
       "      <td>40 tot 44 jaar</td>\n",
       "      <td>Walcourt</td>\n",
       "    </tr>\n",
       "    <tr>\n",
       "      <th>85562</th>\n",
       "      <td>2019-03-30</td>\n",
       "      <td>Binnen bebouwde kom</td>\n",
       "      <td>13</td>\n",
       "      <td>Gewestweg</td>\n",
       "      <td>Bij klaarlichte dag</td>\n",
       "      <td>30 tot 34 jaar</td>\n",
       "      <td>Viroinval</td>\n",
       "    </tr>\n",
       "    <tr>\n",
       "      <th>85575</th>\n",
       "      <td>2019-06-15</td>\n",
       "      <td>Buiten bebouwde kom</td>\n",
       "      <td>14</td>\n",
       "      <td>Gewestweg</td>\n",
       "      <td>Bij klaarlichte dag</td>\n",
       "      <td>50 tot 54 jaar</td>\n",
       "      <td>Viroinval</td>\n",
       "    </tr>\n",
       "    <tr>\n",
       "      <th>85579</th>\n",
       "      <td>2019-07-02</td>\n",
       "      <td>Binnen bebouwde kom</td>\n",
       "      <td>14</td>\n",
       "      <td>Gemeenteweg</td>\n",
       "      <td>Bij klaarlichte dag</td>\n",
       "      <td>35 tot 39 jaar</td>\n",
       "      <td>Viroinval</td>\n",
       "    </tr>\n",
       "  </tbody>\n",
       "</table>\n",
       "<p>2828 rows × 7 columns</p>\n",
       "</div>"
      ],
      "text/plain": [
       "          DT_DAY TX_BUILD_UP_AREA_DESCR_NL  CD_ROAD_USER_TYPE  \\\n",
       "8     2019-11-13       Buiten bebouwde kom                 14   \n",
       "18    2019-10-07       Buiten bebouwde kom                 13   \n",
       "90    2019-09-26       Buiten bebouwde kom                 13   \n",
       "95    2019-08-31       Buiten bebouwde kom                 14   \n",
       "106   2019-06-13       Binnen bebouwde kom                 14   \n",
       "...          ...                       ...                ...   \n",
       "85529 2019-02-17       Buiten bebouwde kom                 14   \n",
       "85542 2019-10-29       Buiten bebouwde kom                 14   \n",
       "85562 2019-03-30       Binnen bebouwde kom                 13   \n",
       "85575 2019-06-15       Buiten bebouwde kom                 14   \n",
       "85579 2019-07-02       Binnen bebouwde kom                 14   \n",
       "\n",
       "      TX_ROAD_TYPE_DESCR_NL                 TX_LIGHT_COND_DESCR_NL  \\\n",
       "8               Autosnelweg                    Bij klaarlichte dag   \n",
       "18              Autosnelweg                    Bij klaarlichte dag   \n",
       "90                Gewestweg  Nacht, ontstoken openbare verlichting   \n",
       "95              Gemeenteweg                    Bij klaarlichte dag   \n",
       "106             Gemeenteweg                    Bij klaarlichte dag   \n",
       "...                     ...                                    ...   \n",
       "85529             Gewestweg                    Bij klaarlichte dag   \n",
       "85542             Gewestweg       Nacht, geen openbare verlichting   \n",
       "85562             Gewestweg                    Bij klaarlichte dag   \n",
       "85575             Gewestweg                    Bij klaarlichte dag   \n",
       "85579           Gemeenteweg                    Bij klaarlichte dag   \n",
       "\n",
       "      TX_AGE_CLS_DESCR_NL TX_MUNTY_DESCR_NL  \n",
       "8          55 tot 59 jaar        Aartselaar  \n",
       "18         20 tot 24 jaar        Aartselaar  \n",
       "90         30 tot 34 jaar        Aartselaar  \n",
       "95         45 tot 49 jaar        Aartselaar  \n",
       "106        45 tot 49 jaar        Aartselaar  \n",
       "...                   ...               ...  \n",
       "85529      60 tot 64 jaar          Walcourt  \n",
       "85542      40 tot 44 jaar          Walcourt  \n",
       "85562      30 tot 34 jaar         Viroinval  \n",
       "85575      50 tot 54 jaar         Viroinval  \n",
       "85579      35 tot 39 jaar         Viroinval  \n",
       "\n",
       "[2828 rows x 7 columns]"
      ]
     },
     "execution_count": 9,
     "metadata": {},
     "output_type": "execute_result"
    }
   ],
   "source": [
    "accident_per_day_2019_df"
   ]
  },
  {
   "cell_type": "markdown",
   "id": "91cebbc4",
   "metadata": {},
   "source": [
    "## count is the right function to use\n",
    "but, we need the number of incidents that day"
   ]
  },
  {
   "cell_type": "code",
   "execution_count": 10,
   "id": "d8c0393a",
   "metadata": {},
   "outputs": [
    {
     "data": {
      "text/html": [
       "<div>\n",
       "<style scoped>\n",
       "    .dataframe tbody tr th:only-of-type {\n",
       "        vertical-align: middle;\n",
       "    }\n",
       "\n",
       "    .dataframe tbody tr th {\n",
       "        vertical-align: top;\n",
       "    }\n",
       "\n",
       "    .dataframe thead th {\n",
       "        text-align: right;\n",
       "    }\n",
       "</style>\n",
       "<table border=\"1\" class=\"dataframe\">\n",
       "  <thead>\n",
       "    <tr style=\"text-align: right;\">\n",
       "      <th></th>\n",
       "      <th>DT_DAY</th>\n",
       "      <th>TX_MUNTY_DESCR_NL</th>\n",
       "      <th>nr_of_accidents</th>\n",
       "    </tr>\n",
       "  </thead>\n",
       "  <tbody>\n",
       "    <tr>\n",
       "      <th>2421</th>\n",
       "      <td>2019-11-13</td>\n",
       "      <td>Brussel</td>\n",
       "      <td>5</td>\n",
       "    </tr>\n",
       "    <tr>\n",
       "      <th>780</th>\n",
       "      <td>2019-05-14</td>\n",
       "      <td>Antwerpen</td>\n",
       "      <td>4</td>\n",
       "    </tr>\n",
       "    <tr>\n",
       "      <th>915</th>\n",
       "      <td>2019-05-27</td>\n",
       "      <td>Antwerpen</td>\n",
       "      <td>4</td>\n",
       "    </tr>\n",
       "    <tr>\n",
       "      <th>1737</th>\n",
       "      <td>2019-08-23</td>\n",
       "      <td>Beveren (Sint-Niklaas)</td>\n",
       "      <td>4</td>\n",
       "    </tr>\n",
       "    <tr>\n",
       "      <th>1930</th>\n",
       "      <td>2019-09-11</td>\n",
       "      <td>Brussel</td>\n",
       "      <td>4</td>\n",
       "    </tr>\n",
       "    <tr>\n",
       "      <th>...</th>\n",
       "      <td>...</td>\n",
       "      <td>...</td>\n",
       "      <td>...</td>\n",
       "    </tr>\n",
       "    <tr>\n",
       "      <th>2635</th>\n",
       "      <td>2019-12-30</td>\n",
       "      <td>Bergen</td>\n",
       "      <td>1</td>\n",
       "    </tr>\n",
       "    <tr>\n",
       "      <th>2634</th>\n",
       "      <td>2019-12-30</td>\n",
       "      <td>Awans</td>\n",
       "      <td>1</td>\n",
       "    </tr>\n",
       "    <tr>\n",
       "      <th>2640</th>\n",
       "      <td>2019-12-31</td>\n",
       "      <td>Eigenbrakel</td>\n",
       "      <td>1</td>\n",
       "    </tr>\n",
       "    <tr>\n",
       "      <th>2639</th>\n",
       "      <td>2019-12-31</td>\n",
       "      <td>Awans</td>\n",
       "      <td>1</td>\n",
       "    </tr>\n",
       "    <tr>\n",
       "      <th>2638</th>\n",
       "      <td>2019-12-31</td>\n",
       "      <td>Avelgem</td>\n",
       "      <td>1</td>\n",
       "    </tr>\n",
       "  </tbody>\n",
       "</table>\n",
       "<p>2641 rows × 3 columns</p>\n",
       "</div>"
      ],
      "text/plain": [
       "         DT_DAY       TX_MUNTY_DESCR_NL  nr_of_accidents\n",
       "2421 2019-11-13                 Brussel                5\n",
       "780  2019-05-14               Antwerpen                4\n",
       "915  2019-05-27               Antwerpen                4\n",
       "1737 2019-08-23  Beveren (Sint-Niklaas)                4\n",
       "1930 2019-09-11                 Brussel                4\n",
       "...         ...                     ...              ...\n",
       "2635 2019-12-30                  Bergen                1\n",
       "2634 2019-12-30                   Awans                1\n",
       "2640 2019-12-31             Eigenbrakel                1\n",
       "2639 2019-12-31                   Awans                1\n",
       "2638 2019-12-31                 Avelgem                1\n",
       "\n",
       "[2641 rows x 3 columns]"
      ]
     },
     "execution_count": 10,
     "metadata": {},
     "output_type": "execute_result"
    }
   ],
   "source": [
    "# sort date first, then sort on vilagename, then group these two and count() the number of incidents that occured\n",
    "# then create a new dataframe and sort the results with the most accidents on a given day first \n",
    "groupby_accident_per_day_2019_df = accident_per_day_2019_df.groupby(['DT_DAY', 'TX_MUNTY_DESCR_NL'])['TX_ROAD_TYPE_DESCR_NL'].count().to_frame(name='nr_of_accidents').reset_index()\n",
    "groupby_accident_per_day_2019_df = groupby_accident_per_day_2019_df.sort_values(by=['nr_of_accidents', 'DT_DAY', 'TX_MUNTY_DESCR_NL'], ascending=[False, True, False])\n",
    "groupby_accident_per_day_2019_df"
   ]
  },
  {
   "cell_type": "code",
   "execution_count": 11,
   "id": "08b34c0d",
   "metadata": {},
   "outputs": [
    {
     "data": {
      "text/html": [
       "<div>\n",
       "<style scoped>\n",
       "    .dataframe tbody tr th:only-of-type {\n",
       "        vertical-align: middle;\n",
       "    }\n",
       "\n",
       "    .dataframe tbody tr th {\n",
       "        vertical-align: top;\n",
       "    }\n",
       "\n",
       "    .dataframe thead th {\n",
       "        text-align: right;\n",
       "    }\n",
       "</style>\n",
       "<table border=\"1\" class=\"dataframe\">\n",
       "  <thead>\n",
       "    <tr style=\"text-align: right;\">\n",
       "      <th></th>\n",
       "      <th>DT_DAY</th>\n",
       "      <th>TX_MUNTY_DESCR_NL</th>\n",
       "      <th>nr_of_accidents</th>\n",
       "    </tr>\n",
       "  </thead>\n",
       "  <tbody>\n",
       "    <tr>\n",
       "      <th>5</th>\n",
       "      <td>2019-01-03</td>\n",
       "      <td>Antwerpen</td>\n",
       "      <td>1</td>\n",
       "    </tr>\n",
       "    <tr>\n",
       "      <th>8</th>\n",
       "      <td>2019-01-04</td>\n",
       "      <td>Antwerpen</td>\n",
       "      <td>1</td>\n",
       "    </tr>\n",
       "    <tr>\n",
       "      <th>22</th>\n",
       "      <td>2019-01-08</td>\n",
       "      <td>Antwerpen</td>\n",
       "      <td>1</td>\n",
       "    </tr>\n",
       "    <tr>\n",
       "      <th>26</th>\n",
       "      <td>2019-01-09</td>\n",
       "      <td>Antwerpen</td>\n",
       "      <td>1</td>\n",
       "    </tr>\n",
       "    <tr>\n",
       "      <th>48</th>\n",
       "      <td>2019-01-16</td>\n",
       "      <td>Antwerpen</td>\n",
       "      <td>1</td>\n",
       "    </tr>\n",
       "    <tr>\n",
       "      <th>...</th>\n",
       "      <td>...</td>\n",
       "      <td>...</td>\n",
       "      <td>...</td>\n",
       "    </tr>\n",
       "    <tr>\n",
       "      <th>2593</th>\n",
       "      <td>2019-12-18</td>\n",
       "      <td>Antwerpen</td>\n",
       "      <td>1</td>\n",
       "    </tr>\n",
       "    <tr>\n",
       "      <th>2600</th>\n",
       "      <td>2019-12-19</td>\n",
       "      <td>Antwerpen</td>\n",
       "      <td>2</td>\n",
       "    </tr>\n",
       "    <tr>\n",
       "      <th>2603</th>\n",
       "      <td>2019-12-20</td>\n",
       "      <td>Antwerpen</td>\n",
       "      <td>1</td>\n",
       "    </tr>\n",
       "    <tr>\n",
       "      <th>2610</th>\n",
       "      <td>2019-12-22</td>\n",
       "      <td>Antwerpen</td>\n",
       "      <td>1</td>\n",
       "    </tr>\n",
       "    <tr>\n",
       "      <th>2623</th>\n",
       "      <td>2019-12-26</td>\n",
       "      <td>Antwerpen</td>\n",
       "      <td>1</td>\n",
       "    </tr>\n",
       "  </tbody>\n",
       "</table>\n",
       "<p>119 rows × 3 columns</p>\n",
       "</div>"
      ],
      "text/plain": [
       "         DT_DAY TX_MUNTY_DESCR_NL  nr_of_accidents\n",
       "5    2019-01-03         Antwerpen                1\n",
       "8    2019-01-04         Antwerpen                1\n",
       "22   2019-01-08         Antwerpen                1\n",
       "26   2019-01-09         Antwerpen                1\n",
       "48   2019-01-16         Antwerpen                1\n",
       "...         ...               ...              ...\n",
       "2593 2019-12-18         Antwerpen                1\n",
       "2600 2019-12-19         Antwerpen                2\n",
       "2603 2019-12-20         Antwerpen                1\n",
       "2610 2019-12-22         Antwerpen                1\n",
       "2623 2019-12-26         Antwerpen                1\n",
       "\n",
       "[119 rows x 3 columns]"
      ]
     },
     "execution_count": 11,
     "metadata": {},
     "output_type": "execute_result"
    }
   ],
   "source": [
    "# this was to check and verify the correctness of the results - ALL GOOD\n",
    "groupby_accident_per_day_2019_df[groupby_accident_per_day_2019_df[\"TX_MUNTY_DESCR_NL\"] == 'Antwerpen'].sort_values(by=['DT_DAY'], ascending=[True])"
   ]
  },
  {
   "cell_type": "markdown",
   "id": "0a39387a",
   "metadata": {},
   "source": [
    "# so now, we calculate the accidents/cyclists RATIO"
   ]
  },
  {
   "cell_type": "code",
   "execution_count": 12,
   "id": "f5088546",
   "metadata": {},
   "outputs": [],
   "source": [
    "# load population values\n",
    "village_populations_wiki_df = pd.read_parquet(\"../../data/silver/village_populations_wiki_df.parquet\")"
   ]
  },
  {
   "cell_type": "code",
   "execution_count": 13,
   "id": "04583516",
   "metadata": {},
   "outputs": [],
   "source": [
    "# village_populations_wiki_df.columns = [\"Village\", \"Population\", \"km2_size\"]"
   ]
  },
  {
   "cell_type": "code",
   "execution_count": 14,
   "id": "f315d59f",
   "metadata": {},
   "outputs": [
    {
     "data": {
      "text/html": [
       "<div>\n",
       "<style scoped>\n",
       "    .dataframe tbody tr th:only-of-type {\n",
       "        vertical-align: middle;\n",
       "    }\n",
       "\n",
       "    .dataframe tbody tr th {\n",
       "        vertical-align: top;\n",
       "    }\n",
       "\n",
       "    .dataframe thead th {\n",
       "        text-align: right;\n",
       "    }\n",
       "</style>\n",
       "<table border=\"1\" class=\"dataframe\">\n",
       "  <thead>\n",
       "    <tr style=\"text-align: right;\">\n",
       "      <th></th>\n",
       "      <th>Village</th>\n",
       "      <th>Population</th>\n",
       "      <th>km2_size</th>\n",
       "    </tr>\n",
       "  </thead>\n",
       "  <tbody>\n",
       "    <tr>\n",
       "      <th>0</th>\n",
       "      <td>Antwerpen</td>\n",
       "      <td>446525</td>\n",
       "      <td>204,51</td>\n",
       "    </tr>\n",
       "    <tr>\n",
       "      <th>1</th>\n",
       "      <td>Gent</td>\n",
       "      <td>224180</td>\n",
       "      <td>156,18</td>\n",
       "    </tr>\n",
       "    <tr>\n",
       "      <th>2</th>\n",
       "      <td>Charleroi</td>\n",
       "      <td>200827</td>\n",
       "      <td>102,08</td>\n",
       "    </tr>\n",
       "    <tr>\n",
       "      <th>3</th>\n",
       "      <td>Luik</td>\n",
       "      <td>185639</td>\n",
       "      <td>69,39</td>\n",
       "    </tr>\n",
       "    <tr>\n",
       "      <th>4</th>\n",
       "      <td>Brussel</td>\n",
       "      <td>133859</td>\n",
       "      <td>32,61</td>\n",
       "    </tr>\n",
       "    <tr>\n",
       "      <th>...</th>\n",
       "      <td>...</td>\n",
       "      <td>...</td>\n",
       "      <td>...</td>\n",
       "    </tr>\n",
       "    <tr>\n",
       "      <th>576</th>\n",
       "      <td>Martelange</td>\n",
       "      <td>1428</td>\n",
       "      <td>29,67</td>\n",
       "    </tr>\n",
       "    <tr>\n",
       "      <th>577</th>\n",
       "      <td>Herbeumont</td>\n",
       "      <td>1434</td>\n",
       "      <td>58,81</td>\n",
       "    </tr>\n",
       "    <tr>\n",
       "      <th>578</th>\n",
       "      <td>Daverdisse</td>\n",
       "      <td>1360</td>\n",
       "      <td>56,40</td>\n",
       "    </tr>\n",
       "    <tr>\n",
       "      <th>579</th>\n",
       "      <td>Mesen</td>\n",
       "      <td>964</td>\n",
       "      <td>3,58</td>\n",
       "    </tr>\n",
       "    <tr>\n",
       "      <th>580</th>\n",
       "      <td>Herstappe</td>\n",
       "      <td>85</td>\n",
       "      <td>1,35</td>\n",
       "    </tr>\n",
       "  </tbody>\n",
       "</table>\n",
       "<p>581 rows × 3 columns</p>\n",
       "</div>"
      ],
      "text/plain": [
       "        Village  Population km2_size\n",
       "0     Antwerpen      446525   204,51\n",
       "1          Gent      224180   156,18\n",
       "2     Charleroi      200827   102,08\n",
       "3          Luik      185639    69,39\n",
       "4       Brussel      133859    32,61\n",
       "..          ...         ...      ...\n",
       "576  Martelange        1428    29,67\n",
       "577  Herbeumont        1434    58,81\n",
       "578  Daverdisse        1360    56,40\n",
       "579       Mesen         964     3,58\n",
       "580   Herstappe          85     1,35\n",
       "\n",
       "[581 rows x 3 columns]"
      ]
     },
     "execution_count": 14,
     "metadata": {},
     "output_type": "execute_result"
    }
   ],
   "source": [
    "village_populations_wiki_df"
   ]
  },
  {
   "cell_type": "code",
   "execution_count": 15,
   "id": "407ed236",
   "metadata": {},
   "outputs": [],
   "source": [
    "village_populations_wiki_df['km2_size'] = village_populations_wiki_df['km2_size'].str[:-3:].astype(int)"
   ]
  },
  {
   "cell_type": "code",
   "execution_count": 16,
   "id": "37d934b2",
   "metadata": {},
   "outputs": [
    {
     "name": "stdout",
     "output_type": "stream",
     "text": [
      "<class 'pandas.core.frame.DataFrame'>\n",
      "RangeIndex: 581 entries, 0 to 580\n",
      "Data columns (total 3 columns):\n",
      " #   Column      Non-Null Count  Dtype \n",
      "---  ------      --------------  ----- \n",
      " 0   Village     581 non-null    string\n",
      " 1   Population  581 non-null    Int64 \n",
      " 2   km2_size    581 non-null    int64 \n",
      "dtypes: Int64(1), int64(1), string(1)\n",
      "memory usage: 14.3 KB\n"
     ]
    }
   ],
   "source": [
    "village_populations_wiki_df.info()"
   ]
  },
  {
   "cell_type": "markdown",
   "id": "3cec1e24",
   "metadata": {},
   "source": [
    "# now we calculate the ratio"
   ]
  },
  {
   "cell_type": "code",
   "execution_count": 17,
   "id": "c2b0a207",
   "metadata": {},
   "outputs": [],
   "source": [
    "groupby_accident_per_day_2019_df = groupby_accident_per_day_2019_df.replace({'TX_MUNTY_DESCR_NL':{\n",
    "    'Sint-Niklaas (Sint-Niklaas)': 'Sint-Niklaas',\n",
    "    'Halle (Halle-Vilvoorde)': 'Halle',\n",
    "    'Beveren (Sint-Niklaas)': 'Beveren',\n",
    "    'Tielt (Tielt)': 'Tielt',\n",
    "    'Vorst (Brussel-Hoofdstad)': 'Vorst',\n",
    "    'Kapellen (Antwerpen)': 'Kapellen',\n",
    "    'Hamme (Dendermonde)': 'Hamme',\n",
    "    'Nieuwerkerken (Hasselt)': 'Nieuwerkerken',\n",
    "    'Machelen (Halle-Vilvoorde)': 'Machelen',\n",
    "    'Hove (Antwerpen)': 'Hove',\n",
    "    'Celles (Doornik)': 'Celles',\n",
    "    'Perwijs (Nijvel)': 'Perwijs',\n",
    "    'Saint-Nicolas (Luik)': 'Saint-Nicolas',\n",
    "    'Aalst (Aalst)': 'Aalst',\n",
    "    'Moerbeke (Gent)': 'Moerbeke'}})"
   ]
  },
  {
   "cell_type": "code",
   "execution_count": 18,
   "id": "f03a8edc",
   "metadata": {},
   "outputs": [],
   "source": [
    "village_populations_wiki_df = village_populations_wiki_df.replace({'Village':{\n",
    "    'Pelt*': 'Pelt',\n",
    "    'Deinze*': 'Deinze',\n",
    "    'Kruisem*': 'Kruisem',\n",
    "    'Aalter*': 'Aalter',\n",
    "    'Belœil': 'Beloeil',\n",
    "    'Lievegem*': 'Lievegem',\n",
    "    \"Mont-de-l'Enclus\": 'Mont-de-l’Enclus',\n",
    "    'Puurs-Sint-Amands*': 'Puurs-Sint-Amands',\n",
    "    'Court-Saint-Étienne': 'Court-Saint-Etienne',\n",
    "    'Éghezée': 'Eghezée',\n",
    "    'Oudsbergen*': 'Oudsbergen',\n",
    "    'Estaimpuis*': 'Estaimpuis',\n",
    "    \"Fontaine-l'Evêque\": 'Fontaine-l’Evêque',\n",
    "    'Gembloers': 'Gembloux',\n",
    "    '’s Gravenbrakel*': '’s Gravenbrakel',\n",
    "    'Erezée*': 'Erezée',\n",
    "    'Ecaussines': 'Ecaussinnes',\n",
    "    'Blegny*': 'Blegny',\n",
    "    'Plombières*': 'Plombières'}})"
   ]
  },
  {
   "cell_type": "code",
   "execution_count": 19,
   "id": "16bb07cb",
   "metadata": {},
   "outputs": [],
   "source": [
    "# merge join on village\n",
    "merged_accidents_df = groupby_accident_per_day_2019_df.merge(village_populations_wiki_df, left_on='TX_MUNTY_DESCR_NL', right_on='Village', how='left')"
   ]
  },
  {
   "cell_type": "code",
   "execution_count": 20,
   "id": "040112f9",
   "metadata": {},
   "outputs": [],
   "source": [
    "# remove Nan records\n",
    "merged_accidents_df = merged_accidents_df[~(merged_accidents_df['Population'].isna())]"
   ]
  },
  {
   "cell_type": "markdown",
   "id": "a4ffcb64",
   "metadata": {},
   "source": [
    "# calculate the ratio itself\n",
    "\n",
    "### (nr of incidents / population ) * city size in km"
   ]
  },
  {
   "cell_type": "code",
   "execution_count": 21,
   "id": "3fe456c3",
   "metadata": {},
   "outputs": [],
   "source": [
    "merged_accidents_df.loc[:, 'accident_village_ratio'] = merged_accidents_df['nr_of_accidents'] / merged_accidents_df['Population']"
   ]
  },
  {
   "cell_type": "code",
   "execution_count": 22,
   "id": "65b5a12d",
   "metadata": {},
   "outputs": [],
   "source": [
    "merged_accidents_df.loc[:, 'accident_village_size_ratio'] = merged_accidents_df['accident_village_ratio'] * merged_accidents_df['km2_size']"
   ]
  },
  {
   "cell_type": "code",
   "execution_count": 23,
   "id": "e596b10d",
   "metadata": {},
   "outputs": [
    {
     "data": {
      "text/html": [
       "<div>\n",
       "<style scoped>\n",
       "    .dataframe tbody tr th:only-of-type {\n",
       "        vertical-align: middle;\n",
       "    }\n",
       "\n",
       "    .dataframe tbody tr th {\n",
       "        vertical-align: top;\n",
       "    }\n",
       "\n",
       "    .dataframe thead th {\n",
       "        text-align: right;\n",
       "    }\n",
       "</style>\n",
       "<table border=\"1\" class=\"dataframe\">\n",
       "  <thead>\n",
       "    <tr style=\"text-align: right;\">\n",
       "      <th></th>\n",
       "      <th>DT_DAY</th>\n",
       "      <th>TX_MUNTY_DESCR_NL</th>\n",
       "      <th>nr_of_accidents</th>\n",
       "      <th>Village</th>\n",
       "      <th>Population</th>\n",
       "      <th>km2_size</th>\n",
       "      <th>accident_village_ratio</th>\n",
       "      <th>accident_village_size_ratio</th>\n",
       "    </tr>\n",
       "  </thead>\n",
       "  <tbody>\n",
       "    <tr>\n",
       "      <th>0</th>\n",
       "      <td>2019-11-13</td>\n",
       "      <td>Brussel</td>\n",
       "      <td>5</td>\n",
       "      <td>Brussel</td>\n",
       "      <td>133859</td>\n",
       "      <td>32.0</td>\n",
       "      <td>0.000037</td>\n",
       "      <td>0.001195</td>\n",
       "    </tr>\n",
       "    <tr>\n",
       "      <th>1</th>\n",
       "      <td>2019-05-14</td>\n",
       "      <td>Antwerpen</td>\n",
       "      <td>4</td>\n",
       "      <td>Antwerpen</td>\n",
       "      <td>446525</td>\n",
       "      <td>204.0</td>\n",
       "      <td>0.000009</td>\n",
       "      <td>0.001827</td>\n",
       "    </tr>\n",
       "    <tr>\n",
       "      <th>2</th>\n",
       "      <td>2019-05-27</td>\n",
       "      <td>Antwerpen</td>\n",
       "      <td>4</td>\n",
       "      <td>Antwerpen</td>\n",
       "      <td>446525</td>\n",
       "      <td>204.0</td>\n",
       "      <td>0.000009</td>\n",
       "      <td>0.001827</td>\n",
       "    </tr>\n",
       "    <tr>\n",
       "      <th>3</th>\n",
       "      <td>2019-08-23</td>\n",
       "      <td>Beveren</td>\n",
       "      <td>4</td>\n",
       "      <td>Beveren</td>\n",
       "      <td>44977</td>\n",
       "      <td>150.0</td>\n",
       "      <td>0.000089</td>\n",
       "      <td>0.01334</td>\n",
       "    </tr>\n",
       "    <tr>\n",
       "      <th>4</th>\n",
       "      <td>2019-09-11</td>\n",
       "      <td>Brussel</td>\n",
       "      <td>4</td>\n",
       "      <td>Brussel</td>\n",
       "      <td>133859</td>\n",
       "      <td>32.0</td>\n",
       "      <td>0.00003</td>\n",
       "      <td>0.000956</td>\n",
       "    </tr>\n",
       "    <tr>\n",
       "      <th>...</th>\n",
       "      <td>...</td>\n",
       "      <td>...</td>\n",
       "      <td>...</td>\n",
       "      <td>...</td>\n",
       "      <td>...</td>\n",
       "      <td>...</td>\n",
       "      <td>...</td>\n",
       "      <td>...</td>\n",
       "    </tr>\n",
       "    <tr>\n",
       "      <th>2636</th>\n",
       "      <td>2019-12-30</td>\n",
       "      <td>Bergen</td>\n",
       "      <td>1</td>\n",
       "      <td>Bergen</td>\n",
       "      <td>90935</td>\n",
       "      <td>146.0</td>\n",
       "      <td>0.000011</td>\n",
       "      <td>0.001606</td>\n",
       "    </tr>\n",
       "    <tr>\n",
       "      <th>2637</th>\n",
       "      <td>2019-12-30</td>\n",
       "      <td>Awans</td>\n",
       "      <td>1</td>\n",
       "      <td>Awans</td>\n",
       "      <td>8270</td>\n",
       "      <td>27.0</td>\n",
       "      <td>0.000121</td>\n",
       "      <td>0.003265</td>\n",
       "    </tr>\n",
       "    <tr>\n",
       "      <th>2638</th>\n",
       "      <td>2019-12-31</td>\n",
       "      <td>Eigenbrakel</td>\n",
       "      <td>1</td>\n",
       "      <td>Eigenbrakel</td>\n",
       "      <td>35259</td>\n",
       "      <td>52.0</td>\n",
       "      <td>0.000028</td>\n",
       "      <td>0.001475</td>\n",
       "    </tr>\n",
       "    <tr>\n",
       "      <th>2639</th>\n",
       "      <td>2019-12-31</td>\n",
       "      <td>Awans</td>\n",
       "      <td>1</td>\n",
       "      <td>Awans</td>\n",
       "      <td>8270</td>\n",
       "      <td>27.0</td>\n",
       "      <td>0.000121</td>\n",
       "      <td>0.003265</td>\n",
       "    </tr>\n",
       "    <tr>\n",
       "      <th>2640</th>\n",
       "      <td>2019-12-31</td>\n",
       "      <td>Avelgem</td>\n",
       "      <td>1</td>\n",
       "      <td>Avelgem</td>\n",
       "      <td>9148</td>\n",
       "      <td>21.0</td>\n",
       "      <td>0.000109</td>\n",
       "      <td>0.002296</td>\n",
       "    </tr>\n",
       "  </tbody>\n",
       "</table>\n",
       "<p>2626 rows × 8 columns</p>\n",
       "</div>"
      ],
      "text/plain": [
       "         DT_DAY TX_MUNTY_DESCR_NL  nr_of_accidents      Village  Population  \\\n",
       "0    2019-11-13           Brussel                5      Brussel      133859   \n",
       "1    2019-05-14         Antwerpen                4    Antwerpen      446525   \n",
       "2    2019-05-27         Antwerpen                4    Antwerpen      446525   \n",
       "3    2019-08-23           Beveren                4      Beveren       44977   \n",
       "4    2019-09-11           Brussel                4      Brussel      133859   \n",
       "...         ...               ...              ...          ...         ...   \n",
       "2636 2019-12-30            Bergen                1       Bergen       90935   \n",
       "2637 2019-12-30             Awans                1        Awans        8270   \n",
       "2638 2019-12-31       Eigenbrakel                1  Eigenbrakel       35259   \n",
       "2639 2019-12-31             Awans                1        Awans        8270   \n",
       "2640 2019-12-31           Avelgem                1      Avelgem        9148   \n",
       "\n",
       "      km2_size  accident_village_ratio  accident_village_size_ratio  \n",
       "0         32.0                0.000037                     0.001195  \n",
       "1        204.0                0.000009                     0.001827  \n",
       "2        204.0                0.000009                     0.001827  \n",
       "3        150.0                0.000089                      0.01334  \n",
       "4         32.0                 0.00003                     0.000956  \n",
       "...        ...                     ...                          ...  \n",
       "2636     146.0                0.000011                     0.001606  \n",
       "2637      27.0                0.000121                     0.003265  \n",
       "2638      52.0                0.000028                     0.001475  \n",
       "2639      27.0                0.000121                     0.003265  \n",
       "2640      21.0                0.000109                     0.002296  \n",
       "\n",
       "[2626 rows x 8 columns]"
      ]
     },
     "execution_count": 23,
     "metadata": {},
     "output_type": "execute_result"
    }
   ],
   "source": [
    "merged_accidents_df"
   ]
  },
  {
   "cell_type": "code",
   "execution_count": 24,
   "id": "731a4c9e",
   "metadata": {},
   "outputs": [
    {
     "data": {
      "text/plain": [
       "3.8954462233648865e-05"
      ]
     },
     "execution_count": 24,
     "metadata": {},
     "output_type": "execute_result"
    }
   ],
   "source": [
    "accident_village_ratio_median_cutoff = merged_accidents_df['accident_village_ratio'].median()\n",
    "accident_village_ratio_median_cutoff"
   ]
  },
  {
   "cell_type": "code",
   "execution_count": 25,
   "id": "d2c47513",
   "metadata": {},
   "outputs": [
    {
     "data": {
      "text/plain": [
       "0.0014987216785682799"
      ]
     },
     "execution_count": 25,
     "metadata": {},
     "output_type": "execute_result"
    }
   ],
   "source": [
    "accident_village_size_ratio_median_cutoff = merged_accidents_df['accident_village_size_ratio'].median()\n",
    "accident_village_size_ratio_median_cutoff"
   ]
  },
  {
   "cell_type": "code",
   "execution_count": 27,
   "id": "7028c945",
   "metadata": {},
   "outputs": [
    {
     "data": {
      "text/html": [
       "<div>\n",
       "<style scoped>\n",
       "    .dataframe tbody tr th:only-of-type {\n",
       "        vertical-align: middle;\n",
       "    }\n",
       "\n",
       "    .dataframe tbody tr th {\n",
       "        vertical-align: top;\n",
       "    }\n",
       "\n",
       "    .dataframe thead th {\n",
       "        text-align: right;\n",
       "    }\n",
       "</style>\n",
       "<table border=\"1\" class=\"dataframe\">\n",
       "  <thead>\n",
       "    <tr style=\"text-align: right;\">\n",
       "      <th></th>\n",
       "      <th>Village</th>\n",
       "      <th>ratio</th>\n",
       "    </tr>\n",
       "  </thead>\n",
       "  <tbody>\n",
       "    <tr>\n",
       "      <th>416</th>\n",
       "      <td>Stoumont</td>\n",
       "      <td>0.26314</td>\n",
       "    </tr>\n",
       "    <tr>\n",
       "      <th>148</th>\n",
       "      <td>Froidchapelle</td>\n",
       "      <td>0.259427</td>\n",
       "    </tr>\n",
       "    <tr>\n",
       "      <th>448</th>\n",
       "      <td>Vresse-sur-Semois</td>\n",
       "      <td>0.251601</td>\n",
       "    </tr>\n",
       "    <tr>\n",
       "      <th>88</th>\n",
       "      <td>Chimay</td>\n",
       "      <td>0.222051</td>\n",
       "    </tr>\n",
       "    <tr>\n",
       "      <th>65</th>\n",
       "      <td>Bouillon</td>\n",
       "      <td>0.219239</td>\n",
       "    </tr>\n",
       "    <tr>\n",
       "      <th>251</th>\n",
       "      <td>La Roche-en-Ardenne</td>\n",
       "      <td>0.214755</td>\n",
       "    </tr>\n",
       "    <tr>\n",
       "      <th>322</th>\n",
       "      <td>Nassogne</td>\n",
       "      <td>0.163235</td>\n",
       "    </tr>\n",
       "    <tr>\n",
       "      <th>118</th>\n",
       "      <td>Durbuy</td>\n",
       "      <td>0.157322</td>\n",
       "    </tr>\n",
       "    <tr>\n",
       "      <th>82</th>\n",
       "      <td>Cerfontaine</td>\n",
       "      <td>0.134056</td>\n",
       "    </tr>\n",
       "    <tr>\n",
       "      <th>211</th>\n",
       "      <td>Houyet</td>\n",
       "      <td>0.110083</td>\n",
       "    </tr>\n",
       "  </tbody>\n",
       "</table>\n",
       "</div>"
      ],
      "text/plain": [
       "                 Village     ratio\n",
       "416             Stoumont   0.26314\n",
       "148        Froidchapelle  0.259427\n",
       "448    Vresse-sur-Semois  0.251601\n",
       "88                Chimay  0.222051\n",
       "65              Bouillon  0.219239\n",
       "251  La Roche-en-Ardenne  0.214755\n",
       "322             Nassogne  0.163235\n",
       "118               Durbuy  0.157322\n",
       "82           Cerfontaine  0.134056\n",
       "211               Houyet  0.110083"
      ]
     },
     "execution_count": 27,
     "metadata": {},
     "output_type": "execute_result"
    }
   ],
   "source": [
    "result = merged_accidents_df.groupby(['Village'])['accident_village_size_ratio'].sum().to_frame(name='ratio').reset_index()\n",
    "result = result.sort_values(by=['ratio', 'Village'], ascending=[False, True])\n",
    "result.head(10)"
   ]
  },
  {
   "cell_type": "code",
   "execution_count": 28,
   "id": "b75ffadb",
   "metadata": {},
   "outputs": [],
   "source": [
    "s = result['ratio']\n",
    "q1 = s.quantile(0.25)\n",
    "q3 = s.quantile(0.75)\n",
    "iqr = q3 - q1\n",
    "iqr_lower = q1 - 1.5 * iqr\n",
    "iqr_upper = q3 + 1.5 * iqr\n",
    "outliers = dict(s[(s < iqr_lower) | (s > iqr_upper)])"
   ]
  },
  {
   "cell_type": "code",
   "execution_count": 29,
   "id": "f480294f",
   "metadata": {},
   "outputs": [
    {
     "data": {
      "text/html": [
       "<div>\n",
       "<style scoped>\n",
       "    .dataframe tbody tr th:only-of-type {\n",
       "        vertical-align: middle;\n",
       "    }\n",
       "\n",
       "    .dataframe tbody tr th {\n",
       "        vertical-align: top;\n",
       "    }\n",
       "\n",
       "    .dataframe thead th {\n",
       "        text-align: right;\n",
       "    }\n",
       "</style>\n",
       "<table border=\"1\" class=\"dataframe\">\n",
       "  <thead>\n",
       "    <tr style=\"text-align: right;\">\n",
       "      <th></th>\n",
       "      <th>Village</th>\n",
       "      <th>ratio</th>\n",
       "    </tr>\n",
       "  </thead>\n",
       "  <tbody>\n",
       "    <tr>\n",
       "      <th>119</th>\n",
       "      <td>Ecaussinnes</td>\n",
       "      <td>0.003534</td>\n",
       "    </tr>\n",
       "    <tr>\n",
       "      <th>485</th>\n",
       "      <td>Zuienkerke</td>\n",
       "      <td>0.017204</td>\n",
       "    </tr>\n",
       "    <tr>\n",
       "      <th>63</th>\n",
       "      <td>Bornem</td>\n",
       "      <td>0.002257</td>\n",
       "    </tr>\n",
       "    <tr>\n",
       "      <th>61</th>\n",
       "      <td>Borgloon</td>\n",
       "      <td>0.025208</td>\n",
       "    </tr>\n",
       "    <tr>\n",
       "      <th>313</th>\n",
       "      <td>Momignies</td>\n",
       "      <td>0.033151</td>\n",
       "    </tr>\n",
       "    <tr>\n",
       "      <th>470</th>\n",
       "      <td>Wommelgem</td>\n",
       "      <td>0.009947</td>\n",
       "    </tr>\n",
       "    <tr>\n",
       "      <th>261</th>\n",
       "      <td>Lendelede</td>\n",
       "      <td>0.007088</td>\n",
       "    </tr>\n",
       "    <tr>\n",
       "      <th>171</th>\n",
       "      <td>Halle</td>\n",
       "      <td>0.020918</td>\n",
       "    </tr>\n",
       "    <tr>\n",
       "      <th>469</th>\n",
       "      <td>Wingene</td>\n",
       "      <td>0.027163</td>\n",
       "    </tr>\n",
       "    <tr>\n",
       "      <th>235</th>\n",
       "      <td>Knokke-Heist</td>\n",
       "      <td>0.011826</td>\n",
       "    </tr>\n",
       "    <tr>\n",
       "      <th>353</th>\n",
       "      <td>Pepingen</td>\n",
       "      <td>0.016953</td>\n",
       "    </tr>\n",
       "    <tr>\n",
       "      <th>151</th>\n",
       "      <td>Gedinne</td>\n",
       "      <td>0.104282</td>\n",
       "    </tr>\n",
       "    <tr>\n",
       "      <th>393</th>\n",
       "      <td>Seraing</td>\n",
       "      <td>0.00578</td>\n",
       "    </tr>\n",
       "    <tr>\n",
       "      <th>490</th>\n",
       "      <td>Zwijndrecht</td>\n",
       "      <td>0.002865</td>\n",
       "    </tr>\n",
       "    <tr>\n",
       "      <th>125</th>\n",
       "      <td>Elsene</td>\n",
       "      <td>0.003034</td>\n",
       "    </tr>\n",
       "    <tr>\n",
       "      <th>137</th>\n",
       "      <td>Fernelmont</td>\n",
       "      <td>0.041283</td>\n",
       "    </tr>\n",
       "    <tr>\n",
       "      <th>352</th>\n",
       "      <td>Pelt</td>\n",
       "      <td>0.017842</td>\n",
       "    </tr>\n",
       "    <tr>\n",
       "      <th>426</th>\n",
       "      <td>Tielt-Winge</td>\n",
       "      <td>0.017934</td>\n",
       "    </tr>\n",
       "    <tr>\n",
       "      <th>140</th>\n",
       "      <td>Florennes</td>\n",
       "      <td>0.074803</td>\n",
       "    </tr>\n",
       "    <tr>\n",
       "      <th>290</th>\n",
       "      <td>Machelen</td>\n",
       "      <td>0.01208</td>\n",
       "    </tr>\n",
       "    <tr>\n",
       "      <th>297</th>\n",
       "      <td>Mechelen</td>\n",
       "      <td>0.017233</td>\n",
       "    </tr>\n",
       "    <tr>\n",
       "      <th>436</th>\n",
       "      <td>Ukkel</td>\n",
       "      <td>0.007707</td>\n",
       "    </tr>\n",
       "    <tr>\n",
       "      <th>457</th>\n",
       "      <td>Welkenraedt</td>\n",
       "      <td>0.008181</td>\n",
       "    </tr>\n",
       "    <tr>\n",
       "      <th>70</th>\n",
       "      <td>Brecht</td>\n",
       "      <td>0.021522</td>\n",
       "    </tr>\n",
       "    <tr>\n",
       "      <th>383</th>\n",
       "      <td>Saint-Ghislain</td>\n",
       "      <td>0.012672</td>\n",
       "    </tr>\n",
       "    <tr>\n",
       "      <th>272</th>\n",
       "      <td>Lier</td>\n",
       "      <td>0.007611</td>\n",
       "    </tr>\n",
       "    <tr>\n",
       "      <th>221</th>\n",
       "      <td>Jalhay</td>\n",
       "      <td>0.042817</td>\n",
       "    </tr>\n",
       "    <tr>\n",
       "      <th>475</th>\n",
       "      <td>Zaventem</td>\n",
       "      <td>0.018066</td>\n",
       "    </tr>\n",
       "    <tr>\n",
       "      <th>364</th>\n",
       "      <td>Quaregnon</td>\n",
       "      <td>0.002868</td>\n",
       "    </tr>\n",
       "    <tr>\n",
       "      <th>96</th>\n",
       "      <td>Court-Saint-Etienne</td>\n",
       "      <td>0.002973</td>\n",
       "    </tr>\n",
       "    <tr>\n",
       "      <th>159</th>\n",
       "      <td>Gent</td>\n",
       "      <td>0.054278</td>\n",
       "    </tr>\n",
       "    <tr>\n",
       "      <th>463</th>\n",
       "      <td>Wevelgem</td>\n",
       "      <td>0.002422</td>\n",
       "    </tr>\n",
       "    <tr>\n",
       "      <th>362</th>\n",
       "      <td>Puurs-Sint-Amands</td>\n",
       "      <td>0.00206</td>\n",
       "    </tr>\n",
       "    <tr>\n",
       "      <th>273</th>\n",
       "      <td>Lierneux</td>\n",
       "      <td>0.027736</td>\n",
       "    </tr>\n",
       "    <tr>\n",
       "      <th>34</th>\n",
       "      <td>Beaumont</td>\n",
       "      <td>0.055953</td>\n",
       "    </tr>\n",
       "    <tr>\n",
       "      <th>184</th>\n",
       "      <td>Heers</td>\n",
       "      <td>0.016122</td>\n",
       "    </tr>\n",
       "    <tr>\n",
       "      <th>395</th>\n",
       "      <td>Sint-Genesius-Rode</td>\n",
       "      <td>0.003667</td>\n",
       "    </tr>\n",
       "    <tr>\n",
       "      <th>372</th>\n",
       "      <td>Rixensart</td>\n",
       "      <td>0.003197</td>\n",
       "    </tr>\n",
       "    <tr>\n",
       "      <th>29</th>\n",
       "      <td>Aywaille</td>\n",
       "      <td>0.023547</td>\n",
       "    </tr>\n",
       "    <tr>\n",
       "      <th>9</th>\n",
       "      <td>Amay</td>\n",
       "      <td>0.008316</td>\n",
       "    </tr>\n",
       "    <tr>\n",
       "      <th>54</th>\n",
       "      <td>Bitsingen</td>\n",
       "      <td>0.013943</td>\n",
       "    </tr>\n",
       "    <tr>\n",
       "      <th>378</th>\n",
       "      <td>Rouvroy</td>\n",
       "      <td>0.028769</td>\n",
       "    </tr>\n",
       "    <tr>\n",
       "      <th>98</th>\n",
       "      <td>Dalhem</td>\n",
       "      <td>0.011717</td>\n",
       "    </tr>\n",
       "    <tr>\n",
       "      <th>487</th>\n",
       "      <td>Zutendaal</td>\n",
       "      <td>0.004737</td>\n",
       "    </tr>\n",
       "    <tr>\n",
       "      <th>443</th>\n",
       "      <td>Viroinval</td>\n",
       "      <td>0.064023</td>\n",
       "    </tr>\n",
       "    <tr>\n",
       "      <th>75</th>\n",
       "      <td>Brussel</td>\n",
       "      <td>0.044943</td>\n",
       "    </tr>\n",
       "    <tr>\n",
       "      <th>242</th>\n",
       "      <td>Kortenaken</td>\n",
       "      <td>0.006583</td>\n",
       "    </tr>\n",
       "  </tbody>\n",
       "</table>\n",
       "</div>"
      ],
      "text/plain": [
       "                 Village     ratio\n",
       "119          Ecaussinnes  0.003534\n",
       "485           Zuienkerke  0.017204\n",
       "63                Bornem  0.002257\n",
       "61              Borgloon  0.025208\n",
       "313            Momignies  0.033151\n",
       "470            Wommelgem  0.009947\n",
       "261            Lendelede  0.007088\n",
       "171                Halle  0.020918\n",
       "469              Wingene  0.027163\n",
       "235         Knokke-Heist  0.011826\n",
       "353             Pepingen  0.016953\n",
       "151              Gedinne  0.104282\n",
       "393              Seraing   0.00578\n",
       "490          Zwijndrecht  0.002865\n",
       "125               Elsene  0.003034\n",
       "137           Fernelmont  0.041283\n",
       "352                 Pelt  0.017842\n",
       "426          Tielt-Winge  0.017934\n",
       "140            Florennes  0.074803\n",
       "290             Machelen   0.01208\n",
       "297             Mechelen  0.017233\n",
       "436                Ukkel  0.007707\n",
       "457          Welkenraedt  0.008181\n",
       "70                Brecht  0.021522\n",
       "383       Saint-Ghislain  0.012672\n",
       "272                 Lier  0.007611\n",
       "221               Jalhay  0.042817\n",
       "475             Zaventem  0.018066\n",
       "364            Quaregnon  0.002868\n",
       "96   Court-Saint-Etienne  0.002973\n",
       "159                 Gent  0.054278\n",
       "463             Wevelgem  0.002422\n",
       "362    Puurs-Sint-Amands   0.00206\n",
       "273             Lierneux  0.027736\n",
       "34              Beaumont  0.055953\n",
       "184                Heers  0.016122\n",
       "395   Sint-Genesius-Rode  0.003667\n",
       "372            Rixensart  0.003197\n",
       "29              Aywaille  0.023547\n",
       "9                   Amay  0.008316\n",
       "54             Bitsingen  0.013943\n",
       "378              Rouvroy  0.028769\n",
       "98                Dalhem  0.011717\n",
       "487            Zutendaal  0.004737\n",
       "443            Viroinval  0.064023\n",
       "75               Brussel  0.044943\n",
       "242           Kortenaken  0.006583"
      ]
     },
     "execution_count": 29,
     "metadata": {},
     "output_type": "execute_result"
    }
   ],
   "source": [
    "result.iloc[list(outliers.keys())]"
   ]
  },
  {
   "cell_type": "code",
   "execution_count": 30,
   "id": "069495f7",
   "metadata": {},
   "outputs": [],
   "source": [
    "chart_data = pd.concat([\n",
    "    result.iloc[list(outliers.keys())]['Village'],\n",
    "    result.iloc[list(outliers.keys())]['ratio'],\n",
    "], axis=1)\n",
    "chart_data = chart_data.sort_values(['Village'])\n",
    "chart_data = chart_data.rename(columns={'Village': 'x'})\n",
    "chart_data = chart_data.dropna()\n",
    "\n",
    "import plotly.graph_objs as go\n",
    "\n",
    "charts = []\n",
    "charts.append(go.Bar(\n",
    "    x=chart_data['x'],\n",
    "    y=chart_data['ratio']\n",
    "))\n",
    "figure = go.Figure(data=charts, layout=go.Layout({\n",
    "    'barmode': 'stack',\n",
    "    'legend': {'orientation': 'h'},\n",
    "    'title': {'text': 'Outliers (highest & lowest)'},\n",
    "    'xaxis': {'title': {'text': 'Cities'}},\n",
    "    'yaxis': {'title': {'text': 'ratio of motorcyclists'}, 'type': 'linear'}\n",
    "}))"
   ]
  },
  {
   "cell_type": "code",
   "execution_count": 33,
   "id": "38d2cebb",
   "metadata": {},
   "outputs": [
    {
     "data": {
      "text/html": [
       "        <script type=\"text/javascript\">\n",
       "        window.PlotlyConfig = {MathJaxConfig: 'local'};\n",
       "        if (window.MathJax) {MathJax.Hub.Config({SVG: {font: \"STIX-Web\"}});}\n",
       "        if (typeof require !== 'undefined') {\n",
       "        require.undef(\"plotly\");\n",
       "        requirejs.config({\n",
       "            paths: {\n",
       "                'plotly': ['https://cdn.plot.ly/plotly-2.9.0.min']\n",
       "            }\n",
       "        });\n",
       "        require(['plotly'], function(Plotly) {\n",
       "            window._Plotly = Plotly;\n",
       "        });\n",
       "        }\n",
       "        </script>\n",
       "        "
      ]
     },
     "metadata": {},
     "output_type": "display_data"
    },
    {
     "data": {
      "application/vnd.plotly.v1+json": {
       "config": {
        "linkText": "Export to plot.ly",
        "plotlyServerURL": "https://plot.ly",
        "showLink": false
       },
       "data": [
        {
         "type": "bar",
         "x": [
          "Amay",
          "Aywaille",
          "Beaumont",
          "Bitsingen",
          "Borgloon",
          "Bornem",
          "Brecht",
          "Brussel",
          "Court-Saint-Etienne",
          "Dalhem",
          "Ecaussinnes",
          "Elsene",
          "Fernelmont",
          "Florennes",
          "Gedinne",
          "Gent",
          "Halle",
          "Heers",
          "Jalhay",
          "Knokke-Heist",
          "Kortenaken",
          "Lendelede",
          "Lier",
          "Lierneux",
          "Machelen",
          "Mechelen",
          "Momignies",
          "Pelt",
          "Pepingen",
          "Puurs-Sint-Amands",
          "Quaregnon",
          "Rixensart",
          "Rouvroy",
          "Saint-Ghislain",
          "Seraing",
          "Sint-Genesius-Rode",
          "Tielt-Winge",
          "Ukkel",
          "Viroinval",
          "Welkenraedt",
          "Wevelgem",
          "Wingene",
          "Wommelgem",
          "Zaventem",
          "Zuienkerke",
          "Zutendaal",
          "Zwijndrecht"
         ],
         "y": [
          0.008316008316008316,
          0.023546944858420266,
          0.05595256195833967,
          0.013943248532289627,
          0.025207591933570583,
          0.0022568834946587093,
          0.021521661153401615,
          0.04494281295990557,
          0.0029727875600274413,
          0.011716842961757526,
          0.0035343035343035345,
          0.00303386448738623,
          0.041282946967291206,
          0.07480314960629922,
          0.1042817679558011,
          0.054277812472120615,
          0.020918139949487446,
          0.01612167300380228,
          0.042817126850740295,
          0.011825751176541572,
          0.006583366921940078,
          0.007088331515812432,
          0.007610822900810786,
          0.027735905939101597,
          0.012079743199864844,
          0.01723269439804873,
          0.03315132605304212,
          0.017842427716670845,
          0.016953143395337884,
          0.0020604395604395605,
          0.0028678694337261443,
          0.003196840769122279,
          0.02876931273308471,
          0.012671976828385226,
          0.005779678649867067,
          0.0036670741193465944,
          0.01793356429590381,
          0.00770671373330998,
          0.06402276364929753,
          0.008180888535393704,
          0.0024223879645566392,
          0.02716305824079252,
          0.009947287876211528,
          0.018066242890598862,
          0.017204301075268817,
          0.004737231680236861,
          0.0028650075838436042
         ]
        }
       ],
       "layout": {
        "barmode": "stack",
        "legend": {
         "orientation": "h"
        },
        "template": {
         "data": {
          "bar": [
           {
            "error_x": {
             "color": "#2a3f5f"
            },
            "error_y": {
             "color": "#2a3f5f"
            },
            "marker": {
             "line": {
              "color": "#E5ECF6",
              "width": 0.5
             },
             "pattern": {
              "fillmode": "overlay",
              "size": 10,
              "solidity": 0.2
             }
            },
            "type": "bar"
           }
          ],
          "barpolar": [
           {
            "marker": {
             "line": {
              "color": "#E5ECF6",
              "width": 0.5
             },
             "pattern": {
              "fillmode": "overlay",
              "size": 10,
              "solidity": 0.2
             }
            },
            "type": "barpolar"
           }
          ],
          "carpet": [
           {
            "aaxis": {
             "endlinecolor": "#2a3f5f",
             "gridcolor": "white",
             "linecolor": "white",
             "minorgridcolor": "white",
             "startlinecolor": "#2a3f5f"
            },
            "baxis": {
             "endlinecolor": "#2a3f5f",
             "gridcolor": "white",
             "linecolor": "white",
             "minorgridcolor": "white",
             "startlinecolor": "#2a3f5f"
            },
            "type": "carpet"
           }
          ],
          "choropleth": [
           {
            "colorbar": {
             "outlinewidth": 0,
             "ticks": ""
            },
            "type": "choropleth"
           }
          ],
          "contour": [
           {
            "colorbar": {
             "outlinewidth": 0,
             "ticks": ""
            },
            "colorscale": [
             [
              0,
              "#0d0887"
             ],
             [
              0.1111111111111111,
              "#46039f"
             ],
             [
              0.2222222222222222,
              "#7201a8"
             ],
             [
              0.3333333333333333,
              "#9c179e"
             ],
             [
              0.4444444444444444,
              "#bd3786"
             ],
             [
              0.5555555555555556,
              "#d8576b"
             ],
             [
              0.6666666666666666,
              "#ed7953"
             ],
             [
              0.7777777777777778,
              "#fb9f3a"
             ],
             [
              0.8888888888888888,
              "#fdca26"
             ],
             [
              1,
              "#f0f921"
             ]
            ],
            "type": "contour"
           }
          ],
          "contourcarpet": [
           {
            "colorbar": {
             "outlinewidth": 0,
             "ticks": ""
            },
            "type": "contourcarpet"
           }
          ],
          "heatmap": [
           {
            "colorbar": {
             "outlinewidth": 0,
             "ticks": ""
            },
            "colorscale": [
             [
              0,
              "#0d0887"
             ],
             [
              0.1111111111111111,
              "#46039f"
             ],
             [
              0.2222222222222222,
              "#7201a8"
             ],
             [
              0.3333333333333333,
              "#9c179e"
             ],
             [
              0.4444444444444444,
              "#bd3786"
             ],
             [
              0.5555555555555556,
              "#d8576b"
             ],
             [
              0.6666666666666666,
              "#ed7953"
             ],
             [
              0.7777777777777778,
              "#fb9f3a"
             ],
             [
              0.8888888888888888,
              "#fdca26"
             ],
             [
              1,
              "#f0f921"
             ]
            ],
            "type": "heatmap"
           }
          ],
          "heatmapgl": [
           {
            "colorbar": {
             "outlinewidth": 0,
             "ticks": ""
            },
            "colorscale": [
             [
              0,
              "#0d0887"
             ],
             [
              0.1111111111111111,
              "#46039f"
             ],
             [
              0.2222222222222222,
              "#7201a8"
             ],
             [
              0.3333333333333333,
              "#9c179e"
             ],
             [
              0.4444444444444444,
              "#bd3786"
             ],
             [
              0.5555555555555556,
              "#d8576b"
             ],
             [
              0.6666666666666666,
              "#ed7953"
             ],
             [
              0.7777777777777778,
              "#fb9f3a"
             ],
             [
              0.8888888888888888,
              "#fdca26"
             ],
             [
              1,
              "#f0f921"
             ]
            ],
            "type": "heatmapgl"
           }
          ],
          "histogram": [
           {
            "marker": {
             "pattern": {
              "fillmode": "overlay",
              "size": 10,
              "solidity": 0.2
             }
            },
            "type": "histogram"
           }
          ],
          "histogram2d": [
           {
            "colorbar": {
             "outlinewidth": 0,
             "ticks": ""
            },
            "colorscale": [
             [
              0,
              "#0d0887"
             ],
             [
              0.1111111111111111,
              "#46039f"
             ],
             [
              0.2222222222222222,
              "#7201a8"
             ],
             [
              0.3333333333333333,
              "#9c179e"
             ],
             [
              0.4444444444444444,
              "#bd3786"
             ],
             [
              0.5555555555555556,
              "#d8576b"
             ],
             [
              0.6666666666666666,
              "#ed7953"
             ],
             [
              0.7777777777777778,
              "#fb9f3a"
             ],
             [
              0.8888888888888888,
              "#fdca26"
             ],
             [
              1,
              "#f0f921"
             ]
            ],
            "type": "histogram2d"
           }
          ],
          "histogram2dcontour": [
           {
            "colorbar": {
             "outlinewidth": 0,
             "ticks": ""
            },
            "colorscale": [
             [
              0,
              "#0d0887"
             ],
             [
              0.1111111111111111,
              "#46039f"
             ],
             [
              0.2222222222222222,
              "#7201a8"
             ],
             [
              0.3333333333333333,
              "#9c179e"
             ],
             [
              0.4444444444444444,
              "#bd3786"
             ],
             [
              0.5555555555555556,
              "#d8576b"
             ],
             [
              0.6666666666666666,
              "#ed7953"
             ],
             [
              0.7777777777777778,
              "#fb9f3a"
             ],
             [
              0.8888888888888888,
              "#fdca26"
             ],
             [
              1,
              "#f0f921"
             ]
            ],
            "type": "histogram2dcontour"
           }
          ],
          "mesh3d": [
           {
            "colorbar": {
             "outlinewidth": 0,
             "ticks": ""
            },
            "type": "mesh3d"
           }
          ],
          "parcoords": [
           {
            "line": {
             "colorbar": {
              "outlinewidth": 0,
              "ticks": ""
             }
            },
            "type": "parcoords"
           }
          ],
          "pie": [
           {
            "automargin": true,
            "type": "pie"
           }
          ],
          "scatter": [
           {
            "marker": {
             "colorbar": {
              "outlinewidth": 0,
              "ticks": ""
             }
            },
            "type": "scatter"
           }
          ],
          "scatter3d": [
           {
            "line": {
             "colorbar": {
              "outlinewidth": 0,
              "ticks": ""
             }
            },
            "marker": {
             "colorbar": {
              "outlinewidth": 0,
              "ticks": ""
             }
            },
            "type": "scatter3d"
           }
          ],
          "scattercarpet": [
           {
            "marker": {
             "colorbar": {
              "outlinewidth": 0,
              "ticks": ""
             }
            },
            "type": "scattercarpet"
           }
          ],
          "scattergeo": [
           {
            "marker": {
             "colorbar": {
              "outlinewidth": 0,
              "ticks": ""
             }
            },
            "type": "scattergeo"
           }
          ],
          "scattergl": [
           {
            "marker": {
             "colorbar": {
              "outlinewidth": 0,
              "ticks": ""
             }
            },
            "type": "scattergl"
           }
          ],
          "scattermapbox": [
           {
            "marker": {
             "colorbar": {
              "outlinewidth": 0,
              "ticks": ""
             }
            },
            "type": "scattermapbox"
           }
          ],
          "scatterpolar": [
           {
            "marker": {
             "colorbar": {
              "outlinewidth": 0,
              "ticks": ""
             }
            },
            "type": "scatterpolar"
           }
          ],
          "scatterpolargl": [
           {
            "marker": {
             "colorbar": {
              "outlinewidth": 0,
              "ticks": ""
             }
            },
            "type": "scatterpolargl"
           }
          ],
          "scatterternary": [
           {
            "marker": {
             "colorbar": {
              "outlinewidth": 0,
              "ticks": ""
             }
            },
            "type": "scatterternary"
           }
          ],
          "surface": [
           {
            "colorbar": {
             "outlinewidth": 0,
             "ticks": ""
            },
            "colorscale": [
             [
              0,
              "#0d0887"
             ],
             [
              0.1111111111111111,
              "#46039f"
             ],
             [
              0.2222222222222222,
              "#7201a8"
             ],
             [
              0.3333333333333333,
              "#9c179e"
             ],
             [
              0.4444444444444444,
              "#bd3786"
             ],
             [
              0.5555555555555556,
              "#d8576b"
             ],
             [
              0.6666666666666666,
              "#ed7953"
             ],
             [
              0.7777777777777778,
              "#fb9f3a"
             ],
             [
              0.8888888888888888,
              "#fdca26"
             ],
             [
              1,
              "#f0f921"
             ]
            ],
            "type": "surface"
           }
          ],
          "table": [
           {
            "cells": {
             "fill": {
              "color": "#EBF0F8"
             },
             "line": {
              "color": "white"
             }
            },
            "header": {
             "fill": {
              "color": "#C8D4E3"
             },
             "line": {
              "color": "white"
             }
            },
            "type": "table"
           }
          ]
         },
         "layout": {
          "annotationdefaults": {
           "arrowcolor": "#2a3f5f",
           "arrowhead": 0,
           "arrowwidth": 1
          },
          "autotypenumbers": "strict",
          "coloraxis": {
           "colorbar": {
            "outlinewidth": 0,
            "ticks": ""
           }
          },
          "colorscale": {
           "diverging": [
            [
             0,
             "#8e0152"
            ],
            [
             0.1,
             "#c51b7d"
            ],
            [
             0.2,
             "#de77ae"
            ],
            [
             0.3,
             "#f1b6da"
            ],
            [
             0.4,
             "#fde0ef"
            ],
            [
             0.5,
             "#f7f7f7"
            ],
            [
             0.6,
             "#e6f5d0"
            ],
            [
             0.7,
             "#b8e186"
            ],
            [
             0.8,
             "#7fbc41"
            ],
            [
             0.9,
             "#4d9221"
            ],
            [
             1,
             "#276419"
            ]
           ],
           "sequential": [
            [
             0,
             "#0d0887"
            ],
            [
             0.1111111111111111,
             "#46039f"
            ],
            [
             0.2222222222222222,
             "#7201a8"
            ],
            [
             0.3333333333333333,
             "#9c179e"
            ],
            [
             0.4444444444444444,
             "#bd3786"
            ],
            [
             0.5555555555555556,
             "#d8576b"
            ],
            [
             0.6666666666666666,
             "#ed7953"
            ],
            [
             0.7777777777777778,
             "#fb9f3a"
            ],
            [
             0.8888888888888888,
             "#fdca26"
            ],
            [
             1,
             "#f0f921"
            ]
           ],
           "sequentialminus": [
            [
             0,
             "#0d0887"
            ],
            [
             0.1111111111111111,
             "#46039f"
            ],
            [
             0.2222222222222222,
             "#7201a8"
            ],
            [
             0.3333333333333333,
             "#9c179e"
            ],
            [
             0.4444444444444444,
             "#bd3786"
            ],
            [
             0.5555555555555556,
             "#d8576b"
            ],
            [
             0.6666666666666666,
             "#ed7953"
            ],
            [
             0.7777777777777778,
             "#fb9f3a"
            ],
            [
             0.8888888888888888,
             "#fdca26"
            ],
            [
             1,
             "#f0f921"
            ]
           ]
          },
          "colorway": [
           "#636efa",
           "#EF553B",
           "#00cc96",
           "#ab63fa",
           "#FFA15A",
           "#19d3f3",
           "#FF6692",
           "#B6E880",
           "#FF97FF",
           "#FECB52"
          ],
          "font": {
           "color": "#2a3f5f"
          },
          "geo": {
           "bgcolor": "white",
           "lakecolor": "white",
           "landcolor": "#E5ECF6",
           "showlakes": true,
           "showland": true,
           "subunitcolor": "white"
          },
          "hoverlabel": {
           "align": "left"
          },
          "hovermode": "closest",
          "mapbox": {
           "style": "light"
          },
          "paper_bgcolor": "white",
          "plot_bgcolor": "#E5ECF6",
          "polar": {
           "angularaxis": {
            "gridcolor": "white",
            "linecolor": "white",
            "ticks": ""
           },
           "bgcolor": "#E5ECF6",
           "radialaxis": {
            "gridcolor": "white",
            "linecolor": "white",
            "ticks": ""
           }
          },
          "scene": {
           "xaxis": {
            "backgroundcolor": "#E5ECF6",
            "gridcolor": "white",
            "gridwidth": 2,
            "linecolor": "white",
            "showbackground": true,
            "ticks": "",
            "zerolinecolor": "white"
           },
           "yaxis": {
            "backgroundcolor": "#E5ECF6",
            "gridcolor": "white",
            "gridwidth": 2,
            "linecolor": "white",
            "showbackground": true,
            "ticks": "",
            "zerolinecolor": "white"
           },
           "zaxis": {
            "backgroundcolor": "#E5ECF6",
            "gridcolor": "white",
            "gridwidth": 2,
            "linecolor": "white",
            "showbackground": true,
            "ticks": "",
            "zerolinecolor": "white"
           }
          },
          "shapedefaults": {
           "line": {
            "color": "#2a3f5f"
           }
          },
          "ternary": {
           "aaxis": {
            "gridcolor": "white",
            "linecolor": "white",
            "ticks": ""
           },
           "baxis": {
            "gridcolor": "white",
            "linecolor": "white",
            "ticks": ""
           },
           "bgcolor": "#E5ECF6",
           "caxis": {
            "gridcolor": "white",
            "linecolor": "white",
            "ticks": ""
           }
          },
          "title": {
           "x": 0.05
          },
          "xaxis": {
           "automargin": true,
           "gridcolor": "white",
           "linecolor": "white",
           "ticks": "",
           "title": {
            "standoff": 15
           },
           "zerolinecolor": "white",
           "zerolinewidth": 2
          },
          "yaxis": {
           "automargin": true,
           "gridcolor": "white",
           "linecolor": "white",
           "ticks": "",
           "title": {
            "standoff": 15
           },
           "zerolinecolor": "white",
           "zerolinewidth": 2
          }
         }
        },
        "title": {
         "text": "Outliers (highest & lowest)"
        },
        "xaxis": {
         "title": {
          "text": "Cities"
         }
        },
        "yaxis": {
         "title": {
          "text": "ratio of motorcyclists"
         },
         "type": "linear"
        }
       }
      },
      "text/html": [
       "<div>                            <div id=\"4ea0d598-764d-41d6-950e-790cdc2dfd8d\" class=\"plotly-graph-div\" style=\"height:525px; width:100%;\"></div>            <script type=\"text/javascript\">                require([\"plotly\"], function(Plotly) {                    window.PLOTLYENV=window.PLOTLYENV || {};                                    if (document.getElementById(\"4ea0d598-764d-41d6-950e-790cdc2dfd8d\")) {                    Plotly.newPlot(                        \"4ea0d598-764d-41d6-950e-790cdc2dfd8d\",                        [{\"x\":[\"Amay\",\"Aywaille\",\"Beaumont\",\"Bitsingen\",\"Borgloon\",\"Bornem\",\"Brecht\",\"Brussel\",\"Court-Saint-Etienne\",\"Dalhem\",\"Ecaussinnes\",\"Elsene\",\"Fernelmont\",\"Florennes\",\"Gedinne\",\"Gent\",\"Halle\",\"Heers\",\"Jalhay\",\"Knokke-Heist\",\"Kortenaken\",\"Lendelede\",\"Lier\",\"Lierneux\",\"Machelen\",\"Mechelen\",\"Momignies\",\"Pelt\",\"Pepingen\",\"Puurs-Sint-Amands\",\"Quaregnon\",\"Rixensart\",\"Rouvroy\",\"Saint-Ghislain\",\"Seraing\",\"Sint-Genesius-Rode\",\"Tielt-Winge\",\"Ukkel\",\"Viroinval\",\"Welkenraedt\",\"Wevelgem\",\"Wingene\",\"Wommelgem\",\"Zaventem\",\"Zuienkerke\",\"Zutendaal\",\"Zwijndrecht\"],\"y\":[0.008316008316008316,0.023546944858420266,0.05595256195833967,0.013943248532289627,0.025207591933570583,0.0022568834946587093,0.021521661153401615,0.04494281295990557,0.0029727875600274413,0.011716842961757526,0.0035343035343035345,0.00303386448738623,0.041282946967291206,0.07480314960629922,0.1042817679558011,0.054277812472120615,0.020918139949487446,0.01612167300380228,0.042817126850740295,0.011825751176541572,0.006583366921940078,0.007088331515812432,0.007610822900810786,0.027735905939101597,0.012079743199864844,0.01723269439804873,0.03315132605304212,0.017842427716670845,0.016953143395337884,0.0020604395604395605,0.0028678694337261443,0.003196840769122279,0.02876931273308471,0.012671976828385226,0.005779678649867067,0.0036670741193465944,0.01793356429590381,0.00770671373330998,0.06402276364929753,0.008180888535393704,0.0024223879645566392,0.02716305824079252,0.009947287876211528,0.018066242890598862,0.017204301075268817,0.004737231680236861,0.0028650075838436042],\"type\":\"bar\"}],                        {\"barmode\":\"stack\",\"legend\":{\"orientation\":\"h\"},\"template\":{\"data\":{\"barpolar\":[{\"marker\":{\"line\":{\"color\":\"#E5ECF6\",\"width\":0.5},\"pattern\":{\"fillmode\":\"overlay\",\"size\":10,\"solidity\":0.2}},\"type\":\"barpolar\"}],\"bar\":[{\"error_x\":{\"color\":\"#2a3f5f\"},\"error_y\":{\"color\":\"#2a3f5f\"},\"marker\":{\"line\":{\"color\":\"#E5ECF6\",\"width\":0.5},\"pattern\":{\"fillmode\":\"overlay\",\"size\":10,\"solidity\":0.2}},\"type\":\"bar\"}],\"carpet\":[{\"aaxis\":{\"endlinecolor\":\"#2a3f5f\",\"gridcolor\":\"white\",\"linecolor\":\"white\",\"minorgridcolor\":\"white\",\"startlinecolor\":\"#2a3f5f\"},\"baxis\":{\"endlinecolor\":\"#2a3f5f\",\"gridcolor\":\"white\",\"linecolor\":\"white\",\"minorgridcolor\":\"white\",\"startlinecolor\":\"#2a3f5f\"},\"type\":\"carpet\"}],\"choropleth\":[{\"colorbar\":{\"outlinewidth\":0,\"ticks\":\"\"},\"type\":\"choropleth\"}],\"contourcarpet\":[{\"colorbar\":{\"outlinewidth\":0,\"ticks\":\"\"},\"type\":\"contourcarpet\"}],\"contour\":[{\"colorbar\":{\"outlinewidth\":0,\"ticks\":\"\"},\"colorscale\":[[0.0,\"#0d0887\"],[0.1111111111111111,\"#46039f\"],[0.2222222222222222,\"#7201a8\"],[0.3333333333333333,\"#9c179e\"],[0.4444444444444444,\"#bd3786\"],[0.5555555555555556,\"#d8576b\"],[0.6666666666666666,\"#ed7953\"],[0.7777777777777778,\"#fb9f3a\"],[0.8888888888888888,\"#fdca26\"],[1.0,\"#f0f921\"]],\"type\":\"contour\"}],\"heatmapgl\":[{\"colorbar\":{\"outlinewidth\":0,\"ticks\":\"\"},\"colorscale\":[[0.0,\"#0d0887\"],[0.1111111111111111,\"#46039f\"],[0.2222222222222222,\"#7201a8\"],[0.3333333333333333,\"#9c179e\"],[0.4444444444444444,\"#bd3786\"],[0.5555555555555556,\"#d8576b\"],[0.6666666666666666,\"#ed7953\"],[0.7777777777777778,\"#fb9f3a\"],[0.8888888888888888,\"#fdca26\"],[1.0,\"#f0f921\"]],\"type\":\"heatmapgl\"}],\"heatmap\":[{\"colorbar\":{\"outlinewidth\":0,\"ticks\":\"\"},\"colorscale\":[[0.0,\"#0d0887\"],[0.1111111111111111,\"#46039f\"],[0.2222222222222222,\"#7201a8\"],[0.3333333333333333,\"#9c179e\"],[0.4444444444444444,\"#bd3786\"],[0.5555555555555556,\"#d8576b\"],[0.6666666666666666,\"#ed7953\"],[0.7777777777777778,\"#fb9f3a\"],[0.8888888888888888,\"#fdca26\"],[1.0,\"#f0f921\"]],\"type\":\"heatmap\"}],\"histogram2dcontour\":[{\"colorbar\":{\"outlinewidth\":0,\"ticks\":\"\"},\"colorscale\":[[0.0,\"#0d0887\"],[0.1111111111111111,\"#46039f\"],[0.2222222222222222,\"#7201a8\"],[0.3333333333333333,\"#9c179e\"],[0.4444444444444444,\"#bd3786\"],[0.5555555555555556,\"#d8576b\"],[0.6666666666666666,\"#ed7953\"],[0.7777777777777778,\"#fb9f3a\"],[0.8888888888888888,\"#fdca26\"],[1.0,\"#f0f921\"]],\"type\":\"histogram2dcontour\"}],\"histogram2d\":[{\"colorbar\":{\"outlinewidth\":0,\"ticks\":\"\"},\"colorscale\":[[0.0,\"#0d0887\"],[0.1111111111111111,\"#46039f\"],[0.2222222222222222,\"#7201a8\"],[0.3333333333333333,\"#9c179e\"],[0.4444444444444444,\"#bd3786\"],[0.5555555555555556,\"#d8576b\"],[0.6666666666666666,\"#ed7953\"],[0.7777777777777778,\"#fb9f3a\"],[0.8888888888888888,\"#fdca26\"],[1.0,\"#f0f921\"]],\"type\":\"histogram2d\"}],\"histogram\":[{\"marker\":{\"pattern\":{\"fillmode\":\"overlay\",\"size\":10,\"solidity\":0.2}},\"type\":\"histogram\"}],\"mesh3d\":[{\"colorbar\":{\"outlinewidth\":0,\"ticks\":\"\"},\"type\":\"mesh3d\"}],\"parcoords\":[{\"line\":{\"colorbar\":{\"outlinewidth\":0,\"ticks\":\"\"}},\"type\":\"parcoords\"}],\"pie\":[{\"automargin\":true,\"type\":\"pie\"}],\"scatter3d\":[{\"line\":{\"colorbar\":{\"outlinewidth\":0,\"ticks\":\"\"}},\"marker\":{\"colorbar\":{\"outlinewidth\":0,\"ticks\":\"\"}},\"type\":\"scatter3d\"}],\"scattercarpet\":[{\"marker\":{\"colorbar\":{\"outlinewidth\":0,\"ticks\":\"\"}},\"type\":\"scattercarpet\"}],\"scattergeo\":[{\"marker\":{\"colorbar\":{\"outlinewidth\":0,\"ticks\":\"\"}},\"type\":\"scattergeo\"}],\"scattergl\":[{\"marker\":{\"colorbar\":{\"outlinewidth\":0,\"ticks\":\"\"}},\"type\":\"scattergl\"}],\"scattermapbox\":[{\"marker\":{\"colorbar\":{\"outlinewidth\":0,\"ticks\":\"\"}},\"type\":\"scattermapbox\"}],\"scatterpolargl\":[{\"marker\":{\"colorbar\":{\"outlinewidth\":0,\"ticks\":\"\"}},\"type\":\"scatterpolargl\"}],\"scatterpolar\":[{\"marker\":{\"colorbar\":{\"outlinewidth\":0,\"ticks\":\"\"}},\"type\":\"scatterpolar\"}],\"scatter\":[{\"marker\":{\"colorbar\":{\"outlinewidth\":0,\"ticks\":\"\"}},\"type\":\"scatter\"}],\"scatterternary\":[{\"marker\":{\"colorbar\":{\"outlinewidth\":0,\"ticks\":\"\"}},\"type\":\"scatterternary\"}],\"surface\":[{\"colorbar\":{\"outlinewidth\":0,\"ticks\":\"\"},\"colorscale\":[[0.0,\"#0d0887\"],[0.1111111111111111,\"#46039f\"],[0.2222222222222222,\"#7201a8\"],[0.3333333333333333,\"#9c179e\"],[0.4444444444444444,\"#bd3786\"],[0.5555555555555556,\"#d8576b\"],[0.6666666666666666,\"#ed7953\"],[0.7777777777777778,\"#fb9f3a\"],[0.8888888888888888,\"#fdca26\"],[1.0,\"#f0f921\"]],\"type\":\"surface\"}],\"table\":[{\"cells\":{\"fill\":{\"color\":\"#EBF0F8\"},\"line\":{\"color\":\"white\"}},\"header\":{\"fill\":{\"color\":\"#C8D4E3\"},\"line\":{\"color\":\"white\"}},\"type\":\"table\"}]},\"layout\":{\"annotationdefaults\":{\"arrowcolor\":\"#2a3f5f\",\"arrowhead\":0,\"arrowwidth\":1},\"autotypenumbers\":\"strict\",\"coloraxis\":{\"colorbar\":{\"outlinewidth\":0,\"ticks\":\"\"}},\"colorscale\":{\"diverging\":[[0,\"#8e0152\"],[0.1,\"#c51b7d\"],[0.2,\"#de77ae\"],[0.3,\"#f1b6da\"],[0.4,\"#fde0ef\"],[0.5,\"#f7f7f7\"],[0.6,\"#e6f5d0\"],[0.7,\"#b8e186\"],[0.8,\"#7fbc41\"],[0.9,\"#4d9221\"],[1,\"#276419\"]],\"sequential\":[[0.0,\"#0d0887\"],[0.1111111111111111,\"#46039f\"],[0.2222222222222222,\"#7201a8\"],[0.3333333333333333,\"#9c179e\"],[0.4444444444444444,\"#bd3786\"],[0.5555555555555556,\"#d8576b\"],[0.6666666666666666,\"#ed7953\"],[0.7777777777777778,\"#fb9f3a\"],[0.8888888888888888,\"#fdca26\"],[1.0,\"#f0f921\"]],\"sequentialminus\":[[0.0,\"#0d0887\"],[0.1111111111111111,\"#46039f\"],[0.2222222222222222,\"#7201a8\"],[0.3333333333333333,\"#9c179e\"],[0.4444444444444444,\"#bd3786\"],[0.5555555555555556,\"#d8576b\"],[0.6666666666666666,\"#ed7953\"],[0.7777777777777778,\"#fb9f3a\"],[0.8888888888888888,\"#fdca26\"],[1.0,\"#f0f921\"]]},\"colorway\":[\"#636efa\",\"#EF553B\",\"#00cc96\",\"#ab63fa\",\"#FFA15A\",\"#19d3f3\",\"#FF6692\",\"#B6E880\",\"#FF97FF\",\"#FECB52\"],\"font\":{\"color\":\"#2a3f5f\"},\"geo\":{\"bgcolor\":\"white\",\"lakecolor\":\"white\",\"landcolor\":\"#E5ECF6\",\"showlakes\":true,\"showland\":true,\"subunitcolor\":\"white\"},\"hoverlabel\":{\"align\":\"left\"},\"hovermode\":\"closest\",\"mapbox\":{\"style\":\"light\"},\"paper_bgcolor\":\"white\",\"plot_bgcolor\":\"#E5ECF6\",\"polar\":{\"angularaxis\":{\"gridcolor\":\"white\",\"linecolor\":\"white\",\"ticks\":\"\"},\"bgcolor\":\"#E5ECF6\",\"radialaxis\":{\"gridcolor\":\"white\",\"linecolor\":\"white\",\"ticks\":\"\"}},\"scene\":{\"xaxis\":{\"backgroundcolor\":\"#E5ECF6\",\"gridcolor\":\"white\",\"gridwidth\":2,\"linecolor\":\"white\",\"showbackground\":true,\"ticks\":\"\",\"zerolinecolor\":\"white\"},\"yaxis\":{\"backgroundcolor\":\"#E5ECF6\",\"gridcolor\":\"white\",\"gridwidth\":2,\"linecolor\":\"white\",\"showbackground\":true,\"ticks\":\"\",\"zerolinecolor\":\"white\"},\"zaxis\":{\"backgroundcolor\":\"#E5ECF6\",\"gridcolor\":\"white\",\"gridwidth\":2,\"linecolor\":\"white\",\"showbackground\":true,\"ticks\":\"\",\"zerolinecolor\":\"white\"}},\"shapedefaults\":{\"line\":{\"color\":\"#2a3f5f\"}},\"ternary\":{\"aaxis\":{\"gridcolor\":\"white\",\"linecolor\":\"white\",\"ticks\":\"\"},\"baxis\":{\"gridcolor\":\"white\",\"linecolor\":\"white\",\"ticks\":\"\"},\"bgcolor\":\"#E5ECF6\",\"caxis\":{\"gridcolor\":\"white\",\"linecolor\":\"white\",\"ticks\":\"\"}},\"title\":{\"x\":0.05},\"xaxis\":{\"automargin\":true,\"gridcolor\":\"white\",\"linecolor\":\"white\",\"ticks\":\"\",\"title\":{\"standoff\":15},\"zerolinecolor\":\"white\",\"zerolinewidth\":2},\"yaxis\":{\"automargin\":true,\"gridcolor\":\"white\",\"linecolor\":\"white\",\"ticks\":\"\",\"title\":{\"standoff\":15},\"zerolinecolor\":\"white\",\"zerolinewidth\":2}}},\"title\":{\"text\":\"Outliers (highest & lowest)\"},\"xaxis\":{\"title\":{\"text\":\"Cities\"}},\"yaxis\":{\"title\":{\"text\":\"ratio of motorcyclists\"},\"type\":\"linear\"}},                        {\"responsive\": true}                    ).then(function(){\n",
       "                            \n",
       "var gd = document.getElementById('4ea0d598-764d-41d6-950e-790cdc2dfd8d');\n",
       "var x = new MutationObserver(function (mutations, observer) {{\n",
       "        var display = window.getComputedStyle(gd).display;\n",
       "        if (!display || display === 'none') {{\n",
       "            console.log([gd, 'removed!']);\n",
       "            Plotly.purge(gd);\n",
       "            observer.disconnect();\n",
       "        }}\n",
       "}});\n",
       "\n",
       "// Listen for the removal of the full notebook cells\n",
       "var notebookContainer = gd.closest('#notebook-container');\n",
       "if (notebookContainer) {{\n",
       "    x.observe(notebookContainer, {childList: true});\n",
       "}}\n",
       "\n",
       "// Listen for the clearing of the current output cell\n",
       "var outputEl = gd.closest('.output');\n",
       "if (outputEl) {{\n",
       "    x.observe(outputEl, {childList: true});\n",
       "}}\n",
       "\n",
       "                        })                };                });            </script>        </div>"
      ]
     },
     "metadata": {},
     "output_type": "display_data"
    }
   ],
   "source": [
    "init_notebook_mode(connected=True)\n",
    "for chart in charts:\n",
    "    chart.pop('id', None) # for some reason iplot does not like 'id'\n",
    "iplot(figure)"
   ]
  },
  {
   "cell_type": "code",
   "execution_count": 32,
   "id": "57d27230",
   "metadata": {},
   "outputs": [],
   "source": [
    "figure.write_image(\"../../data/plot/accident_ratio_motorcyclists.png\")"
   ]
  }
 ],
 "metadata": {
  "kernelspec": {
   "display_name": "py38_datareport",
   "language": "python",
   "name": "conda-env-py38_datareport-py"
  },
  "language_info": {
   "codemirror_mode": {
    "name": "ipython",
    "version": 3
   },
   "file_extension": ".py",
   "mimetype": "text/x-python",
   "name": "python",
   "nbconvert_exporter": "python",
   "pygments_lexer": "ipython3",
   "version": "3.8.12"
  }
 },
 "nbformat": 4,
 "nbformat_minor": 5
}
