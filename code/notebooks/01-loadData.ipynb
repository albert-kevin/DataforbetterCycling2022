{
 "cells": [
  {
   "cell_type": "code",
   "execution_count": 2,
   "id": "ac8cbeef",
   "metadata": {},
   "outputs": [],
   "source": [
    "import numpy as np\n",
    "import pandas as pd\n",
    "import dtale\n",
    "import pandas_profiling as pp\n",
    "from IPython.display import Javascript"
   ]
  },
  {
   "cell_type": "markdown",
   "id": "358580cf",
   "metadata": {},
   "source": [
    "# load accidents victims dataset"
   ]
  },
  {
   "cell_type": "code",
   "execution_count": 2,
   "id": "0c198829",
   "metadata": {},
   "outputs": [],
   "source": [
    "accident_victims_2019_df = pd.read_excel('../../data/bronze/TF_ACCIDENTS_VICTIMS_2019.xlsx')"
   ]
  },
  {
   "cell_type": "code",
   "execution_count": 3,
   "id": "df22e666",
   "metadata": {},
   "outputs": [],
   "source": [
    "accident_victims_2020_df = pd.read_excel('../../data/bronze/TF_ACCIDENTS_VICTIMS_2020.xlsx')"
   ]
  },
  {
   "cell_type": "markdown",
   "id": "4384c342",
   "metadata": {},
   "source": [
    "# load accidents only dataset"
   ]
  },
  {
   "cell_type": "code",
   "execution_count": 4,
   "id": "82d15193",
   "metadata": {},
   "outputs": [],
   "source": [
    "accident_2019_df = pd.read_excel('../../data/bronze/TF_ACCIDENTS_2019.xlsx')"
   ]
  },
  {
   "cell_type": "code",
   "execution_count": 5,
   "id": "30b33468",
   "metadata": {},
   "outputs": [],
   "source": [
    "accident_2020_df = pd.read_excel('../../data/bronze/TF_ACCIDENTS_2020.xlsx')"
   ]
  },
  {
   "cell_type": "markdown",
   "id": "2a0355e3",
   "metadata": {},
   "source": [
    "# load air pollution dataset"
   ]
  },
  {
   "cell_type": "code",
   "execution_count": 6,
   "id": "9012e7ba",
   "metadata": {},
   "outputs": [
    {
     "name": "stdout",
     "output_type": "stream",
     "text": [
      "City;Location;Coordinates;Country Code;Pollutant;Source Name;Unit;Value;Last Updated;Country\r",
      "\r\n",
      "Flanders;Belgium - Flanders - 40AB02 - BERENDRECHT;51.34073,4.3218203;BE;PM10;EEA Belgium;µg/m³;39.2;2017-03-13T13:00:00+01:00;Belgium\r",
      "\r\n"
     ]
    }
   ],
   "source": [
    "# check first 2 lines\n",
    "! head -n 2 ../../data/bronze/Air_pollution.csv"
   ]
  },
  {
   "cell_type": "code",
   "execution_count": 7,
   "id": "34e1bdf2",
   "metadata": {},
   "outputs": [],
   "source": [
    "air_pollution_df = pd.read_csv('../../data/bronze/Air_pollution.csv', delimiter=';')"
   ]
  },
  {
   "cell_type": "code",
   "execution_count": 8,
   "id": "b5fd0e43",
   "metadata": {},
   "outputs": [
    {
     "data": {
      "text/html": [
       "<div>\n",
       "<style scoped>\n",
       "    .dataframe tbody tr th:only-of-type {\n",
       "        vertical-align: middle;\n",
       "    }\n",
       "\n",
       "    .dataframe tbody tr th {\n",
       "        vertical-align: top;\n",
       "    }\n",
       "\n",
       "    .dataframe thead th {\n",
       "        text-align: right;\n",
       "    }\n",
       "</style>\n",
       "<table border=\"1\" class=\"dataframe\">\n",
       "  <thead>\n",
       "    <tr style=\"text-align: right;\">\n",
       "      <th></th>\n",
       "      <th>City</th>\n",
       "      <th>Location</th>\n",
       "      <th>Coordinates</th>\n",
       "      <th>Country Code</th>\n",
       "      <th>Pollutant</th>\n",
       "      <th>Source Name</th>\n",
       "      <th>Unit</th>\n",
       "      <th>Value</th>\n",
       "      <th>Last Updated</th>\n",
       "      <th>Country</th>\n",
       "    </tr>\n",
       "  </thead>\n",
       "  <tbody>\n",
       "    <tr>\n",
       "      <th>0</th>\n",
       "      <td>Flanders</td>\n",
       "      <td>Belgium - Flanders - 40AB02 - BERENDRECHT</td>\n",
       "      <td>51.34073,4.3218203</td>\n",
       "      <td>BE</td>\n",
       "      <td>PM10</td>\n",
       "      <td>EEA Belgium</td>\n",
       "      <td>µg/m³</td>\n",
       "      <td>39.2</td>\n",
       "      <td>2017-03-13T13:00:00+01:00</td>\n",
       "      <td>Belgium</td>\n",
       "    </tr>\n",
       "    <tr>\n",
       "      <th>1</th>\n",
       "      <td>Brussels</td>\n",
       "      <td>Belgium - Brussels - 41R012 - UCCLE</td>\n",
       "      <td>50.79663,4.3585386</td>\n",
       "      <td>BE</td>\n",
       "      <td>SO2</td>\n",
       "      <td>EEA Belgium</td>\n",
       "      <td>µg/m³</td>\n",
       "      <td>2.0</td>\n",
       "      <td>2017-07-21T00:00:00+02:00</td>\n",
       "      <td>Belgium</td>\n",
       "    </tr>\n",
       "    <tr>\n",
       "      <th>2</th>\n",
       "      <td>Flanders</td>\n",
       "      <td>Belgium - Flanders - 42N046 - GELLIK</td>\n",
       "      <td>50.882298,5.618874</td>\n",
       "      <td>BE</td>\n",
       "      <td>NO2</td>\n",
       "      <td>EEA Belgium</td>\n",
       "      <td>µg/m³</td>\n",
       "      <td>5.0</td>\n",
       "      <td>2017-07-21T00:00:00+02:00</td>\n",
       "      <td>Belgium</td>\n",
       "    </tr>\n",
       "    <tr>\n",
       "      <th>3</th>\n",
       "      <td>Flanders</td>\n",
       "      <td>Belgium - Flanders - 42R897 - ANTWERPEN</td>\n",
       "      <td>51.250107,4.3421044</td>\n",
       "      <td>BE</td>\n",
       "      <td>SO2</td>\n",
       "      <td>EEA Belgium</td>\n",
       "      <td>µg/m³</td>\n",
       "      <td>0.0</td>\n",
       "      <td>2017-07-21T00:00:00+02:00</td>\n",
       "      <td>Belgium</td>\n",
       "    </tr>\n",
       "    <tr>\n",
       "      <th>4</th>\n",
       "      <td>Wallonia</td>\n",
       "      <td>Belgium - Wallonia - 43H201 - LIEGE</td>\n",
       "      <td>50.624992,5.5474644</td>\n",
       "      <td>BE</td>\n",
       "      <td>SO2</td>\n",
       "      <td>EEA Belgium</td>\n",
       "      <td>µg/m³</td>\n",
       "      <td>0.5</td>\n",
       "      <td>2016-12-21T14:00:00+01:00</td>\n",
       "      <td>Belgium</td>\n",
       "    </tr>\n",
       "    <tr>\n",
       "      <th>...</th>\n",
       "      <td>...</td>\n",
       "      <td>...</td>\n",
       "      <td>...</td>\n",
       "      <td>...</td>\n",
       "      <td>...</td>\n",
       "      <td>...</td>\n",
       "      <td>...</td>\n",
       "      <td>...</td>\n",
       "      <td>...</td>\n",
       "      <td>...</td>\n",
       "    </tr>\n",
       "    <tr>\n",
       "      <th>610</th>\n",
       "      <td>Luxembourg</td>\n",
       "      <td>Belgium - Luxembourg - BETN132</td>\n",
       "      <td>49.71928,5.630398</td>\n",
       "      <td>BE</td>\n",
       "      <td>O3</td>\n",
       "      <td>EEA Belgium</td>\n",
       "      <td>µg/m³</td>\n",
       "      <td>55.5</td>\n",
       "      <td>2020-12-20T02:00:00+01:00</td>\n",
       "      <td>Belgium</td>\n",
       "    </tr>\n",
       "    <tr>\n",
       "      <th>611</th>\n",
       "      <td>Oost-Vlaanderen</td>\n",
       "      <td>Belgium - Oost-Vlaanderen - BETR701</td>\n",
       "      <td>51.05833,3.729298</td>\n",
       "      <td>BE</td>\n",
       "      <td>PM2.5</td>\n",
       "      <td>EEA Belgium</td>\n",
       "      <td>µg/m³</td>\n",
       "      <td>7.5</td>\n",
       "      <td>2020-12-20T02:00:00+01:00</td>\n",
       "      <td>Belgium</td>\n",
       "    </tr>\n",
       "    <tr>\n",
       "      <th>612</th>\n",
       "      <td>Antwerpen</td>\n",
       "      <td>Belgium - Antwerpen - BETR801</td>\n",
       "      <td>51.209663,4.431821</td>\n",
       "      <td>BE</td>\n",
       "      <td>PM2.5</td>\n",
       "      <td>EEA Belgium</td>\n",
       "      <td>µg/m³</td>\n",
       "      <td>7.0</td>\n",
       "      <td>2020-12-20T02:00:00+01:00</td>\n",
       "      <td>Belgium</td>\n",
       "    </tr>\n",
       "    <tr>\n",
       "      <th>613</th>\n",
       "      <td>Antwerpen</td>\n",
       "      <td>Belgium - Antwerpen - BETR831</td>\n",
       "      <td>51.348797,4.3397098</td>\n",
       "      <td>BE</td>\n",
       "      <td>NO2</td>\n",
       "      <td>EEA Belgium</td>\n",
       "      <td>µg/m³</td>\n",
       "      <td>10.0</td>\n",
       "      <td>2020-12-20T02:00:00+01:00</td>\n",
       "      <td>Belgium</td>\n",
       "    </tr>\n",
       "    <tr>\n",
       "      <th>614</th>\n",
       "      <td>Antwerpen</td>\n",
       "      <td>Belgium - Antwerpen - BETR893</td>\n",
       "      <td>51.28138,4.385771</td>\n",
       "      <td>BE</td>\n",
       "      <td>NO2</td>\n",
       "      <td>EEA Belgium</td>\n",
       "      <td>µg/m³</td>\n",
       "      <td>16.5</td>\n",
       "      <td>2020-12-20T02:00:00+01:00</td>\n",
       "      <td>Belgium</td>\n",
       "    </tr>\n",
       "  </tbody>\n",
       "</table>\n",
       "<p>615 rows × 10 columns</p>\n",
       "</div>"
      ],
      "text/plain": [
       "                City                                   Location  \\\n",
       "0           Flanders  Belgium - Flanders - 40AB02 - BERENDRECHT   \n",
       "1           Brussels        Belgium - Brussels - 41R012 - UCCLE   \n",
       "2           Flanders       Belgium - Flanders - 42N046 - GELLIK   \n",
       "3           Flanders    Belgium - Flanders - 42R897 - ANTWERPEN   \n",
       "4           Wallonia        Belgium - Wallonia - 43H201 - LIEGE   \n",
       "..               ...                                        ...   \n",
       "610       Luxembourg             Belgium - Luxembourg - BETN132   \n",
       "611  Oost-Vlaanderen        Belgium - Oost-Vlaanderen - BETR701   \n",
       "612        Antwerpen              Belgium - Antwerpen - BETR801   \n",
       "613        Antwerpen              Belgium - Antwerpen - BETR831   \n",
       "614        Antwerpen              Belgium - Antwerpen - BETR893   \n",
       "\n",
       "             Coordinates Country Code Pollutant  Source Name   Unit  Value  \\\n",
       "0     51.34073,4.3218203           BE      PM10  EEA Belgium  µg/m³   39.2   \n",
       "1     50.79663,4.3585386           BE       SO2  EEA Belgium  µg/m³    2.0   \n",
       "2     50.882298,5.618874           BE       NO2  EEA Belgium  µg/m³    5.0   \n",
       "3    51.250107,4.3421044           BE       SO2  EEA Belgium  µg/m³    0.0   \n",
       "4    50.624992,5.5474644           BE       SO2  EEA Belgium  µg/m³    0.5   \n",
       "..                   ...          ...       ...          ...    ...    ...   \n",
       "610    49.71928,5.630398           BE        O3  EEA Belgium  µg/m³   55.5   \n",
       "611    51.05833,3.729298           BE     PM2.5  EEA Belgium  µg/m³    7.5   \n",
       "612   51.209663,4.431821           BE     PM2.5  EEA Belgium  µg/m³    7.0   \n",
       "613  51.348797,4.3397098           BE       NO2  EEA Belgium  µg/m³   10.0   \n",
       "614    51.28138,4.385771           BE       NO2  EEA Belgium  µg/m³   16.5   \n",
       "\n",
       "                  Last Updated  Country  \n",
       "0    2017-03-13T13:00:00+01:00  Belgium  \n",
       "1    2017-07-21T00:00:00+02:00  Belgium  \n",
       "2    2017-07-21T00:00:00+02:00  Belgium  \n",
       "3    2017-07-21T00:00:00+02:00  Belgium  \n",
       "4    2016-12-21T14:00:00+01:00  Belgium  \n",
       "..                         ...      ...  \n",
       "610  2020-12-20T02:00:00+01:00  Belgium  \n",
       "611  2020-12-20T02:00:00+01:00  Belgium  \n",
       "612  2020-12-20T02:00:00+01:00  Belgium  \n",
       "613  2020-12-20T02:00:00+01:00  Belgium  \n",
       "614  2020-12-20T02:00:00+01:00  Belgium  \n",
       "\n",
       "[615 rows x 10 columns]"
      ]
     },
     "execution_count": 8,
     "metadata": {},
     "output_type": "execute_result"
    }
   ],
   "source": [
    "air_pollution_df"
   ]
  },
  {
   "cell_type": "markdown",
   "id": "2a6e1b4c",
   "metadata": {},
   "source": [
    "# load osm dataset"
   ]
  },
  {
   "cell_type": "code",
   "execution_count": 9,
   "id": "78f2fc77",
   "metadata": {},
   "outputs": [],
   "source": [
    "osm_df = pd.read_excel('../../data/bronze/osm_data.xlsx')"
   ]
  },
  {
   "cell_type": "markdown",
   "id": "cfa2b1f5",
   "metadata": {},
   "source": [
    "# load bike stations dataset "
   ]
  },
  {
   "cell_type": "code",
   "execution_count": 10,
   "id": "f7524377",
   "metadata": {},
   "outputs": [],
   "source": [
    "bike_stations_df = pd.read_json('../../data/bronze/stations_villo.json')"
   ]
  },
  {
   "cell_type": "markdown",
   "id": "c73820d7",
   "metadata": {},
   "source": [
    "# load village population statistics"
   ]
  },
  {
   "cell_type": "markdown",
   "id": "b4107103",
   "metadata": {},
   "source": [
    "**alternative**"
   ]
  },
  {
   "cell_type": "code",
   "execution_count": 3,
   "id": "bf5042bd",
   "metadata": {},
   "outputs": [],
   "source": [
    "village_populations_wiki_df = pd.read_html('https://nl.wikipedia.org/wiki/Tabel_van_Belgische_gemeenten', thousands='.')"
   ]
  },
  {
   "cell_type": "code",
   "execution_count": 6,
   "id": "f123c0ee",
   "metadata": {},
   "outputs": [],
   "source": [
    "village_populations_wiki_df = village_populations_wiki_df[0][[\"Gemeente\", \"Inwoners\", \"Opp.(km²)\"]].reset_index(drop=True)"
   ]
  },
  {
   "cell_type": "code",
   "execution_count": 8,
   "id": "c078b2ab",
   "metadata": {},
   "outputs": [],
   "source": [
    "village_populations_wiki_df.columns = [['Village', '1846', '1990', '1947', '2000', '2021', 'kmOpp']]"
   ]
  },
  {
   "cell_type": "code",
   "execution_count": 9,
   "id": "4623e159",
   "metadata": {},
   "outputs": [],
   "source": [
    "village_populations_wiki_df = village_populations_wiki_df[[\"Village\", \"2000\", \"kmOpp\"]]"
   ]
  },
  {
   "cell_type": "code",
   "execution_count": 11,
   "id": "01126f1f",
   "metadata": {},
   "outputs": [],
   "source": [
    "village_populations_wiki_df.columns = [\"Village\", \"Population\", \"km2_size\"]"
   ]
  },
  {
   "cell_type": "code",
   "execution_count": 30,
   "id": "f2a2656c",
   "metadata": {},
   "outputs": [
    {
     "data": {
      "text/html": [
       "<div>\n",
       "<style scoped>\n",
       "    .dataframe tbody tr th:only-of-type {\n",
       "        vertical-align: middle;\n",
       "    }\n",
       "\n",
       "    .dataframe tbody tr th {\n",
       "        vertical-align: top;\n",
       "    }\n",
       "\n",
       "    .dataframe thead th {\n",
       "        text-align: right;\n",
       "    }\n",
       "</style>\n",
       "<table border=\"1\" class=\"dataframe\">\n",
       "  <thead>\n",
       "    <tr style=\"text-align: right;\">\n",
       "      <th></th>\n",
       "      <th>Village</th>\n",
       "      <th>Population</th>\n",
       "      <th>km2_size</th>\n",
       "    </tr>\n",
       "  </thead>\n",
       "  <tbody>\n",
       "    <tr>\n",
       "      <th>0</th>\n",
       "      <td>Antwerpen</td>\n",
       "      <td>446525</td>\n",
       "      <td>204,51</td>\n",
       "    </tr>\n",
       "    <tr>\n",
       "      <th>1</th>\n",
       "      <td>Gent</td>\n",
       "      <td>224180</td>\n",
       "      <td>156,18</td>\n",
       "    </tr>\n",
       "    <tr>\n",
       "      <th>2</th>\n",
       "      <td>Charleroi</td>\n",
       "      <td>200827</td>\n",
       "      <td>102,08</td>\n",
       "    </tr>\n",
       "    <tr>\n",
       "      <th>3</th>\n",
       "      <td>Luik</td>\n",
       "      <td>185639</td>\n",
       "      <td>69,39</td>\n",
       "    </tr>\n",
       "    <tr>\n",
       "      <th>4</th>\n",
       "      <td>Brussel</td>\n",
       "      <td>133859</td>\n",
       "      <td>32,61</td>\n",
       "    </tr>\n",
       "    <tr>\n",
       "      <th>...</th>\n",
       "      <td>...</td>\n",
       "      <td>...</td>\n",
       "      <td>...</td>\n",
       "    </tr>\n",
       "    <tr>\n",
       "      <th>576</th>\n",
       "      <td>Martelange</td>\n",
       "      <td>1428</td>\n",
       "      <td>29,67</td>\n",
       "    </tr>\n",
       "    <tr>\n",
       "      <th>577</th>\n",
       "      <td>Herbeumont</td>\n",
       "      <td>1434</td>\n",
       "      <td>58,81</td>\n",
       "    </tr>\n",
       "    <tr>\n",
       "      <th>578</th>\n",
       "      <td>Daverdisse</td>\n",
       "      <td>1360</td>\n",
       "      <td>56,40</td>\n",
       "    </tr>\n",
       "    <tr>\n",
       "      <th>579</th>\n",
       "      <td>Mesen</td>\n",
       "      <td>964</td>\n",
       "      <td>3,58</td>\n",
       "    </tr>\n",
       "    <tr>\n",
       "      <th>580</th>\n",
       "      <td>Herstappe</td>\n",
       "      <td>85</td>\n",
       "      <td>1,35</td>\n",
       "    </tr>\n",
       "  </tbody>\n",
       "</table>\n",
       "<p>581 rows × 3 columns</p>\n",
       "</div>"
      ],
      "text/plain": [
       "        Village  Population km2_size\n",
       "0     Antwerpen      446525   204,51\n",
       "1          Gent      224180   156,18\n",
       "2     Charleroi      200827   102,08\n",
       "3          Luik      185639    69,39\n",
       "4       Brussel      133859    32,61\n",
       "..          ...         ...      ...\n",
       "576  Martelange        1428    29,67\n",
       "577  Herbeumont        1434    58,81\n",
       "578  Daverdisse        1360    56,40\n",
       "579       Mesen         964     3,58\n",
       "580   Herstappe          85     1,35\n",
       "\n",
       "[581 rows x 3 columns]"
      ]
     },
     "execution_count": 30,
     "metadata": {},
     "output_type": "execute_result"
    }
   ],
   "source": [
    "village_populations_wiki_df"
   ]
  },
  {
   "cell_type": "markdown",
   "id": "6f32bbc1",
   "metadata": {},
   "source": [
    "# Convert columns to best possible dtypes"
   ]
  },
  {
   "cell_type": "code",
   "execution_count": 31,
   "id": "45c51f2f",
   "metadata": {},
   "outputs": [],
   "source": [
    "accident_victims_2019_df = accident_victims_2019_df.convert_dtypes()\n",
    "accident_victims_2020_df = accident_victims_2020_df.convert_dtypes()\n",
    "accident_2019_df = accident_2019_df.convert_dtypes()\n",
    "accident_2020_df = accident_2020_df.convert_dtypes()\n",
    "air_pollution_df = air_pollution_df.convert_dtypes()\n",
    "osm_df = osm_df.convert_dtypes()\n",
    "bike_stations_df = bike_stations_df.convert_dtypes()\n",
    "# village_populations_wiki_df = village_populations_wiki_df.convert_dtypes()"
   ]
  },
  {
   "cell_type": "markdown",
   "id": "dee583bf",
   "metadata": {},
   "source": [
    "# data saving into silver"
   ]
  },
  {
   "cell_type": "code",
   "execution_count": 32,
   "id": "f6b15afa",
   "metadata": {},
   "outputs": [],
   "source": [
    "# we loaded and cleaned some data and store it from bronze into silver folder"
   ]
  },
  {
   "cell_type": "code",
   "execution_count": 33,
   "id": "42dd42bf",
   "metadata": {},
   "outputs": [],
   "source": [
    "# export without the index, add encoding, delimiter and rounded to two decimals\n",
    "accident_victims_2019_df.to_csv(\"../../data/silver/accident_victims_2019_df.csv\", encoding='utf-8', sep=';', index=False)\n",
    "accident_victims_2020_df.to_csv(\"../../data/silver/accident_victims_2020_df.csv\", encoding='utf-8', sep=';', index=False)\n",
    "accident_2019_df.to_csv(\"../../data/silver/accident_2019_df.csv\", encoding='utf-8', sep=';', index=False)\n",
    "accident_2020_df.to_csv(\"../../data/silver/accident_2020_df.csv\", encoding='utf-8', sep=';', index=False)\n",
    "air_pollution_df.to_csv(\"../../data/silver/air_pollution_df.csv\", encoding='utf-8', sep=';', index=False)\n",
    "osm_df.to_csv(\"../../data/silver/osm_df.csv\", encoding='utf-8', sep=';', index=False)\n",
    "bike_stations_df.to_csv(\"../../data/silver/bike_stations_df.csv\", encoding='utf-8', sep=';', index=False)\n",
    "village_populations_wiki_df.to_csv(\"../../data/silver/village_populations_wiki_df.csv\", encoding='utf-8', sep=';', index=False)"
   ]
  },
  {
   "cell_type": "code",
   "execution_count": 34,
   "id": "d7d98b30",
   "metadata": {},
   "outputs": [],
   "source": [
    "# parquet preserve the schema with optimal compression\n",
    "accident_victims_2019_df.to_parquet(\"../../data/silver/accident_victims_2019_df.parquet\")\n",
    "accident_victims_2020_df.to_parquet(\"../../data/silver/accident_victims_2020_df.parquet\")\n",
    "accident_2019_df.to_parquet(\"../../data/silver/accident_2019_df.parquet\")\n",
    "accident_2020_df.to_parquet(\"../../data/silver/accident_2020_df.parquet\")\n",
    "air_pollution_df.to_parquet(\"../../data/silver/air_pollution_df.parquet\")\n",
    "# osm_df.to_parquet(\"../../data/silver/osm_df.parquet\")\n",
    "bike_stations_df.to_parquet(\"../../data/silver/bike_stations_df.parquet\")\n",
    "village_populations_wiki_df.to_parquet(\"../../data/silver/village_populations_wiki_df.parquet\")"
   ]
  },
  {
   "cell_type": "code",
   "execution_count": null,
   "id": "0a90c0a2",
   "metadata": {},
   "outputs": [],
   "source": []
  },
  {
   "cell_type": "code",
   "execution_count": null,
   "id": "072229f5",
   "metadata": {},
   "outputs": [],
   "source": []
  },
  {
   "cell_type": "code",
   "execution_count": null,
   "id": "d0923637",
   "metadata": {},
   "outputs": [],
   "source": []
  }
 ],
 "metadata": {
  "kernelspec": {
   "display_name": "py38_datareport",
   "language": "python",
   "name": "conda-env-py38_datareport-py"
  },
  "language_info": {
   "codemirror_mode": {
    "name": "ipython",
    "version": 3
   },
   "file_extension": ".py",
   "mimetype": "text/x-python",
   "name": "python",
   "nbconvert_exporter": "python",
   "pygments_lexer": "ipython3",
   "version": "3.8.12"
  }
 },
 "nbformat": 4,
 "nbformat_minor": 5
}
